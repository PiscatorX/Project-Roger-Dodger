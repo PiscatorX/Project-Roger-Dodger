{
 "cells": [
  {
   "cell_type": "code",
   "execution_count": 1,
   "metadata": {
    "lines_to_next_cell": 2
   },
   "outputs": [],
   "source": [
    "from sklearn.model_selection import train_test_split\n",
    "from sklearn.ensemble import RandomForestRegressor\n",
    "from sklearn.preprocessing import StandardScaler\n",
    "from sklearn.tree import DecisionTreeRegressor\n",
    "from load_data import GetZeoliteTsv\n",
    "import matplotlib.pyplot as plt\n",
    "from sklearn import metrics\n",
    "from scipy import stats\n",
    "import seaborn as sns\n",
    "import pandas as pd\n",
    "import numpy as np\n",
    "import os\n",
    "np.random.seed(1)"
   ]
  },
  {
   "cell_type": "code",
   "execution_count": 2,
   "metadata": {
    "lines_to_next_cell": 2
   },
   "outputs": [],
   "source": [
    "#zeolite datafile exported from excel\n",
    "zeolite_fname = \"/home/drewx/Documents/Project-Roger-Dodger/Python-ML/zeolites database one febl14.txt\"\n",
    "#filename for datafile\n",
    "zeolite_outfile = \"ZeoX_Final_encoded.tsv\" "
   ]
  },
  {
   "cell_type": "code",
   "execution_count": 3,
   "metadata": {
    "lines_to_next_cell": 2
   },
   "outputs": [],
   "source": [
    "#open the raw tsv data file \n",
    "#the file has to be correctly formatted with columns headers  \n",
    "zeolite_fileObj = open(zeolite_fname)"
   ]
  },
  {
   "cell_type": "code",
   "execution_count": 4,
   "metadata": {
    "lines_to_next_cell": 2
   },
   "outputs": [],
   "source": [
    "#create an instance to start processing the datafile\n",
    "getZeo = GetZeoliteTsv(zeolite_fileObj, zeolite_outfile)"
   ]
  },
  {
   "cell_type": "code",
   "execution_count": 5,
   "metadata": {
    "lines_to_next_cell": 2,
    "scrolled": true
   },
   "outputs": [
    {
     "data": {
      "text/html": [
       "<div>\n",
       "<style scoped>\n",
       "    .dataframe tbody tr th:only-of-type {\n",
       "        vertical-align: middle;\n",
       "    }\n",
       "\n",
       "    .dataframe tbody tr th {\n",
       "        vertical-align: top;\n",
       "    }\n",
       "\n",
       "    .dataframe thead th {\n",
       "        text-align: right;\n",
       "    }\n",
       "</style>\n",
       "<table border=\"1\" class=\"dataframe\">\n",
       "  <thead>\n",
       "    <tr style=\"text-align: right;\">\n",
       "      <th></th>\n",
       "      <th>Adsorbent</th>\n",
       "      <th>SA</th>\n",
       "      <th>Vmicro</th>\n",
       "      <th>Vmeso</th>\n",
       "      <th>pore_size</th>\n",
       "      <th>Si_Al</th>\n",
       "      <th>Na</th>\n",
       "      <th>Ag</th>\n",
       "      <th>Ce</th>\n",
       "      <th>Cu</th>\n",
       "      <th>...</th>\n",
       "      <th>La</th>\n",
       "      <th>Cs</th>\n",
       "      <th>Pd</th>\n",
       "      <th>Nd</th>\n",
       "      <th>adsorbate</th>\n",
       "      <th>C_0</th>\n",
       "      <th>solvent</th>\n",
       "      <th>oil_adsorbent_ratio</th>\n",
       "      <th>Temp</th>\n",
       "      <th>Capacity</th>\n",
       "    </tr>\n",
       "  </thead>\n",
       "  <tbody>\n",
       "    <tr>\n",
       "      <th>0</th>\n",
       "      <td>HFAU-5</td>\n",
       "      <td>NaN</td>\n",
       "      <td>0.2550</td>\n",
       "      <td>0.07</td>\n",
       "      <td>0.8000</td>\n",
       "      <td>2.600</td>\n",
       "      <td>NaN</td>\n",
       "      <td>NaN</td>\n",
       "      <td>NaN</td>\n",
       "      <td>NaN</td>\n",
       "      <td>...</td>\n",
       "      <td>NaN</td>\n",
       "      <td>NaN</td>\n",
       "      <td>NaN</td>\n",
       "      <td>NaN</td>\n",
       "      <td>TP</td>\n",
       "      <td>NaN</td>\n",
       "      <td>n-heptane</td>\n",
       "      <td>100.0</td>\n",
       "      <td>25.0</td>\n",
       "      <td>36.416000</td>\n",
       "    </tr>\n",
       "    <tr>\n",
       "      <th>1</th>\n",
       "      <td>HFAU-17</td>\n",
       "      <td>NaN</td>\n",
       "      <td>0.2550</td>\n",
       "      <td>0.13</td>\n",
       "      <td>0.8000</td>\n",
       "      <td>13.000</td>\n",
       "      <td>NaN</td>\n",
       "      <td>NaN</td>\n",
       "      <td>NaN</td>\n",
       "      <td>NaN</td>\n",
       "      <td>...</td>\n",
       "      <td>NaN</td>\n",
       "      <td>NaN</td>\n",
       "      <td>NaN</td>\n",
       "      <td>NaN</td>\n",
       "      <td>TP</td>\n",
       "      <td>NaN</td>\n",
       "      <td>n-heptane</td>\n",
       "      <td>20.0</td>\n",
       "      <td>25.0</td>\n",
       "      <td>10.176000</td>\n",
       "    </tr>\n",
       "    <tr>\n",
       "      <th>2</th>\n",
       "      <td>HFAU-47</td>\n",
       "      <td>NaN</td>\n",
       "      <td>0.2450</td>\n",
       "      <td>0.11</td>\n",
       "      <td>0.8000</td>\n",
       "      <td>34.000</td>\n",
       "      <td>NaN</td>\n",
       "      <td>NaN</td>\n",
       "      <td>NaN</td>\n",
       "      <td>NaN</td>\n",
       "      <td>...</td>\n",
       "      <td>NaN</td>\n",
       "      <td>NaN</td>\n",
       "      <td>NaN</td>\n",
       "      <td>NaN</td>\n",
       "      <td>TP</td>\n",
       "      <td>NaN</td>\n",
       "      <td>n-heptane</td>\n",
       "      <td>20.0</td>\n",
       "      <td>25.0</td>\n",
       "      <td>5.760000</td>\n",
       "    </tr>\n",
       "    <tr>\n",
       "      <th>3</th>\n",
       "      <td>CeY</td>\n",
       "      <td>590.00</td>\n",
       "      <td>0.2400</td>\n",
       "      <td>NaN</td>\n",
       "      <td>0.8100</td>\n",
       "      <td>2.100</td>\n",
       "      <td>NaN</td>\n",
       "      <td>NaN</td>\n",
       "      <td>2.62</td>\n",
       "      <td>NaN</td>\n",
       "      <td>...</td>\n",
       "      <td>NaN</td>\n",
       "      <td>NaN</td>\n",
       "      <td>NaN</td>\n",
       "      <td>NaN</td>\n",
       "      <td>TP</td>\n",
       "      <td>4.992000</td>\n",
       "      <td>n-heptane</td>\n",
       "      <td>1000.0</td>\n",
       "      <td>80.0</td>\n",
       "      <td>0.640000</td>\n",
       "    </tr>\n",
       "    <tr>\n",
       "      <th>4</th>\n",
       "      <td>CeY</td>\n",
       "      <td>590.00</td>\n",
       "      <td>0.2400</td>\n",
       "      <td>NaN</td>\n",
       "      <td>0.8100</td>\n",
       "      <td>2.100</td>\n",
       "      <td>NaN</td>\n",
       "      <td>NaN</td>\n",
       "      <td>2.62</td>\n",
       "      <td>NaN</td>\n",
       "      <td>...</td>\n",
       "      <td>NaN</td>\n",
       "      <td>NaN</td>\n",
       "      <td>NaN</td>\n",
       "      <td>NaN</td>\n",
       "      <td>BT</td>\n",
       "      <td>4.992000</td>\n",
       "      <td>n-heptane</td>\n",
       "      <td>1000.0</td>\n",
       "      <td>80.0</td>\n",
       "      <td>0.960000</td>\n",
       "    </tr>\n",
       "    <tr>\n",
       "      <th>...</th>\n",
       "      <td>...</td>\n",
       "      <td>...</td>\n",
       "      <td>...</td>\n",
       "      <td>...</td>\n",
       "      <td>...</td>\n",
       "      <td>...</td>\n",
       "      <td>...</td>\n",
       "      <td>...</td>\n",
       "      <td>...</td>\n",
       "      <td>...</td>\n",
       "      <td>...</td>\n",
       "      <td>...</td>\n",
       "      <td>...</td>\n",
       "      <td>...</td>\n",
       "      <td>...</td>\n",
       "      <td>...</td>\n",
       "      <td>...</td>\n",
       "      <td>...</td>\n",
       "      <td>...</td>\n",
       "      <td>...</td>\n",
       "      <td>...</td>\n",
       "    </tr>\n",
       "    <tr>\n",
       "      <th>302</th>\n",
       "      <td>AgX-zeolite</td>\n",
       "      <td>230.16</td>\n",
       "      <td>0.1826</td>\n",
       "      <td>NaN</td>\n",
       "      <td>3.1729</td>\n",
       "      <td>1.031</td>\n",
       "      <td>NaN</td>\n",
       "      <td>0.297</td>\n",
       "      <td>NaN</td>\n",
       "      <td>NaN</td>\n",
       "      <td>...</td>\n",
       "      <td>NaN</td>\n",
       "      <td>NaN</td>\n",
       "      <td>NaN</td>\n",
       "      <td>NaN</td>\n",
       "      <td>TP</td>\n",
       "      <td>36.312849</td>\n",
       "      <td>iso-octane</td>\n",
       "      <td>20.0</td>\n",
       "      <td>30.0</td>\n",
       "      <td>5.767327</td>\n",
       "    </tr>\n",
       "    <tr>\n",
       "      <th>303</th>\n",
       "      <td>AgX-zeolite</td>\n",
       "      <td>230.16</td>\n",
       "      <td>0.1826</td>\n",
       "      <td>NaN</td>\n",
       "      <td>3.1729</td>\n",
       "      <td>1.031</td>\n",
       "      <td>NaN</td>\n",
       "      <td>0.297</td>\n",
       "      <td>NaN</td>\n",
       "      <td>NaN</td>\n",
       "      <td>...</td>\n",
       "      <td>NaN</td>\n",
       "      <td>NaN</td>\n",
       "      <td>NaN</td>\n",
       "      <td>NaN</td>\n",
       "      <td>TP</td>\n",
       "      <td>51.326816</td>\n",
       "      <td>iso-octane</td>\n",
       "      <td>20.0</td>\n",
       "      <td>30.0</td>\n",
       "      <td>6.336634</td>\n",
       "    </tr>\n",
       "    <tr>\n",
       "      <th>304</th>\n",
       "      <td>AgX-zeolite</td>\n",
       "      <td>230.16</td>\n",
       "      <td>0.1826</td>\n",
       "      <td>NaN</td>\n",
       "      <td>3.1729</td>\n",
       "      <td>1.031</td>\n",
       "      <td>NaN</td>\n",
       "      <td>0.297</td>\n",
       "      <td>NaN</td>\n",
       "      <td>NaN</td>\n",
       "      <td>...</td>\n",
       "      <td>NaN</td>\n",
       "      <td>NaN</td>\n",
       "      <td>NaN</td>\n",
       "      <td>NaN</td>\n",
       "      <td>TP</td>\n",
       "      <td>92.527933</td>\n",
       "      <td>iso-octane</td>\n",
       "      <td>20.0</td>\n",
       "      <td>30.0</td>\n",
       "      <td>6.980198</td>\n",
       "    </tr>\n",
       "    <tr>\n",
       "      <th>305</th>\n",
       "      <td>AgX-zeolite</td>\n",
       "      <td>230.16</td>\n",
       "      <td>0.1826</td>\n",
       "      <td>NaN</td>\n",
       "      <td>3.1729</td>\n",
       "      <td>1.031</td>\n",
       "      <td>NaN</td>\n",
       "      <td>0.297</td>\n",
       "      <td>NaN</td>\n",
       "      <td>NaN</td>\n",
       "      <td>...</td>\n",
       "      <td>NaN</td>\n",
       "      <td>NaN</td>\n",
       "      <td>NaN</td>\n",
       "      <td>NaN</td>\n",
       "      <td>TP</td>\n",
       "      <td>142.807263</td>\n",
       "      <td>iso-octane</td>\n",
       "      <td>20.0</td>\n",
       "      <td>30.0</td>\n",
       "      <td>7.376238</td>\n",
       "    </tr>\n",
       "    <tr>\n",
       "      <th>306</th>\n",
       "      <td>AgX-zeolite</td>\n",
       "      <td>230.16</td>\n",
       "      <td>0.1826</td>\n",
       "      <td>NaN</td>\n",
       "      <td>3.1729</td>\n",
       "      <td>1.031</td>\n",
       "      <td>NaN</td>\n",
       "      <td>0.297</td>\n",
       "      <td>NaN</td>\n",
       "      <td>NaN</td>\n",
       "      <td>...</td>\n",
       "      <td>NaN</td>\n",
       "      <td>NaN</td>\n",
       "      <td>NaN</td>\n",
       "      <td>NaN</td>\n",
       "      <td>TP</td>\n",
       "      <td>219.622905</td>\n",
       "      <td>iso-octane</td>\n",
       "      <td>20.0</td>\n",
       "      <td>30.0</td>\n",
       "      <td>7.797030</td>\n",
       "    </tr>\n",
       "  </tbody>\n",
       "</table>\n",
       "<p>307 rows × 23 columns</p>\n",
       "</div>"
      ],
      "text/plain": [
       "       Adsorbent      SA  Vmicro  Vmeso  pore_size   Si_Al  Na     Ag    Ce  \\\n",
       "0         HFAU-5     NaN  0.2550   0.07     0.8000   2.600 NaN    NaN   NaN   \n",
       "1        HFAU-17     NaN  0.2550   0.13     0.8000  13.000 NaN    NaN   NaN   \n",
       "2        HFAU-47     NaN  0.2450   0.11     0.8000  34.000 NaN    NaN   NaN   \n",
       "3            CeY  590.00  0.2400    NaN     0.8100   2.100 NaN    NaN  2.62   \n",
       "4            CeY  590.00  0.2400    NaN     0.8100   2.100 NaN    NaN  2.62   \n",
       "..           ...     ...     ...    ...        ...     ...  ..    ...   ...   \n",
       "302  AgX-zeolite  230.16  0.1826    NaN     3.1729   1.031 NaN  0.297   NaN   \n",
       "303  AgX-zeolite  230.16  0.1826    NaN     3.1729   1.031 NaN  0.297   NaN   \n",
       "304  AgX-zeolite  230.16  0.1826    NaN     3.1729   1.031 NaN  0.297   NaN   \n",
       "305  AgX-zeolite  230.16  0.1826    NaN     3.1729   1.031 NaN  0.297   NaN   \n",
       "306  AgX-zeolite  230.16  0.1826    NaN     3.1729   1.031 NaN  0.297   NaN   \n",
       "\n",
       "     Cu  ...  La  Cs  Pd  Nd  adsorbate         C_0     solvent  \\\n",
       "0   NaN  ... NaN NaN NaN NaN         TP         NaN   n-heptane   \n",
       "1   NaN  ... NaN NaN NaN NaN         TP         NaN   n-heptane   \n",
       "2   NaN  ... NaN NaN NaN NaN         TP         NaN   n-heptane   \n",
       "3   NaN  ... NaN NaN NaN NaN         TP    4.992000   n-heptane   \n",
       "4   NaN  ... NaN NaN NaN NaN         BT    4.992000   n-heptane   \n",
       "..   ..  ...  ..  ..  ..  ..        ...         ...         ...   \n",
       "302 NaN  ... NaN NaN NaN NaN         TP   36.312849  iso-octane   \n",
       "303 NaN  ... NaN NaN NaN NaN         TP   51.326816  iso-octane   \n",
       "304 NaN  ... NaN NaN NaN NaN         TP   92.527933  iso-octane   \n",
       "305 NaN  ... NaN NaN NaN NaN         TP  142.807263  iso-octane   \n",
       "306 NaN  ... NaN NaN NaN NaN         TP  219.622905  iso-octane   \n",
       "\n",
       "    oil_adsorbent_ratio  Temp   Capacity  \n",
       "0                 100.0  25.0  36.416000  \n",
       "1                  20.0  25.0  10.176000  \n",
       "2                  20.0  25.0   5.760000  \n",
       "3                1000.0  80.0   0.640000  \n",
       "4                1000.0  80.0   0.960000  \n",
       "..                  ...   ...        ...  \n",
       "302                20.0  30.0   5.767327  \n",
       "303                20.0  30.0   6.336634  \n",
       "304                20.0  30.0   6.980198  \n",
       "305                20.0  30.0   7.376238  \n",
       "306                20.0  30.0   7.797030  \n",
       "\n",
       "[307 rows x 23 columns]"
      ]
     },
     "execution_count": 5,
     "metadata": {},
     "output_type": "execute_result"
    }
   ],
   "source": [
    "#Sanity check of datatypes\n",
    "#important to recognise that datatypes are detected from the files\n",
    "#this step alsos makes the string variables as categorical variables\n",
    "getZeo.set_dtypes()"
   ]
  },
  {
   "cell_type": "code",
   "execution_count": 6,
   "metadata": {
    "lines_to_next_cell": 2,
    "scrolled": true
   },
   "outputs": [
    {
     "data": {
      "text/html": [
       "<div>\n",
       "<style scoped>\n",
       "    .dataframe tbody tr th:only-of-type {\n",
       "        vertical-align: middle;\n",
       "    }\n",
       "\n",
       "    .dataframe tbody tr th {\n",
       "        vertical-align: top;\n",
       "    }\n",
       "\n",
       "    .dataframe thead th {\n",
       "        text-align: right;\n",
       "    }\n",
       "</style>\n",
       "<table border=\"1\" class=\"dataframe\">\n",
       "  <thead>\n",
       "    <tr style=\"text-align: right;\">\n",
       "      <th></th>\n",
       "      <th>Feature</th>\n",
       "      <th>Missingness</th>\n",
       "    </tr>\n",
       "  </thead>\n",
       "  <tbody>\n",
       "    <tr>\n",
       "      <th>Adsorbent</th>\n",
       "      <td>Adsorbent</td>\n",
       "      <td>0.00</td>\n",
       "    </tr>\n",
       "    <tr>\n",
       "      <th>SA</th>\n",
       "      <td>SA</td>\n",
       "      <td>0.98</td>\n",
       "    </tr>\n",
       "    <tr>\n",
       "      <th>Vmicro</th>\n",
       "      <td>Vmicro</td>\n",
       "      <td>8.47</td>\n",
       "    </tr>\n",
       "    <tr>\n",
       "      <th>Vmeso</th>\n",
       "      <td>Vmeso</td>\n",
       "      <td>65.80</td>\n",
       "    </tr>\n",
       "    <tr>\n",
       "      <th>pore_size</th>\n",
       "      <td>pore_size</td>\n",
       "      <td>42.67</td>\n",
       "    </tr>\n",
       "    <tr>\n",
       "      <th>Si_Al</th>\n",
       "      <td>Si_Al</td>\n",
       "      <td>3.91</td>\n",
       "    </tr>\n",
       "    <tr>\n",
       "      <th>Na</th>\n",
       "      <td>Na</td>\n",
       "      <td>54.40</td>\n",
       "    </tr>\n",
       "    <tr>\n",
       "      <th>Ag</th>\n",
       "      <td>Ag</td>\n",
       "      <td>59.93</td>\n",
       "    </tr>\n",
       "    <tr>\n",
       "      <th>Ce</th>\n",
       "      <td>Ce</td>\n",
       "      <td>73.29</td>\n",
       "    </tr>\n",
       "    <tr>\n",
       "      <th>Cu</th>\n",
       "      <td>Cu</td>\n",
       "      <td>79.48</td>\n",
       "    </tr>\n",
       "    <tr>\n",
       "      <th>Ni</th>\n",
       "      <td>Ni</td>\n",
       "      <td>89.25</td>\n",
       "    </tr>\n",
       "    <tr>\n",
       "      <th>Zn</th>\n",
       "      <td>Zn</td>\n",
       "      <td>99.35</td>\n",
       "    </tr>\n",
       "    <tr>\n",
       "      <th>Fe2</th>\n",
       "      <td>Fe2</td>\n",
       "      <td>100.00</td>\n",
       "    </tr>\n",
       "    <tr>\n",
       "      <th>La</th>\n",
       "      <td>La</td>\n",
       "      <td>100.00</td>\n",
       "    </tr>\n",
       "    <tr>\n",
       "      <th>Cs</th>\n",
       "      <td>Cs</td>\n",
       "      <td>98.05</td>\n",
       "    </tr>\n",
       "    <tr>\n",
       "      <th>Pd</th>\n",
       "      <td>Pd</td>\n",
       "      <td>100.00</td>\n",
       "    </tr>\n",
       "    <tr>\n",
       "      <th>Nd</th>\n",
       "      <td>Nd</td>\n",
       "      <td>100.00</td>\n",
       "    </tr>\n",
       "    <tr>\n",
       "      <th>adsorbate</th>\n",
       "      <td>adsorbate</td>\n",
       "      <td>0.00</td>\n",
       "    </tr>\n",
       "    <tr>\n",
       "      <th>C_0</th>\n",
       "      <td>C_0</td>\n",
       "      <td>0.98</td>\n",
       "    </tr>\n",
       "    <tr>\n",
       "      <th>solvent</th>\n",
       "      <td>solvent</td>\n",
       "      <td>0.00</td>\n",
       "    </tr>\n",
       "    <tr>\n",
       "      <th>oil_adsorbent_ratio</th>\n",
       "      <td>oil_adsorbent_ratio</td>\n",
       "      <td>2.28</td>\n",
       "    </tr>\n",
       "    <tr>\n",
       "      <th>Temp</th>\n",
       "      <td>Temp</td>\n",
       "      <td>2.93</td>\n",
       "    </tr>\n",
       "    <tr>\n",
       "      <th>Capacity</th>\n",
       "      <td>Capacity</td>\n",
       "      <td>0.00</td>\n",
       "    </tr>\n",
       "  </tbody>\n",
       "</table>\n",
       "</div>"
      ],
      "text/plain": [
       "                                 Feature  Missingness\n",
       "Adsorbent                      Adsorbent         0.00\n",
       "SA                                    SA         0.98\n",
       "Vmicro                            Vmicro         8.47\n",
       "Vmeso                              Vmeso        65.80\n",
       "pore_size                      pore_size        42.67\n",
       "Si_Al                              Si_Al         3.91\n",
       "Na                                    Na        54.40\n",
       "Ag                                    Ag        59.93\n",
       "Ce                                    Ce        73.29\n",
       "Cu                                    Cu        79.48\n",
       "Ni                                    Ni        89.25\n",
       "Zn                                    Zn        99.35\n",
       "Fe2                                  Fe2       100.00\n",
       "La                                    La       100.00\n",
       "Cs                                    Cs        98.05\n",
       "Pd                                    Pd       100.00\n",
       "Nd                                    Nd       100.00\n",
       "adsorbate                      adsorbate         0.00\n",
       "C_0                                  C_0         0.98\n",
       "solvent                          solvent         0.00\n",
       "oil_adsorbent_ratio  oil_adsorbent_ratio         2.28\n",
       "Temp                                Temp         2.93\n",
       "Capacity                        Capacity         0.00"
      ]
     },
     "execution_count": 6,
     "metadata": {},
     "output_type": "execute_result"
    }
   ],
   "source": [
    "#this counts the missing records per column and saves them to provided filename\n",
    "getZeo.missingness(\"ZeoX_Final_encoded.miss\")"
   ]
  },
  {
   "cell_type": "code",
   "execution_count": 7,
   "metadata": {
    "lines_to_next_cell": 2
   },
   "outputs": [
    {
     "data": {
      "text/plain": [
       "(307, 23)"
      ]
     },
     "execution_count": 7,
     "metadata": {},
     "output_type": "execute_result"
    }
   ],
   "source": [
    "#take not of number of columns\n",
    "getZeo.zeolite_df.shape"
   ]
  },
  {
   "cell_type": "code",
   "execution_count": 8,
   "metadata": {
    "lines_to_next_cell": 2
   },
   "outputs": [],
   "source": [
    "#Drops empty columns inplace\n",
    "getZeo.zeolite_df.dropna(how='all', axis=1, inplace = True)"
   ]
  },
  {
   "cell_type": "code",
   "execution_count": 9,
   "metadata": {
    "lines_to_next_cell": 2
   },
   "outputs": [
    {
     "data": {
      "text/plain": [
       "(307, 19)"
      ]
     },
     "execution_count": 9,
     "metadata": {},
     "output_type": "execute_result"
    }
   ],
   "source": [
    "#Very that columns have indeed been lost\n",
    "getZeo.zeolite_df.shape"
   ]
  },
  {
   "cell_type": "code",
   "execution_count": 10,
   "metadata": {
    "lines_to_next_cell": 2
   },
   "outputs": [],
   "source": [
    "#Imputation: step by step for easy debugging\n",
    "getZeo.GroupMeanImputation('Adsorbent','SA')\n",
    "#This last step takes care of singletons \n",
    "getZeo.MeanImputation('SA')"
   ]
  },
  {
   "cell_type": "code",
   "execution_count": 11,
   "metadata": {
    "lines_to_next_cell": 2
   },
   "outputs": [],
   "source": [
    "getZeo.GroupMeanImputation('Adsorbent','Vmicro')\n",
    "getZeo.MeanImputation('Vmicro')"
   ]
  },
  {
   "cell_type": "code",
   "execution_count": 12,
   "metadata": {
    "lines_to_next_cell": 2
   },
   "outputs": [],
   "source": [
    "getZeo.GroupMeanImputation('Adsorbent','Vmeso')\n",
    "getZeo.MeanImputation('Vmeso')"
   ]
  },
  {
   "cell_type": "code",
   "execution_count": 13,
   "metadata": {
    "lines_to_next_cell": 2
   },
   "outputs": [],
   "source": [
    "getZeo.GroupMeanImputation('Adsorbent','pore_size')\n",
    "getZeo.MeanImputation('pore_size')"
   ]
  },
  {
   "cell_type": "code",
   "execution_count": 14,
   "metadata": {
    "lines_to_next_cell": 2
   },
   "outputs": [],
   "source": [
    "getZeo.GroupMeanImputation('Adsorbent','pore_size')\n",
    "getZeo.MeanImputation('pore_size')"
   ]
  },
  {
   "cell_type": "code",
   "execution_count": 15,
   "metadata": {
    "lines_to_next_cell": 2
   },
   "outputs": [],
   "source": [
    "getZeo.GroupMeanImputation('Adsorbent','Si_Al')\n",
    "getZeo.MeanImputation('Si_Al')"
   ]
  },
  {
   "cell_type": "code",
   "execution_count": 16,
   "metadata": {
    "lines_to_next_cell": 2
   },
   "outputs": [],
   "source": [
    "#Mean imputations only for these variables\n",
    "#Names from column headers\n",
    "for var in [\"C_0\",\"oil_adsorbent_ratio\",\"Temp\"]:\n",
    "         getZeo.MeanImputation(var)"
   ]
  },
  {
   "cell_type": "code",
   "execution_count": 17,
   "metadata": {
    "lines_to_next_cell": 2
   },
   "outputs": [
    {
     "data": {
      "text/plain": [
       "Index(['Adsorbent', 'SA', 'Vmicro', 'Vmeso', 'pore_size', 'Si_Al', 'Na', 'Ag',\n",
       "       'Ce', 'Cu', 'Ni', 'Zn', 'Cs', 'adsorbate', 'C_0', 'solvent',\n",
       "       'oil_adsorbent_ratio', 'Temp', 'Capacity'],\n",
       "      dtype='object')"
      ]
     },
     "execution_count": 17,
     "metadata": {},
     "output_type": "execute_result"
    }
   ],
   "source": [
    "getZeo.zeolite_df.columns"
   ]
  },
  {
   "cell_type": "code",
   "execution_count": 18,
   "metadata": {
    "lines_to_next_cell": 2
   },
   "outputs": [],
   "source": [
    "#Fill missing values for metals with zeros\n",
    "for metal in ['Na', 'Ag', 'Ce', 'Cu', 'Ni', 'Zn','Cs']:\n",
    "         getZeo.zerofill(metal)"
   ]
  },
  {
   "cell_type": "code",
   "execution_count": 19,
   "metadata": {
    "lines_to_next_cell": 2
   },
   "outputs": [],
   "source": [
    "#convert the categorical variables to intergers also known as one-hot-encoding\n",
    "#https://towardsdatascience.com/the-dummys-guide-to-creating-dummy-variables-f21faddb1d40\n",
    "getZeo.encode_categorical()"
   ]
  },
  {
   "cell_type": "code",
   "execution_count": 20,
   "metadata": {
    "lines_to_next_cell": 2
   },
   "outputs": [],
   "source": [
    "#save the new data to a tsv file\n",
    "getZeo.save_zeo(\"ZeoX_Final_encoded.tsv\")"
   ]
  },
  {
   "cell_type": "code",
   "execution_count": 21,
   "metadata": {
    "lines_to_next_cell": 2
   },
   "outputs": [],
   "source": [
    "#get our dataframe \n",
    "zeolite_final  = getZeo.zeolite_df"
   ]
  },
  {
   "cell_type": "code",
   "execution_count": 22,
   "metadata": {
    "lines_to_next_cell": 2
   },
   "outputs": [
    {
     "data": {
      "text/plain": [
       "(307, 46)"
      ]
     },
     "execution_count": 22,
     "metadata": {},
     "output_type": "execute_result"
    }
   ],
   "source": [
    "#check our dataframe\n",
    "zeolite_final.shape"
   ]
  },
  {
   "cell_type": "code",
   "execution_count": 23,
   "metadata": {
    "lines_to_next_cell": 2
   },
   "outputs": [],
   "source": [
    "#We extract our data features \n",
    "#attributes \n",
    "y = zeolite_final.loc[:,\"Capacity\"].values\n",
    "#labels\n",
    "X = zeolite_final.drop([\"Capacity\"], axis = 1).values"
   ]
  },
  {
   "cell_type": "code",
   "execution_count": 24,
   "metadata": {
    "lines_to_next_cell": 2
   },
   "outputs": [],
   "source": [
    "#Split our data into training and test dataset \n",
    "X_train, X_test, y_train, y_test = train_test_split(X, y, test_size=0.2, random_state=0)"
   ]
  },
  {
   "cell_type": "code",
   "execution_count": 25,
   "metadata": {
    "lines_to_next_cell": 2
   },
   "outputs": [
    {
     "data": {
      "text/plain": [
       "(245,)"
      ]
     },
     "execution_count": 25,
     "metadata": {},
     "output_type": "execute_result"
    }
   ],
   "source": [
    "y_train.shape"
   ]
  },
  {
   "cell_type": "code",
   "execution_count": 26,
   "metadata": {
    "lines_to_next_cell": 2
   },
   "outputs": [
    {
     "data": {
      "text/plain": [
       "(62,)"
      ]
     },
     "execution_count": 26,
     "metadata": {},
     "output_type": "execute_result"
    }
   ],
   "source": [
    "y_test.shape"
   ]
  },
  {
   "cell_type": "code",
   "execution_count": 27,
   "metadata": {
    "lines_to_next_cell": 2
   },
   "outputs": [],
   "source": [
    "#Standardize features by removing the mean and scaling to unit variasnce\n",
    "sc = StandardScaler()\n",
    "#https://datascience.stackexchange.com/questions/12321/whats-the-difference-between-fit-and-fit-transform-in-scikit-learn-models#:~:text=%22fit%22%20computes%20the%20mean%20and,both%20at%20the%20same%20time.\n",
    "#This should not make much of a difference but its good practice\n",
    "#TO DO\n",
    "#Compare accuracy with and without scaling\n",
    "X_train = sc.fit_transform(X_train)\n",
    "X_test = sc.transform(X_test)"
   ]
  },
  {
   "cell_type": "code",
   "execution_count": 28,
   "metadata": {
    "lines_to_next_cell": 2
   },
   "outputs": [],
   "source": [
    "n_trees = 1000\n",
    "n_feat = 0\n",
    "#max_features=n_features,\n",
    "regressor = RandomForestRegressor(n_estimators=n_trees, random_state=0)\n",
    "#TO DO\n",
    "#increase n_estimators\n",
    "#run in parallel"
   ]
  },
  {
   "cell_type": "code",
   "execution_count": 29,
   "metadata": {
    "lines_to_next_cell": 2
   },
   "outputs": [
    {
     "data": {
      "text/plain": [
       "RandomForestRegressor(n_estimators=1000, random_state=0)"
      ]
     },
     "execution_count": 29,
     "metadata": {},
     "output_type": "execute_result"
    }
   ],
   "source": [
    "regressor.fit(X_train, y_train)"
   ]
  },
  {
   "cell_type": "code",
   "execution_count": 30,
   "metadata": {
    "lines_to_next_cell": 2
   },
   "outputs": [],
   "source": [
    "y_pred = regressor.predict(X_test)"
   ]
  },
  {
   "cell_type": "code",
   "execution_count": 31,
   "metadata": {
    "lines_to_next_cell": 2
   },
   "outputs": [],
   "source": [
    "data = pd.DataFrame.from_dict({'y_pred': y_pred, 'y_test': y_test, 'errors': y_pred - y_test, 'abs_errors': abs(y_pred - y_test)})"
   ]
  },
  {
   "cell_type": "code",
   "execution_count": 32,
   "metadata": {
    "lines_to_next_cell": 2,
    "scrolled": true
   },
   "outputs": [
    {
     "data": {
      "text/html": [
       "<div>\n",
       "<style scoped>\n",
       "    .dataframe tbody tr th:only-of-type {\n",
       "        vertical-align: middle;\n",
       "    }\n",
       "\n",
       "    .dataframe tbody tr th {\n",
       "        vertical-align: top;\n",
       "    }\n",
       "\n",
       "    .dataframe thead th {\n",
       "        text-align: right;\n",
       "    }\n",
       "</style>\n",
       "<table border=\"1\" class=\"dataframe\">\n",
       "  <thead>\n",
       "    <tr style=\"text-align: right;\">\n",
       "      <th></th>\n",
       "      <th>y_pred</th>\n",
       "      <th>y_test</th>\n",
       "      <th>errors</th>\n",
       "      <th>abs_errors</th>\n",
       "    </tr>\n",
       "  </thead>\n",
       "  <tbody>\n",
       "    <tr>\n",
       "      <th>0</th>\n",
       "      <td>48.862466</td>\n",
       "      <td>54.000000</td>\n",
       "      <td>-5.137534</td>\n",
       "      <td>5.137534</td>\n",
       "    </tr>\n",
       "    <tr>\n",
       "      <th>1</th>\n",
       "      <td>30.326176</td>\n",
       "      <td>35.202098</td>\n",
       "      <td>-4.875922</td>\n",
       "      <td>4.875922</td>\n",
       "    </tr>\n",
       "    <tr>\n",
       "      <th>2</th>\n",
       "      <td>188.660285</td>\n",
       "      <td>197.660393</td>\n",
       "      <td>-9.000109</td>\n",
       "      <td>9.000109</td>\n",
       "    </tr>\n",
       "    <tr>\n",
       "      <th>3</th>\n",
       "      <td>26.563374</td>\n",
       "      <td>29.300268</td>\n",
       "      <td>-2.736894</td>\n",
       "      <td>2.736894</td>\n",
       "    </tr>\n",
       "    <tr>\n",
       "      <th>4</th>\n",
       "      <td>23.640700</td>\n",
       "      <td>24.125044</td>\n",
       "      <td>-0.484344</td>\n",
       "      <td>0.484344</td>\n",
       "    </tr>\n",
       "    <tr>\n",
       "      <th>5</th>\n",
       "      <td>13.576457</td>\n",
       "      <td>25.615385</td>\n",
       "      <td>-12.038927</td>\n",
       "      <td>12.038927</td>\n",
       "    </tr>\n",
       "    <tr>\n",
       "      <th>6</th>\n",
       "      <td>94.856515</td>\n",
       "      <td>88.225362</td>\n",
       "      <td>6.631152</td>\n",
       "      <td>6.631152</td>\n",
       "    </tr>\n",
       "    <tr>\n",
       "      <th>7</th>\n",
       "      <td>39.010565</td>\n",
       "      <td>28.000000</td>\n",
       "      <td>11.010565</td>\n",
       "      <td>11.010565</td>\n",
       "    </tr>\n",
       "    <tr>\n",
       "      <th>8</th>\n",
       "      <td>121.437624</td>\n",
       "      <td>106.240000</td>\n",
       "      <td>15.197624</td>\n",
       "      <td>15.197624</td>\n",
       "    </tr>\n",
       "    <tr>\n",
       "      <th>9</th>\n",
       "      <td>44.464232</td>\n",
       "      <td>34.000000</td>\n",
       "      <td>10.464232</td>\n",
       "      <td>10.464232</td>\n",
       "    </tr>\n",
       "    <tr>\n",
       "      <th>10</th>\n",
       "      <td>187.803746</td>\n",
       "      <td>183.091095</td>\n",
       "      <td>4.712651</td>\n",
       "      <td>4.712651</td>\n",
       "    </tr>\n",
       "    <tr>\n",
       "      <th>11</th>\n",
       "      <td>2.731764</td>\n",
       "      <td>2.930000</td>\n",
       "      <td>-0.198236</td>\n",
       "      <td>0.198236</td>\n",
       "    </tr>\n",
       "    <tr>\n",
       "      <th>12</th>\n",
       "      <td>21.883822</td>\n",
       "      <td>21.927205</td>\n",
       "      <td>-0.043383</td>\n",
       "      <td>0.043383</td>\n",
       "    </tr>\n",
       "    <tr>\n",
       "      <th>13</th>\n",
       "      <td>35.839248</td>\n",
       "      <td>34.300000</td>\n",
       "      <td>1.539248</td>\n",
       "      <td>1.539248</td>\n",
       "    </tr>\n",
       "    <tr>\n",
       "      <th>14</th>\n",
       "      <td>13.020250</td>\n",
       "      <td>3.261000</td>\n",
       "      <td>9.759250</td>\n",
       "      <td>9.759250</td>\n",
       "    </tr>\n",
       "    <tr>\n",
       "      <th>15</th>\n",
       "      <td>16.605867</td>\n",
       "      <td>16.117314</td>\n",
       "      <td>0.488553</td>\n",
       "      <td>0.488553</td>\n",
       "    </tr>\n",
       "    <tr>\n",
       "      <th>16</th>\n",
       "      <td>37.733064</td>\n",
       "      <td>34.900071</td>\n",
       "      <td>2.832993</td>\n",
       "      <td>2.832993</td>\n",
       "    </tr>\n",
       "    <tr>\n",
       "      <th>17</th>\n",
       "      <td>13.006494</td>\n",
       "      <td>8.963689</td>\n",
       "      <td>4.042805</td>\n",
       "      <td>4.042805</td>\n",
       "    </tr>\n",
       "    <tr>\n",
       "      <th>18</th>\n",
       "      <td>12.672987</td>\n",
       "      <td>10.456307</td>\n",
       "      <td>2.216680</td>\n",
       "      <td>2.216680</td>\n",
       "    </tr>\n",
       "    <tr>\n",
       "      <th>19</th>\n",
       "      <td>32.806630</td>\n",
       "      <td>38.198270</td>\n",
       "      <td>-5.391641</td>\n",
       "      <td>5.391641</td>\n",
       "    </tr>\n",
       "    <tr>\n",
       "      <th>20</th>\n",
       "      <td>2.760855</td>\n",
       "      <td>1.979347</td>\n",
       "      <td>0.781508</td>\n",
       "      <td>0.781508</td>\n",
       "    </tr>\n",
       "    <tr>\n",
       "      <th>21</th>\n",
       "      <td>21.303361</td>\n",
       "      <td>22.500000</td>\n",
       "      <td>-1.196639</td>\n",
       "      <td>1.196639</td>\n",
       "    </tr>\n",
       "    <tr>\n",
       "      <th>22</th>\n",
       "      <td>26.543648</td>\n",
       "      <td>29.730000</td>\n",
       "      <td>-3.186352</td>\n",
       "      <td>3.186352</td>\n",
       "    </tr>\n",
       "    <tr>\n",
       "      <th>23</th>\n",
       "      <td>39.714607</td>\n",
       "      <td>34.000000</td>\n",
       "      <td>5.714607</td>\n",
       "      <td>5.714607</td>\n",
       "    </tr>\n",
       "    <tr>\n",
       "      <th>24</th>\n",
       "      <td>8.421633</td>\n",
       "      <td>7.440651</td>\n",
       "      <td>0.980982</td>\n",
       "      <td>0.980982</td>\n",
       "    </tr>\n",
       "    <tr>\n",
       "      <th>25</th>\n",
       "      <td>22.218227</td>\n",
       "      <td>21.120000</td>\n",
       "      <td>1.098227</td>\n",
       "      <td>1.098227</td>\n",
       "    </tr>\n",
       "    <tr>\n",
       "      <th>26</th>\n",
       "      <td>17.885498</td>\n",
       "      <td>19.200000</td>\n",
       "      <td>-1.314502</td>\n",
       "      <td>1.314502</td>\n",
       "    </tr>\n",
       "    <tr>\n",
       "      <th>27</th>\n",
       "      <td>4.117525</td>\n",
       "      <td>3.430548</td>\n",
       "      <td>0.686977</td>\n",
       "      <td>0.686977</td>\n",
       "    </tr>\n",
       "    <tr>\n",
       "      <th>28</th>\n",
       "      <td>20.127177</td>\n",
       "      <td>24.525686</td>\n",
       "      <td>-4.398509</td>\n",
       "      <td>4.398509</td>\n",
       "    </tr>\n",
       "    <tr>\n",
       "      <th>29</th>\n",
       "      <td>7.221893</td>\n",
       "      <td>1.780000</td>\n",
       "      <td>5.441893</td>\n",
       "      <td>5.441893</td>\n",
       "    </tr>\n",
       "    <tr>\n",
       "      <th>30</th>\n",
       "      <td>20.041372</td>\n",
       "      <td>20.030290</td>\n",
       "      <td>0.011083</td>\n",
       "      <td>0.011083</td>\n",
       "    </tr>\n",
       "    <tr>\n",
       "      <th>31</th>\n",
       "      <td>12.903315</td>\n",
       "      <td>10.070317</td>\n",
       "      <td>2.832998</td>\n",
       "      <td>2.832998</td>\n",
       "    </tr>\n",
       "    <tr>\n",
       "      <th>32</th>\n",
       "      <td>37.230532</td>\n",
       "      <td>32.942793</td>\n",
       "      <td>4.287739</td>\n",
       "      <td>4.287739</td>\n",
       "    </tr>\n",
       "    <tr>\n",
       "      <th>33</th>\n",
       "      <td>17.470092</td>\n",
       "      <td>16.573443</td>\n",
       "      <td>0.896649</td>\n",
       "      <td>0.896649</td>\n",
       "    </tr>\n",
       "    <tr>\n",
       "      <th>34</th>\n",
       "      <td>6.775290</td>\n",
       "      <td>7.995249</td>\n",
       "      <td>-1.219959</td>\n",
       "      <td>1.219959</td>\n",
       "    </tr>\n",
       "    <tr>\n",
       "      <th>35</th>\n",
       "      <td>21.654261</td>\n",
       "      <td>25.417003</td>\n",
       "      <td>-3.762743</td>\n",
       "      <td>3.762743</td>\n",
       "    </tr>\n",
       "    <tr>\n",
       "      <th>36</th>\n",
       "      <td>6.081528</td>\n",
       "      <td>7.140629</td>\n",
       "      <td>-1.059101</td>\n",
       "      <td>1.059101</td>\n",
       "    </tr>\n",
       "    <tr>\n",
       "      <th>37</th>\n",
       "      <td>37.928423</td>\n",
       "      <td>35.248234</td>\n",
       "      <td>2.680189</td>\n",
       "      <td>2.680189</td>\n",
       "    </tr>\n",
       "    <tr>\n",
       "      <th>38</th>\n",
       "      <td>16.197799</td>\n",
       "      <td>11.926117</td>\n",
       "      <td>4.271682</td>\n",
       "      <td>4.271682</td>\n",
       "    </tr>\n",
       "    <tr>\n",
       "      <th>39</th>\n",
       "      <td>10.364391</td>\n",
       "      <td>6.971758</td>\n",
       "      <td>3.392633</td>\n",
       "      <td>3.392633</td>\n",
       "    </tr>\n",
       "    <tr>\n",
       "      <th>40</th>\n",
       "      <td>18.657770</td>\n",
       "      <td>16.000000</td>\n",
       "      <td>2.657770</td>\n",
       "      <td>2.657770</td>\n",
       "    </tr>\n",
       "    <tr>\n",
       "      <th>41</th>\n",
       "      <td>27.605324</td>\n",
       "      <td>19.000000</td>\n",
       "      <td>8.605324</td>\n",
       "      <td>8.605324</td>\n",
       "    </tr>\n",
       "    <tr>\n",
       "      <th>42</th>\n",
       "      <td>24.467264</td>\n",
       "      <td>26.783332</td>\n",
       "      <td>-2.316068</td>\n",
       "      <td>2.316068</td>\n",
       "    </tr>\n",
       "    <tr>\n",
       "      <th>43</th>\n",
       "      <td>80.026936</td>\n",
       "      <td>0.120000</td>\n",
       "      <td>79.906936</td>\n",
       "      <td>79.906936</td>\n",
       "    </tr>\n",
       "    <tr>\n",
       "      <th>44</th>\n",
       "      <td>20.361347</td>\n",
       "      <td>21.279316</td>\n",
       "      <td>-0.917969</td>\n",
       "      <td>0.917969</td>\n",
       "    </tr>\n",
       "    <tr>\n",
       "      <th>45</th>\n",
       "      <td>12.879888</td>\n",
       "      <td>12.544000</td>\n",
       "      <td>0.335888</td>\n",
       "      <td>0.335888</td>\n",
       "    </tr>\n",
       "    <tr>\n",
       "      <th>46</th>\n",
       "      <td>26.766877</td>\n",
       "      <td>27.598788</td>\n",
       "      <td>-0.831910</td>\n",
       "      <td>0.831910</td>\n",
       "    </tr>\n",
       "    <tr>\n",
       "      <th>47</th>\n",
       "      <td>28.553749</td>\n",
       "      <td>33.996174</td>\n",
       "      <td>-5.442425</td>\n",
       "      <td>5.442425</td>\n",
       "    </tr>\n",
       "    <tr>\n",
       "      <th>48</th>\n",
       "      <td>17.428394</td>\n",
       "      <td>7.730840</td>\n",
       "      <td>9.697554</td>\n",
       "      <td>9.697554</td>\n",
       "    </tr>\n",
       "    <tr>\n",
       "      <th>49</th>\n",
       "      <td>14.386156</td>\n",
       "      <td>8.853026</td>\n",
       "      <td>5.533130</td>\n",
       "      <td>5.533130</td>\n",
       "    </tr>\n",
       "    <tr>\n",
       "      <th>50</th>\n",
       "      <td>14.029564</td>\n",
       "      <td>15.651399</td>\n",
       "      <td>-1.621835</td>\n",
       "      <td>1.621835</td>\n",
       "    </tr>\n",
       "    <tr>\n",
       "      <th>51</th>\n",
       "      <td>21.004403</td>\n",
       "      <td>19.695372</td>\n",
       "      <td>1.309031</td>\n",
       "      <td>1.309031</td>\n",
       "    </tr>\n",
       "    <tr>\n",
       "      <th>52</th>\n",
       "      <td>6.341279</td>\n",
       "      <td>3.983862</td>\n",
       "      <td>2.357417</td>\n",
       "      <td>2.357417</td>\n",
       "    </tr>\n",
       "    <tr>\n",
       "      <th>53</th>\n",
       "      <td>13.337308</td>\n",
       "      <td>5.888000</td>\n",
       "      <td>7.449308</td>\n",
       "      <td>7.449308</td>\n",
       "    </tr>\n",
       "    <tr>\n",
       "      <th>54</th>\n",
       "      <td>28.005263</td>\n",
       "      <td>28.000000</td>\n",
       "      <td>0.005263</td>\n",
       "      <td>0.005263</td>\n",
       "    </tr>\n",
       "    <tr>\n",
       "      <th>55</th>\n",
       "      <td>2.426380</td>\n",
       "      <td>2.060000</td>\n",
       "      <td>0.366380</td>\n",
       "      <td>0.366380</td>\n",
       "    </tr>\n",
       "    <tr>\n",
       "      <th>56</th>\n",
       "      <td>85.515134</td>\n",
       "      <td>78.488646</td>\n",
       "      <td>7.026488</td>\n",
       "      <td>7.026488</td>\n",
       "    </tr>\n",
       "    <tr>\n",
       "      <th>57</th>\n",
       "      <td>12.910593</td>\n",
       "      <td>8.000000</td>\n",
       "      <td>4.910593</td>\n",
       "      <td>4.910593</td>\n",
       "    </tr>\n",
       "    <tr>\n",
       "      <th>58</th>\n",
       "      <td>2.602280</td>\n",
       "      <td>2.360000</td>\n",
       "      <td>0.242280</td>\n",
       "      <td>0.242280</td>\n",
       "    </tr>\n",
       "    <tr>\n",
       "      <th>59</th>\n",
       "      <td>123.158344</td>\n",
       "      <td>150.080000</td>\n",
       "      <td>-26.921656</td>\n",
       "      <td>26.921656</td>\n",
       "    </tr>\n",
       "    <tr>\n",
       "      <th>60</th>\n",
       "      <td>2.364327</td>\n",
       "      <td>0.480000</td>\n",
       "      <td>1.884327</td>\n",
       "      <td>1.884327</td>\n",
       "    </tr>\n",
       "    <tr>\n",
       "      <th>61</th>\n",
       "      <td>27.708284</td>\n",
       "      <td>27.281376</td>\n",
       "      <td>0.426908</td>\n",
       "      <td>0.426908</td>\n",
       "    </tr>\n",
       "  </tbody>\n",
       "</table>\n",
       "</div>"
      ],
      "text/plain": [
       "        y_pred      y_test     errors  abs_errors\n",
       "0    48.862466   54.000000  -5.137534    5.137534\n",
       "1    30.326176   35.202098  -4.875922    4.875922\n",
       "2   188.660285  197.660393  -9.000109    9.000109\n",
       "3    26.563374   29.300268  -2.736894    2.736894\n",
       "4    23.640700   24.125044  -0.484344    0.484344\n",
       "5    13.576457   25.615385 -12.038927   12.038927\n",
       "6    94.856515   88.225362   6.631152    6.631152\n",
       "7    39.010565   28.000000  11.010565   11.010565\n",
       "8   121.437624  106.240000  15.197624   15.197624\n",
       "9    44.464232   34.000000  10.464232   10.464232\n",
       "10  187.803746  183.091095   4.712651    4.712651\n",
       "11    2.731764    2.930000  -0.198236    0.198236\n",
       "12   21.883822   21.927205  -0.043383    0.043383\n",
       "13   35.839248   34.300000   1.539248    1.539248\n",
       "14   13.020250    3.261000   9.759250    9.759250\n",
       "15   16.605867   16.117314   0.488553    0.488553\n",
       "16   37.733064   34.900071   2.832993    2.832993\n",
       "17   13.006494    8.963689   4.042805    4.042805\n",
       "18   12.672987   10.456307   2.216680    2.216680\n",
       "19   32.806630   38.198270  -5.391641    5.391641\n",
       "20    2.760855    1.979347   0.781508    0.781508\n",
       "21   21.303361   22.500000  -1.196639    1.196639\n",
       "22   26.543648   29.730000  -3.186352    3.186352\n",
       "23   39.714607   34.000000   5.714607    5.714607\n",
       "24    8.421633    7.440651   0.980982    0.980982\n",
       "25   22.218227   21.120000   1.098227    1.098227\n",
       "26   17.885498   19.200000  -1.314502    1.314502\n",
       "27    4.117525    3.430548   0.686977    0.686977\n",
       "28   20.127177   24.525686  -4.398509    4.398509\n",
       "29    7.221893    1.780000   5.441893    5.441893\n",
       "30   20.041372   20.030290   0.011083    0.011083\n",
       "31   12.903315   10.070317   2.832998    2.832998\n",
       "32   37.230532   32.942793   4.287739    4.287739\n",
       "33   17.470092   16.573443   0.896649    0.896649\n",
       "34    6.775290    7.995249  -1.219959    1.219959\n",
       "35   21.654261   25.417003  -3.762743    3.762743\n",
       "36    6.081528    7.140629  -1.059101    1.059101\n",
       "37   37.928423   35.248234   2.680189    2.680189\n",
       "38   16.197799   11.926117   4.271682    4.271682\n",
       "39   10.364391    6.971758   3.392633    3.392633\n",
       "40   18.657770   16.000000   2.657770    2.657770\n",
       "41   27.605324   19.000000   8.605324    8.605324\n",
       "42   24.467264   26.783332  -2.316068    2.316068\n",
       "43   80.026936    0.120000  79.906936   79.906936\n",
       "44   20.361347   21.279316  -0.917969    0.917969\n",
       "45   12.879888   12.544000   0.335888    0.335888\n",
       "46   26.766877   27.598788  -0.831910    0.831910\n",
       "47   28.553749   33.996174  -5.442425    5.442425\n",
       "48   17.428394    7.730840   9.697554    9.697554\n",
       "49   14.386156    8.853026   5.533130    5.533130\n",
       "50   14.029564   15.651399  -1.621835    1.621835\n",
       "51   21.004403   19.695372   1.309031    1.309031\n",
       "52    6.341279    3.983862   2.357417    2.357417\n",
       "53   13.337308    5.888000   7.449308    7.449308\n",
       "54   28.005263   28.000000   0.005263    0.005263\n",
       "55    2.426380    2.060000   0.366380    0.366380\n",
       "56   85.515134   78.488646   7.026488    7.026488\n",
       "57   12.910593    8.000000   4.910593    4.910593\n",
       "58    2.602280    2.360000   0.242280    0.242280\n",
       "59  123.158344  150.080000 -26.921656   26.921656\n",
       "60    2.364327    0.480000   1.884327    1.884327\n",
       "61   27.708284   27.281376   0.426908    0.426908"
      ]
     },
     "execution_count": 32,
     "metadata": {},
     "output_type": "execute_result"
    }
   ],
   "source": [
    "pd.options.display.max_rows = 4000\n",
    "data"
   ]
  },
  {
   "cell_type": "code",
   "execution_count": 36,
   "metadata": {},
   "outputs": [],
   "source": [
    "data.to_csv(\"random_forest.dataset\")"
   ]
  },
  {
   "cell_type": "code",
   "execution_count": 37,
   "metadata": {
    "lines_to_next_cell": 2,
    "scrolled": true
   },
   "outputs": [],
   "source": [
    "mae = metrics.mean_absolute_error(y_test, y_pred)\n",
    "mse = metrics.mean_squared_error(y_test, y_pred)\n",
    "rmse = metrics.mean_squared_error(y_test, y_pred, squared = False)\n",
    "mape = metrics.mean_absolute_percentage_error(y_test, y_pred)\n",
    "r2 =  metrics.r2_score(y_test, y_pred)"
   ]
  },
  {
   "cell_type": "code",
   "execution_count": 38,
   "metadata": {},
   "outputs": [],
   "source": [
    "data_table = pd.DataFrame.from_dict({\"n_feat\": [n_feat],\n",
    "                                    \"n_trees\":[n_trees],\n",
    "                                     \"mae\": [mae], \n",
    "                                     \"mse\": [mse], \n",
    "                                     \"rmse\":[rmse],\n",
    "                                     \"r2\":[r2],\n",
    "                                     \"mape\":[mape]})"
   ]
  },
  {
   "cell_type": "code",
   "execution_count": 40,
   "metadata": {},
   "outputs": [
    {
     "data": {
      "text/html": [
       "<div>\n",
       "<style scoped>\n",
       "    .dataframe tbody tr th:only-of-type {\n",
       "        vertical-align: middle;\n",
       "    }\n",
       "\n",
       "    .dataframe tbody tr th {\n",
       "        vertical-align: top;\n",
       "    }\n",
       "\n",
       "    .dataframe thead th {\n",
       "        text-align: right;\n",
       "    }\n",
       "</style>\n",
       "<table border=\"1\" class=\"dataframe\">\n",
       "  <thead>\n",
       "    <tr style=\"text-align: right;\">\n",
       "      <th></th>\n",
       "      <th>n_feat</th>\n",
       "      <th>n_trees</th>\n",
       "      <th>mae</th>\n",
       "      <th>mse</th>\n",
       "      <th>rmse</th>\n",
       "      <th>r2</th>\n",
       "      <th>mape</th>\n",
       "    </tr>\n",
       "  </thead>\n",
       "  <tbody>\n",
       "    <tr>\n",
       "      <th>0</th>\n",
       "      <td>0</td>\n",
       "      <td>1000</td>\n",
       "      <td>5.302971</td>\n",
       "      <td>139.389812</td>\n",
       "      <td>11.806346</td>\n",
       "      <td>0.907634</td>\n",
       "      <td>11.095915</td>\n",
       "    </tr>\n",
       "  </tbody>\n",
       "</table>\n",
       "</div>"
      ],
      "text/plain": [
       "   n_feat  n_trees       mae         mse       rmse        r2       mape\n",
       "0       0     1000  5.302971  139.389812  11.806346  0.907634  11.095915"
      ]
     },
     "execution_count": 40,
     "metadata": {},
     "output_type": "execute_result"
    }
   ],
   "source": [
    "data_table"
   ]
  },
  {
   "cell_type": "code",
   "execution_count": 41,
   "metadata": {
    "lines_to_next_cell": 2
   },
   "outputs": [],
   "source": [
    "slope, intercept, r_value, p_value, std_err = stats.linregress(y_pred, y_test)"
   ]
  },
  {
   "cell_type": "code",
   "execution_count": 42,
   "metadata": {
    "lines_to_next_cell": 2
   },
   "outputs": [
    {
     "name": "stdout",
     "output_type": "stream",
     "text": [
      "Correlation coefficient (R): 0.9548 \n",
      "p-value : 2.6353539343729915e-33\n",
      "Intercept: -1.4843\n",
      "Slope: 0.9754\n",
      "std_error: 0.0392\n"
     ]
    }
   ],
   "source": [
    "print(\"Correlation coefficient (R): {:.4f} \".format(r_value))\n",
    "print(\"p-value : {}\".format(p_value))\n",
    "print(\"Intercept: {:.4f}\".format(intercept))\n",
    "print(\"Slope: {:.4f}\".format(slope))\n",
    "print(\"std_error: {:.4f}\".format(std_err))"
   ]
  },
  {
   "cell_type": "code",
   "execution_count": 43,
   "metadata": {
    "lines_to_next_cell": 2,
    "scrolled": true
   },
   "outputs": [
    {
     "data": {
      "image/png": "[encoded data removed]",
      "text/plain": [
       "<Figure size 432x288 with 1 Axes>"
      ]
     },
     "metadata": {
      "needs_background": "light"
     },
     "output_type": "display_data"
    },
    {
     "data": {
      "text/plain": [
       "'/home/drewx/Documents/Project-Roger-Dodger/Python-ML'"
      ]
     },
     "execution_count": 43,
     "metadata": {},
     "output_type": "execute_result"
    }
   ],
   "source": [
    "ax = sns.regplot(y=\"y_pred\",\n",
    "                 x=\"y_test\", \n",
    "                 color=\"g\", \n",
    "                 marker=\"+\",\n",
    "                 line_kws={'label':'$r^2$ = {:.2f}'.format(r_value**2)},\n",
    "                 data = data)\n",
    "\n",
    "plt.ylabel('Predicted adsorptive capacity (mgS/g)')\n",
    "plt.xlabel('Experimental adsorptive capacity (mgS/g)')\n",
    "ax.legend(loc=9)\n",
    "plt.savefig('traning_r2.pdf', format='pdf', dpi=1200)\n",
    "plt.show()\n",
    "os.getcwd()"
   ]
  },
  {
   "cell_type": "markdown",
   "metadata": {},
   "source": [
    "#https://stackoverflow.com/questions/51953709/fast-pairwise-simple-linear-regression-between-variables-in-a-data-frame"
   ]
  },
  {
   "cell_type": "code",
   "execution_count": null,
   "metadata": {},
   "outputs": [],
   "source": []
  }
 ],
 "metadata": {
  "jupytext": {
   "formats": "ipynb,py"
  },
  "kernelspec": {
   "display_name": "Python 3",
   "language": "python",
   "name": "python3"
  },
  "language_info": {
   "codemirror_mode": {
    "name": "ipython",
    "version": 3
   },
   "file_extension": ".py",
   "mimetype": "text/x-python",
   "name": "python",
   "nbconvert_exporter": "python",
   "pygments_lexer": "ipython3",
   "version": "3.8.2"
  }
 },
 "nbformat": 4,
 "nbformat_minor": 4
}
