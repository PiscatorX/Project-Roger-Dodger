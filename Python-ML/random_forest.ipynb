{
 "cells": [
  {
   "cell_type": "code",
   "execution_count": 11,
   "metadata": {
    "lines_to_next_cell": 2
   },
   "outputs": [],
   "source": [
    "from sklearn.model_selection import train_test_split\n",
    "from sklearn.ensemble import RandomForestRegressor\n",
    "from sklearn.model_selection import RandomizedSearchCV\n",
    "from sklearn.preprocessing import StandardScaler\n",
    "from sklearn.tree import DecisionTreeRegressor\n",
    "from sklearn.inspection import permutation_importance\n",
    "from load_data import GetZeoliteTsv\n",
    "import matplotlib.pyplot as plt\n",
    "from sklearn import metrics\n",
    "from scipy import stats\n",
    "import seaborn as sns\n",
    "import pandas as pd\n",
    "import numpy as np\n",
    "import os\n",
    "np.random.seed(1)"
   ]
  },
  {
   "cell_type": "code",
   "execution_count": 12,
   "metadata": {
    "lines_to_next_cell": 2
   },
   "outputs": [],
   "source": [
    "#zeolite datafile exported from excel\n",
    "zeolite_fname = \"/home/drewx/Documents/Project-Roger-Dodger/Python-ML/zeolites database one febl14.txt\"\n",
    "#filename for datafile\n",
    "zeolite_outfile = \"ZeoX_Final_encoded.tsv\" "
   ]
  },
  {
   "cell_type": "code",
   "execution_count": 13,
   "metadata": {
    "lines_to_next_cell": 2
   },
   "outputs": [],
   "source": [
    "#open the raw tsv data file \n",
    "#the file has to be correctly formatted with columns headers  \n",
    "zeolite_fileObj = open(zeolite_fname)"
   ]
  },
  {
   "cell_type": "code",
   "execution_count": 14,
   "metadata": {
    "lines_to_next_cell": 2
   },
   "outputs": [],
   "source": [
    "#create an instance to start processing the datafile\n",
    "getZeo = GetZeoliteTsv(zeolite_fileObj)"
   ]
  },
  {
   "cell_type": "code",
   "execution_count": 15,
   "metadata": {
    "lines_to_next_cell": 2,
    "scrolled": true
   },
   "outputs": [
    {
     "data": {
      "text/html": [
       "<div>\n",
       "<style scoped>\n",
       "    .dataframe tbody tr th:only-of-type {\n",
       "        vertical-align: middle;\n",
       "    }\n",
       "\n",
       "    .dataframe tbody tr th {\n",
       "        vertical-align: top;\n",
       "    }\n",
       "\n",
       "    .dataframe thead th {\n",
       "        text-align: right;\n",
       "    }\n",
       "</style>\n",
       "<table border=\"1\" class=\"dataframe\">\n",
       "  <thead>\n",
       "    <tr style=\"text-align: right;\">\n",
       "      <th></th>\n",
       "      <th>Adsorbent</th>\n",
       "      <th>SA</th>\n",
       "      <th>Vmicro</th>\n",
       "      <th>Vmeso</th>\n",
       "      <th>pore_size</th>\n",
       "      <th>Si_Al</th>\n",
       "      <th>Na</th>\n",
       "      <th>Ag</th>\n",
       "      <th>Ce</th>\n",
       "      <th>Cu</th>\n",
       "      <th>...</th>\n",
       "      <th>La</th>\n",
       "      <th>Cs</th>\n",
       "      <th>Pd</th>\n",
       "      <th>Nd</th>\n",
       "      <th>adsorbate</th>\n",
       "      <th>C_0</th>\n",
       "      <th>solvent</th>\n",
       "      <th>oil_adsorbent_ratio</th>\n",
       "      <th>Temp</th>\n",
       "      <th>Capacity</th>\n",
       "    </tr>\n",
       "  </thead>\n",
       "  <tbody>\n",
       "    <tr>\n",
       "      <th>0</th>\n",
       "      <td>HFAU-5</td>\n",
       "      <td>NaN</td>\n",
       "      <td>0.2550</td>\n",
       "      <td>0.07</td>\n",
       "      <td>0.8000</td>\n",
       "      <td>2.600</td>\n",
       "      <td>NaN</td>\n",
       "      <td>NaN</td>\n",
       "      <td>NaN</td>\n",
       "      <td>NaN</td>\n",
       "      <td>...</td>\n",
       "      <td>NaN</td>\n",
       "      <td>NaN</td>\n",
       "      <td>NaN</td>\n",
       "      <td>NaN</td>\n",
       "      <td>TP</td>\n",
       "      <td>NaN</td>\n",
       "      <td>n-heptane</td>\n",
       "      <td>100.0</td>\n",
       "      <td>25.0</td>\n",
       "      <td>36.416000</td>\n",
       "    </tr>\n",
       "    <tr>\n",
       "      <th>1</th>\n",
       "      <td>HFAU-17</td>\n",
       "      <td>NaN</td>\n",
       "      <td>0.2550</td>\n",
       "      <td>0.13</td>\n",
       "      <td>0.8000</td>\n",
       "      <td>13.000</td>\n",
       "      <td>NaN</td>\n",
       "      <td>NaN</td>\n",
       "      <td>NaN</td>\n",
       "      <td>NaN</td>\n",
       "      <td>...</td>\n",
       "      <td>NaN</td>\n",
       "      <td>NaN</td>\n",
       "      <td>NaN</td>\n",
       "      <td>NaN</td>\n",
       "      <td>TP</td>\n",
       "      <td>NaN</td>\n",
       "      <td>n-heptane</td>\n",
       "      <td>20.0</td>\n",
       "      <td>25.0</td>\n",
       "      <td>10.176000</td>\n",
       "    </tr>\n",
       "    <tr>\n",
       "      <th>2</th>\n",
       "      <td>HFAU-47</td>\n",
       "      <td>NaN</td>\n",
       "      <td>0.2450</td>\n",
       "      <td>0.11</td>\n",
       "      <td>0.8000</td>\n",
       "      <td>34.000</td>\n",
       "      <td>NaN</td>\n",
       "      <td>NaN</td>\n",
       "      <td>NaN</td>\n",
       "      <td>NaN</td>\n",
       "      <td>...</td>\n",
       "      <td>NaN</td>\n",
       "      <td>NaN</td>\n",
       "      <td>NaN</td>\n",
       "      <td>NaN</td>\n",
       "      <td>TP</td>\n",
       "      <td>NaN</td>\n",
       "      <td>n-heptane</td>\n",
       "      <td>20.0</td>\n",
       "      <td>25.0</td>\n",
       "      <td>5.760000</td>\n",
       "    </tr>\n",
       "    <tr>\n",
       "      <th>3</th>\n",
       "      <td>CeY</td>\n",
       "      <td>590.00</td>\n",
       "      <td>0.2400</td>\n",
       "      <td>NaN</td>\n",
       "      <td>0.8100</td>\n",
       "      <td>2.100</td>\n",
       "      <td>NaN</td>\n",
       "      <td>NaN</td>\n",
       "      <td>2.62</td>\n",
       "      <td>NaN</td>\n",
       "      <td>...</td>\n",
       "      <td>NaN</td>\n",
       "      <td>NaN</td>\n",
       "      <td>NaN</td>\n",
       "      <td>NaN</td>\n",
       "      <td>TP</td>\n",
       "      <td>4.992000</td>\n",
       "      <td>n-heptane</td>\n",
       "      <td>1000.0</td>\n",
       "      <td>80.0</td>\n",
       "      <td>0.640000</td>\n",
       "    </tr>\n",
       "    <tr>\n",
       "      <th>4</th>\n",
       "      <td>CeY</td>\n",
       "      <td>590.00</td>\n",
       "      <td>0.2400</td>\n",
       "      <td>NaN</td>\n",
       "      <td>0.8100</td>\n",
       "      <td>2.100</td>\n",
       "      <td>NaN</td>\n",
       "      <td>NaN</td>\n",
       "      <td>2.62</td>\n",
       "      <td>NaN</td>\n",
       "      <td>...</td>\n",
       "      <td>NaN</td>\n",
       "      <td>NaN</td>\n",
       "      <td>NaN</td>\n",
       "      <td>NaN</td>\n",
       "      <td>BT</td>\n",
       "      <td>4.992000</td>\n",
       "      <td>n-heptane</td>\n",
       "      <td>1000.0</td>\n",
       "      <td>80.0</td>\n",
       "      <td>0.960000</td>\n",
       "    </tr>\n",
       "    <tr>\n",
       "      <th>...</th>\n",
       "      <td>...</td>\n",
       "      <td>...</td>\n",
       "      <td>...</td>\n",
       "      <td>...</td>\n",
       "      <td>...</td>\n",
       "      <td>...</td>\n",
       "      <td>...</td>\n",
       "      <td>...</td>\n",
       "      <td>...</td>\n",
       "      <td>...</td>\n",
       "      <td>...</td>\n",
       "      <td>...</td>\n",
       "      <td>...</td>\n",
       "      <td>...</td>\n",
       "      <td>...</td>\n",
       "      <td>...</td>\n",
       "      <td>...</td>\n",
       "      <td>...</td>\n",
       "      <td>...</td>\n",
       "      <td>...</td>\n",
       "      <td>...</td>\n",
       "    </tr>\n",
       "    <tr>\n",
       "      <th>302</th>\n",
       "      <td>AgX-zeolite</td>\n",
       "      <td>230.16</td>\n",
       "      <td>0.1826</td>\n",
       "      <td>NaN</td>\n",
       "      <td>3.1729</td>\n",
       "      <td>1.031</td>\n",
       "      <td>NaN</td>\n",
       "      <td>0.297</td>\n",
       "      <td>NaN</td>\n",
       "      <td>NaN</td>\n",
       "      <td>...</td>\n",
       "      <td>NaN</td>\n",
       "      <td>NaN</td>\n",
       "      <td>NaN</td>\n",
       "      <td>NaN</td>\n",
       "      <td>TP</td>\n",
       "      <td>36.312849</td>\n",
       "      <td>iso-octane</td>\n",
       "      <td>20.0</td>\n",
       "      <td>30.0</td>\n",
       "      <td>5.767327</td>\n",
       "    </tr>\n",
       "    <tr>\n",
       "      <th>303</th>\n",
       "      <td>AgX-zeolite</td>\n",
       "      <td>230.16</td>\n",
       "      <td>0.1826</td>\n",
       "      <td>NaN</td>\n",
       "      <td>3.1729</td>\n",
       "      <td>1.031</td>\n",
       "      <td>NaN</td>\n",
       "      <td>0.297</td>\n",
       "      <td>NaN</td>\n",
       "      <td>NaN</td>\n",
       "      <td>...</td>\n",
       "      <td>NaN</td>\n",
       "      <td>NaN</td>\n",
       "      <td>NaN</td>\n",
       "      <td>NaN</td>\n",
       "      <td>TP</td>\n",
       "      <td>51.326816</td>\n",
       "      <td>iso-octane</td>\n",
       "      <td>20.0</td>\n",
       "      <td>30.0</td>\n",
       "      <td>6.336634</td>\n",
       "    </tr>\n",
       "    <tr>\n",
       "      <th>304</th>\n",
       "      <td>AgX-zeolite</td>\n",
       "      <td>230.16</td>\n",
       "      <td>0.1826</td>\n",
       "      <td>NaN</td>\n",
       "      <td>3.1729</td>\n",
       "      <td>1.031</td>\n",
       "      <td>NaN</td>\n",
       "      <td>0.297</td>\n",
       "      <td>NaN</td>\n",
       "      <td>NaN</td>\n",
       "      <td>...</td>\n",
       "      <td>NaN</td>\n",
       "      <td>NaN</td>\n",
       "      <td>NaN</td>\n",
       "      <td>NaN</td>\n",
       "      <td>TP</td>\n",
       "      <td>92.527933</td>\n",
       "      <td>iso-octane</td>\n",
       "      <td>20.0</td>\n",
       "      <td>30.0</td>\n",
       "      <td>6.980198</td>\n",
       "    </tr>\n",
       "    <tr>\n",
       "      <th>305</th>\n",
       "      <td>AgX-zeolite</td>\n",
       "      <td>230.16</td>\n",
       "      <td>0.1826</td>\n",
       "      <td>NaN</td>\n",
       "      <td>3.1729</td>\n",
       "      <td>1.031</td>\n",
       "      <td>NaN</td>\n",
       "      <td>0.297</td>\n",
       "      <td>NaN</td>\n",
       "      <td>NaN</td>\n",
       "      <td>...</td>\n",
       "      <td>NaN</td>\n",
       "      <td>NaN</td>\n",
       "      <td>NaN</td>\n",
       "      <td>NaN</td>\n",
       "      <td>TP</td>\n",
       "      <td>142.807263</td>\n",
       "      <td>iso-octane</td>\n",
       "      <td>20.0</td>\n",
       "      <td>30.0</td>\n",
       "      <td>7.376238</td>\n",
       "    </tr>\n",
       "    <tr>\n",
       "      <th>306</th>\n",
       "      <td>AgX-zeolite</td>\n",
       "      <td>230.16</td>\n",
       "      <td>0.1826</td>\n",
       "      <td>NaN</td>\n",
       "      <td>3.1729</td>\n",
       "      <td>1.031</td>\n",
       "      <td>NaN</td>\n",
       "      <td>0.297</td>\n",
       "      <td>NaN</td>\n",
       "      <td>NaN</td>\n",
       "      <td>...</td>\n",
       "      <td>NaN</td>\n",
       "      <td>NaN</td>\n",
       "      <td>NaN</td>\n",
       "      <td>NaN</td>\n",
       "      <td>TP</td>\n",
       "      <td>219.622905</td>\n",
       "      <td>iso-octane</td>\n",
       "      <td>20.0</td>\n",
       "      <td>30.0</td>\n",
       "      <td>7.797030</td>\n",
       "    </tr>\n",
       "  </tbody>\n",
       "</table>\n",
       "<p>307 rows × 23 columns</p>\n",
       "</div>"
      ],
      "text/plain": [
       "       Adsorbent      SA  Vmicro  Vmeso  pore_size   Si_Al  Na     Ag    Ce  \\\n",
       "0         HFAU-5     NaN  0.2550   0.07     0.8000   2.600 NaN    NaN   NaN   \n",
       "1        HFAU-17     NaN  0.2550   0.13     0.8000  13.000 NaN    NaN   NaN   \n",
       "2        HFAU-47     NaN  0.2450   0.11     0.8000  34.000 NaN    NaN   NaN   \n",
       "3            CeY  590.00  0.2400    NaN     0.8100   2.100 NaN    NaN  2.62   \n",
       "4            CeY  590.00  0.2400    NaN     0.8100   2.100 NaN    NaN  2.62   \n",
       "..           ...     ...     ...    ...        ...     ...  ..    ...   ...   \n",
       "302  AgX-zeolite  230.16  0.1826    NaN     3.1729   1.031 NaN  0.297   NaN   \n",
       "303  AgX-zeolite  230.16  0.1826    NaN     3.1729   1.031 NaN  0.297   NaN   \n",
       "304  AgX-zeolite  230.16  0.1826    NaN     3.1729   1.031 NaN  0.297   NaN   \n",
       "305  AgX-zeolite  230.16  0.1826    NaN     3.1729   1.031 NaN  0.297   NaN   \n",
       "306  AgX-zeolite  230.16  0.1826    NaN     3.1729   1.031 NaN  0.297   NaN   \n",
       "\n",
       "     Cu  ...  La  Cs  Pd  Nd  adsorbate         C_0     solvent  \\\n",
       "0   NaN  ... NaN NaN NaN NaN         TP         NaN   n-heptane   \n",
       "1   NaN  ... NaN NaN NaN NaN         TP         NaN   n-heptane   \n",
       "2   NaN  ... NaN NaN NaN NaN         TP         NaN   n-heptane   \n",
       "3   NaN  ... NaN NaN NaN NaN         TP    4.992000   n-heptane   \n",
       "4   NaN  ... NaN NaN NaN NaN         BT    4.992000   n-heptane   \n",
       "..   ..  ...  ..  ..  ..  ..        ...         ...         ...   \n",
       "302 NaN  ... NaN NaN NaN NaN         TP   36.312849  iso-octane   \n",
       "303 NaN  ... NaN NaN NaN NaN         TP   51.326816  iso-octane   \n",
       "304 NaN  ... NaN NaN NaN NaN         TP   92.527933  iso-octane   \n",
       "305 NaN  ... NaN NaN NaN NaN         TP  142.807263  iso-octane   \n",
       "306 NaN  ... NaN NaN NaN NaN         TP  219.622905  iso-octane   \n",
       "\n",
       "    oil_adsorbent_ratio  Temp   Capacity  \n",
       "0                 100.0  25.0  36.416000  \n",
       "1                  20.0  25.0  10.176000  \n",
       "2                  20.0  25.0   5.760000  \n",
       "3                1000.0  80.0   0.640000  \n",
       "4                1000.0  80.0   0.960000  \n",
       "..                  ...   ...        ...  \n",
       "302                20.0  30.0   5.767327  \n",
       "303                20.0  30.0   6.336634  \n",
       "304                20.0  30.0   6.980198  \n",
       "305                20.0  30.0   7.376238  \n",
       "306                20.0  30.0   7.797030  \n",
       "\n",
       "[307 rows x 23 columns]"
      ]
     },
     "execution_count": 15,
     "metadata": {},
     "output_type": "execute_result"
    }
   ],
   "source": [
    "#Sanity check of datatypes\n",
    "#important to recognise that datatypes are detected from the files\n",
    "#this step alsos makes the string variables as categorical variables\n",
    "getZeo.set_dtypes()"
   ]
  },
  {
   "cell_type": "code",
   "execution_count": 16,
   "metadata": {
    "lines_to_next_cell": 2,
    "scrolled": true
   },
   "outputs": [
    {
     "data": {
      "text/html": [
       "<div>\n",
       "<style scoped>\n",
       "    .dataframe tbody tr th:only-of-type {\n",
       "        vertical-align: middle;\n",
       "    }\n",
       "\n",
       "    .dataframe tbody tr th {\n",
       "        vertical-align: top;\n",
       "    }\n",
       "\n",
       "    .dataframe thead th {\n",
       "        text-align: right;\n",
       "    }\n",
       "</style>\n",
       "<table border=\"1\" class=\"dataframe\">\n",
       "  <thead>\n",
       "    <tr style=\"text-align: right;\">\n",
       "      <th></th>\n",
       "      <th>Feature</th>\n",
       "      <th>Missingness</th>\n",
       "    </tr>\n",
       "  </thead>\n",
       "  <tbody>\n",
       "    <tr>\n",
       "      <th>Adsorbent</th>\n",
       "      <td>Adsorbent</td>\n",
       "      <td>0.00</td>\n",
       "    </tr>\n",
       "    <tr>\n",
       "      <th>SA</th>\n",
       "      <td>SA</td>\n",
       "      <td>0.98</td>\n",
       "    </tr>\n",
       "    <tr>\n",
       "      <th>Vmicro</th>\n",
       "      <td>Vmicro</td>\n",
       "      <td>8.47</td>\n",
       "    </tr>\n",
       "    <tr>\n",
       "      <th>Vmeso</th>\n",
       "      <td>Vmeso</td>\n",
       "      <td>65.80</td>\n",
       "    </tr>\n",
       "    <tr>\n",
       "      <th>pore_size</th>\n",
       "      <td>pore_size</td>\n",
       "      <td>42.67</td>\n",
       "    </tr>\n",
       "    <tr>\n",
       "      <th>Si_Al</th>\n",
       "      <td>Si_Al</td>\n",
       "      <td>3.91</td>\n",
       "    </tr>\n",
       "    <tr>\n",
       "      <th>Na</th>\n",
       "      <td>Na</td>\n",
       "      <td>54.40</td>\n",
       "    </tr>\n",
       "    <tr>\n",
       "      <th>Ag</th>\n",
       "      <td>Ag</td>\n",
       "      <td>59.93</td>\n",
       "    </tr>\n",
       "    <tr>\n",
       "      <th>Ce</th>\n",
       "      <td>Ce</td>\n",
       "      <td>73.29</td>\n",
       "    </tr>\n",
       "    <tr>\n",
       "      <th>Cu</th>\n",
       "      <td>Cu</td>\n",
       "      <td>79.48</td>\n",
       "    </tr>\n",
       "    <tr>\n",
       "      <th>Ni</th>\n",
       "      <td>Ni</td>\n",
       "      <td>89.25</td>\n",
       "    </tr>\n",
       "    <tr>\n",
       "      <th>Zn</th>\n",
       "      <td>Zn</td>\n",
       "      <td>99.35</td>\n",
       "    </tr>\n",
       "    <tr>\n",
       "      <th>Fe2</th>\n",
       "      <td>Fe2</td>\n",
       "      <td>100.00</td>\n",
       "    </tr>\n",
       "    <tr>\n",
       "      <th>La</th>\n",
       "      <td>La</td>\n",
       "      <td>100.00</td>\n",
       "    </tr>\n",
       "    <tr>\n",
       "      <th>Cs</th>\n",
       "      <td>Cs</td>\n",
       "      <td>98.05</td>\n",
       "    </tr>\n",
       "    <tr>\n",
       "      <th>Pd</th>\n",
       "      <td>Pd</td>\n",
       "      <td>100.00</td>\n",
       "    </tr>\n",
       "    <tr>\n",
       "      <th>Nd</th>\n",
       "      <td>Nd</td>\n",
       "      <td>100.00</td>\n",
       "    </tr>\n",
       "    <tr>\n",
       "      <th>adsorbate</th>\n",
       "      <td>adsorbate</td>\n",
       "      <td>0.00</td>\n",
       "    </tr>\n",
       "    <tr>\n",
       "      <th>C_0</th>\n",
       "      <td>C_0</td>\n",
       "      <td>0.98</td>\n",
       "    </tr>\n",
       "    <tr>\n",
       "      <th>solvent</th>\n",
       "      <td>solvent</td>\n",
       "      <td>0.00</td>\n",
       "    </tr>\n",
       "    <tr>\n",
       "      <th>oil_adsorbent_ratio</th>\n",
       "      <td>oil_adsorbent_ratio</td>\n",
       "      <td>2.28</td>\n",
       "    </tr>\n",
       "    <tr>\n",
       "      <th>Temp</th>\n",
       "      <td>Temp</td>\n",
       "      <td>2.93</td>\n",
       "    </tr>\n",
       "    <tr>\n",
       "      <th>Capacity</th>\n",
       "      <td>Capacity</td>\n",
       "      <td>0.00</td>\n",
       "    </tr>\n",
       "  </tbody>\n",
       "</table>\n",
       "</div>"
      ],
      "text/plain": [
       "                                 Feature  Missingness\n",
       "Adsorbent                      Adsorbent         0.00\n",
       "SA                                    SA         0.98\n",
       "Vmicro                            Vmicro         8.47\n",
       "Vmeso                              Vmeso        65.80\n",
       "pore_size                      pore_size        42.67\n",
       "Si_Al                              Si_Al         3.91\n",
       "Na                                    Na        54.40\n",
       "Ag                                    Ag        59.93\n",
       "Ce                                    Ce        73.29\n",
       "Cu                                    Cu        79.48\n",
       "Ni                                    Ni        89.25\n",
       "Zn                                    Zn        99.35\n",
       "Fe2                                  Fe2       100.00\n",
       "La                                    La       100.00\n",
       "Cs                                    Cs        98.05\n",
       "Pd                                    Pd       100.00\n",
       "Nd                                    Nd       100.00\n",
       "adsorbate                      adsorbate         0.00\n",
       "C_0                                  C_0         0.98\n",
       "solvent                          solvent         0.00\n",
       "oil_adsorbent_ratio  oil_adsorbent_ratio         2.28\n",
       "Temp                                Temp         2.93\n",
       "Capacity                        Capacity         0.00"
      ]
     },
     "execution_count": 16,
     "metadata": {},
     "output_type": "execute_result"
    }
   ],
   "source": [
    "#this counts the missing records per column and saves them to provided filename\n",
    "getZeo.missingness(\"ZeoX_Final_encoded.miss\")"
   ]
  },
  {
   "cell_type": "code",
   "execution_count": 17,
   "metadata": {
    "lines_to_next_cell": 2
   },
   "outputs": [
    {
     "data": {
      "text/plain": [
       "(307, 23)"
      ]
     },
     "execution_count": 17,
     "metadata": {},
     "output_type": "execute_result"
    }
   ],
   "source": [
    "#take note of number of columns\n",
    "getZeo.zeolite_df.shape"
   ]
  },
  {
   "cell_type": "code",
   "execution_count": 18,
   "metadata": {
    "lines_to_next_cell": 2
   },
   "outputs": [],
   "source": [
    "#Drops empty columns inplace\n",
    "getZeo.zeolite_df.dropna(how='all', axis=1, inplace = True)"
   ]
  },
  {
   "cell_type": "code",
   "execution_count": 19,
   "metadata": {
    "lines_to_next_cell": 2
   },
   "outputs": [
    {
     "data": {
      "text/plain": [
       "(307, 19)"
      ]
     },
     "execution_count": 19,
     "metadata": {},
     "output_type": "execute_result"
    }
   ],
   "source": [
    "#Very that columns have indeed been lost\n",
    "getZeo.zeolite_df.shape"
   ]
  },
  {
   "cell_type": "code",
   "execution_count": 20,
   "metadata": {
    "lines_to_next_cell": 2
   },
   "outputs": [],
   "source": [
    "#Imputation: step by step for easy debugging\n",
    "getZeo.GroupMeanImputation('Adsorbent','SA')\n",
    "#This last step takes care of singletons \n",
    "getZeo.MeanImputation('SA')"
   ]
  },
  {
   "cell_type": "code",
   "execution_count": 21,
   "metadata": {
    "lines_to_next_cell": 2
   },
   "outputs": [],
   "source": [
    "getZeo.GroupMeanImputation('Adsorbent','Vmicro')\n",
    "getZeo.MeanImputation('Vmicro')"
   ]
  },
  {
   "cell_type": "code",
   "execution_count": 22,
   "metadata": {
    "lines_to_next_cell": 2
   },
   "outputs": [],
   "source": [
    "getZeo.GroupMeanImputation('Adsorbent','Vmeso')\n",
    "getZeo.MeanImputation('Vmeso')"
   ]
  },
  {
   "cell_type": "code",
   "execution_count": 23,
   "metadata": {
    "lines_to_next_cell": 2
   },
   "outputs": [],
   "source": [
    "getZeo.GroupMeanImputation('Adsorbent','pore_size')\n",
    "getZeo.MeanImputation('pore_size')"
   ]
  },
  {
   "cell_type": "code",
   "execution_count": 24,
   "metadata": {
    "lines_to_next_cell": 2
   },
   "outputs": [],
   "source": [
    "getZeo.GroupMeanImputation('Adsorbent','pore_size')\n",
    "getZeo.MeanImputation('pore_size')"
   ]
  },
  {
   "cell_type": "code",
   "execution_count": 25,
   "metadata": {
    "lines_to_next_cell": 2
   },
   "outputs": [],
   "source": [
    "getZeo.GroupMeanImputation('Adsorbent','Si_Al')\n",
    "getZeo.MeanImputation('Si_Al')"
   ]
  },
  {
   "cell_type": "code",
   "execution_count": 26,
   "metadata": {
    "lines_to_next_cell": 2
   },
   "outputs": [],
   "source": [
    "#Mean imputations only for these variables\n",
    "#Names from column headers\n",
    "for var in [\"C_0\",\"oil_adsorbent_ratio\",\"Temp\"]:\n",
    "         getZeo.MeanImputation(var)"
   ]
  },
  {
   "cell_type": "code",
   "execution_count": 27,
   "metadata": {
    "lines_to_next_cell": 2
   },
   "outputs": [
    {
     "data": {
      "text/plain": [
       "Index(['Adsorbent', 'SA', 'Vmicro', 'Vmeso', 'pore_size', 'Si_Al', 'Na', 'Ag',\n",
       "       'Ce', 'Cu', 'Ni', 'Zn', 'Cs', 'adsorbate', 'C_0', 'solvent',\n",
       "       'oil_adsorbent_ratio', 'Temp', 'Capacity'],\n",
       "      dtype='object')"
      ]
     },
     "execution_count": 27,
     "metadata": {},
     "output_type": "execute_result"
    }
   ],
   "source": [
    "getZeo.zeolite_df.columns"
   ]
  },
  {
   "cell_type": "code",
   "execution_count": 28,
   "metadata": {
    "lines_to_next_cell": 2
   },
   "outputs": [],
   "source": [
    "#Fill missing values for metals with zeros\n",
    "for metal in ['Na', 'Ag', 'Ce', 'Cu', 'Ni', 'Zn','Cs']:\n",
    "         getZeo.zerofill(metal)"
   ]
  },
  {
   "cell_type": "code",
   "execution_count": 29,
   "metadata": {
    "lines_to_next_cell": 2
   },
   "outputs": [],
   "source": [
    "#convert the categorical variables to intergers also known as one-hot-encoding\n",
    "#https://towardsdatascience.com/the-dummys-guide-to-creating-dummy-variables-f21faddb1d40\n",
    "getZeo.encode_categorical()"
   ]
  },
  {
   "cell_type": "code",
   "execution_count": 30,
   "metadata": {
    "lines_to_next_cell": 2
   },
   "outputs": [],
   "source": [
    "#save the new data to a tsv file\n",
    "getZeo.save_zeo(\"ZeoX_Final_encoded.tsv\")"
   ]
  },
  {
   "cell_type": "code",
   "execution_count": 31,
   "metadata": {
    "lines_to_next_cell": 2
   },
   "outputs": [],
   "source": [
    "#get our dataframe \n",
    "zeolite_final  = getZeo.zeolite_df"
   ]
  },
  {
   "cell_type": "code",
   "execution_count": 32,
   "metadata": {
    "lines_to_next_cell": 2
   },
   "outputs": [
    {
     "data": {
      "text/plain": [
       "(307, 45)"
      ]
     },
     "execution_count": 32,
     "metadata": {},
     "output_type": "execute_result"
    }
   ],
   "source": [
    "#check our dataframe\n",
    "zeolite_final.shape"
   ]
  },
  {
   "cell_type": "code",
   "execution_count": 33,
   "metadata": {
    "lines_to_next_cell": 2
   },
   "outputs": [],
   "source": [
    "#We extract our data features \n",
    "#attributes \n",
    "y = zeolite_final.loc[:,\"Capacity\"].values\n",
    "#labels\n",
    "X = zeolite_final.drop([\"Capacity\"], axis = 1).values"
   ]
  },
  {
   "cell_type": "code",
   "execution_count": 34,
   "metadata": {
    "lines_to_next_cell": 2
   },
   "outputs": [],
   "source": [
    "#Split our data into training and test dataset \n",
    "X_train, X_test, y_train, y_test = train_test_split(X, y, test_size=0.2, random_state=0)"
   ]
  },
  {
   "cell_type": "code",
   "execution_count": 35,
   "metadata": {
    "lines_to_next_cell": 2
   },
   "outputs": [
    {
     "data": {
      "text/plain": [
       "(245,)"
      ]
     },
     "execution_count": 35,
     "metadata": {},
     "output_type": "execute_result"
    }
   ],
   "source": [
    "y_train.shape"
   ]
  },
  {
   "cell_type": "code",
   "execution_count": 36,
   "metadata": {
    "lines_to_next_cell": 2
   },
   "outputs": [
    {
     "data": {
      "text/plain": [
       "(62,)"
      ]
     },
     "execution_count": 36,
     "metadata": {},
     "output_type": "execute_result"
    }
   ],
   "source": [
    "y_test.shape"
   ]
  },
  {
   "cell_type": "code",
   "execution_count": 37,
   "metadata": {
    "lines_to_next_cell": 2
   },
   "outputs": [],
   "source": [
    "#Standardize features by removing the mean and scaling to unit variasnce\n",
    "sc = StandardScaler()\n",
    "#https://datascience.stackexchange.com/questions/12321/whats-the-difference-between-fit-and-fit-transform-in-scikit-learn-models#:~:text=%22fit%22%20computes%20the%20mean%20and,both%20at%20the%20same%20time.\n",
    "#This should not make much of a difference but its good practice\n",
    "#TO DO\n",
    "#Compare accuracy with and without scaling\n",
    "X_train = sc.fit_transform(X_train)\n",
    "X_test = sc.transform(X_test)"
   ]
  },
  {
   "cell_type": "code",
   "execution_count": 51,
   "metadata": {
    "lines_to_next_cell": 2
   },
   "outputs": [],
   "source": [
    "n_trees = 10\n",
    "n_feat = 31\n",
    "#max_features=n_features,\n",
    "regressor = RandomForestRegressor(n_estimators = 10, min_samples_split = 2, min_samples_leaf = 1, max_features = 37, max_depth = 28, random_state=1000)\n",
    "#TO DO\n",
    "#increase n_estimators\n",
    "#run in parallel"
   ]
  },
  {
   "cell_type": "code",
   "execution_count": 52,
   "metadata": {
    "lines_to_next_cell": 2
   },
   "outputs": [
    {
     "data": {
      "text/plain": [
       "RandomForestRegressor(max_depth=28, max_features=37, n_estimators=10,\n",
       "                      random_state=1000)"
      ]
     },
     "execution_count": 52,
     "metadata": {},
     "output_type": "execute_result"
    }
   ],
   "source": [
    "regressor.fit(X_train, y_train)"
   ]
  },
  {
   "cell_type": "code",
   "execution_count": 53,
   "metadata": {},
   "outputs": [
    {
     "data": {
      "text/plain": [
       "{'bootstrap': True,\n",
       " 'ccp_alpha': 0.0,\n",
       " 'criterion': 'mse',\n",
       " 'max_depth': 28,\n",
       " 'max_features': 37,\n",
       " 'max_leaf_nodes': None,\n",
       " 'max_samples': None,\n",
       " 'min_impurity_decrease': 0.0,\n",
       " 'min_impurity_split': None,\n",
       " 'min_samples_leaf': 1,\n",
       " 'min_samples_split': 2,\n",
       " 'min_weight_fraction_leaf': 0.0,\n",
       " 'n_estimators': 10,\n",
       " 'n_jobs': None,\n",
       " 'oob_score': False,\n",
       " 'random_state': 1000,\n",
       " 'verbose': 0,\n",
       " 'warm_start': False}"
      ]
     },
     "execution_count": 53,
     "metadata": {},
     "output_type": "execute_result"
    }
   ],
   "source": [
    "regressor.get_params()"
   ]
  },
  {
   "cell_type": "code",
   "execution_count": 54,
   "metadata": {
    "lines_to_next_cell": 2
   },
   "outputs": [],
   "source": [
    "y_pred = regressor.predict(X_test)"
   ]
  },
  {
   "cell_type": "code",
   "execution_count": 55,
   "metadata": {
    "lines_to_next_cell": 2
   },
   "outputs": [],
   "source": [
    "plot_data = pd.DataFrame.from_dict({'y_pred': y_pred, 'y_test': y_test, 'errors': y_pred - y_test, 'abs_errors': abs(y_pred - y_test)})\n",
    "plot_data.to_csv(\"RF_model_performance.tsv\", sep = \"\\t\", index = False)"
   ]
  },
  {
   "cell_type": "code",
   "execution_count": 56,
   "metadata": {
    "lines_to_next_cell": 2,
    "scrolled": true
   },
   "outputs": [],
   "source": [
    "pd.options.display.max_rows = 4000\n"
   ]
  },
  {
   "cell_type": "code",
   "execution_count": 57,
   "metadata": {
    "lines_to_next_cell": 2,
    "scrolled": true
   },
   "outputs": [],
   "source": [
    "mae = metrics.mean_absolute_error(y_test, y_pred)\n",
    "mse = metrics.mean_squared_error(y_test, y_pred)\n",
    "rmse = metrics.mean_squared_error(y_test, y_pred, squared = False)\n",
    "mape = metrics.mean_absolute_percentage_error(y_test, y_pred)\n",
    "r2 =  metrics.r2_score(y_test, y_pred)"
   ]
  },
  {
   "cell_type": "code",
   "execution_count": 58,
   "metadata": {},
   "outputs": [],
   "source": [
    "data_table = pd.DataFrame.from_dict({\"n_feat\": [n_feat],\n",
    "                                    \"n_trees\":[n_trees],\n",
    "                                     \"mae\": [mae], \n",
    "                                     \"mse\": [mse], \n",
    "                                     \"rmse\":[rmse],\n",
    "                                     \"r2\":[r2],\n",
    "                                     \"mape\":[mape]})"
   ]
  },
  {
   "cell_type": "code",
   "execution_count": 59,
   "metadata": {},
   "outputs": [
    {
     "data": {
      "text/html": [
       "<div>\n",
       "<style scoped>\n",
       "    .dataframe tbody tr th:only-of-type {\n",
       "        vertical-align: middle;\n",
       "    }\n",
       "\n",
       "    .dataframe tbody tr th {\n",
       "        vertical-align: top;\n",
       "    }\n",
       "\n",
       "    .dataframe thead th {\n",
       "        text-align: right;\n",
       "    }\n",
       "</style>\n",
       "<table border=\"1\" class=\"dataframe\">\n",
       "  <thead>\n",
       "    <tr style=\"text-align: right;\">\n",
       "      <th></th>\n",
       "      <th>n_feat</th>\n",
       "      <th>n_trees</th>\n",
       "      <th>mae</th>\n",
       "      <th>mse</th>\n",
       "      <th>rmse</th>\n",
       "      <th>r2</th>\n",
       "      <th>mape</th>\n",
       "    </tr>\n",
       "  </thead>\n",
       "  <tbody>\n",
       "    <tr>\n",
       "      <th>0</th>\n",
       "      <td>31</td>\n",
       "      <td>10</td>\n",
       "      <td>4.690458</td>\n",
       "      <td>75.919566</td>\n",
       "      <td>8.713183</td>\n",
       "      <td>0.949692</td>\n",
       "      <td>7.964171</td>\n",
       "    </tr>\n",
       "  </tbody>\n",
       "</table>\n",
       "</div>"
      ],
      "text/plain": [
       "   n_feat  n_trees       mae        mse      rmse        r2      mape\n",
       "0      31       10  4.690458  75.919566  8.713183  0.949692  7.964171"
      ]
     },
     "execution_count": 59,
     "metadata": {},
     "output_type": "execute_result"
    }
   ],
   "source": [
    "data_table"
   ]
  },
  {
   "cell_type": "code",
   "execution_count": 60,
   "metadata": {
    "lines_to_next_cell": 2
   },
   "outputs": [],
   "source": [
    "slope, intercept, r_value, p_value, std_err = stats.linregress(y_test, y_pred)"
   ]
  },
  {
   "cell_type": "code",
   "execution_count": 61,
   "metadata": {
    "lines_to_next_cell": 2
   },
   "outputs": [
    {
     "name": "stdout",
     "output_type": "stream",
     "text": [
      "Correlation coefficient (R): 0.9763 \n",
      "p-value : 1.3835407076593222e-41\n",
      "Intercept: 3.1652\n",
      "Slope: 0.9677\n",
      "std_error: 0.0277\n"
     ]
    }
   ],
   "source": [
    "print(\"Correlation coefficient (R): {:.4f} \".format(r_value))\n",
    "print(\"p-value : {}\".format(p_value))\n",
    "print(\"Intercept: {:.4f}\".format(intercept))\n",
    "print(\"Slope: {:.4f}\".format(slope))\n",
    "print(\"std_error: {:.4f}\".format(std_err))"
   ]
  },
  {
   "cell_type": "code",
   "execution_count": 63,
   "metadata": {
    "lines_to_next_cell": 2,
    "scrolled": true
   },
   "outputs": [
    {
     "data": {
      "image/png": "[encoded data removed]",
      "text/plain": [
       "<Figure size 432x288 with 1 Axes>"
      ]
     },
     "metadata": {
      "needs_background": "light"
     },
     "output_type": "display_data"
    },
    {
     "data": {
      "text/plain": [
       "'/home/drewx/Documents/Project-Roger-Dodger/Python-ML'"
      ]
     },
     "execution_count": 63,
     "metadata": {},
     "output_type": "execute_result"
    }
   ],
   "source": [
    "ax = sns.regplot(y=\"y_pred\",\n",
    "                 x=\"y_test\", \n",
    "                 color=\"g\", \n",
    "                 marker=\"+\",\n",
    "                 line_kws={'label':'$r^2$ = {:.2f}'.format(r_value**2)},\n",
    "                 data = plot_data)\n",
    "\n",
    "plt.ylabel('Predicted adsorptive capacity (mgS/g)')\n",
    "plt.xlabel('Experimental adsorptive capacity (mgS/g)')\n",
    "ax.legend(loc=9)\n",
    "plt.savefig('traning_r2.pdf', format='pdf', dpi=1200)\n",
    "plt.show()\n",
    "os.getcwd()"
   ]
  },
  {
   "cell_type": "code",
   "execution_count": 64,
   "metadata": {},
   "outputs": [],
   "source": [
    "feature_importance = pd.DataFrame(data = {\"features\":zeolite_final.drop([\"Capacity\"], axis = 1).columns, \"importance\":regressor.feature_importances_} )\n",
    "feature_importance.to_csv(\"Rf_feature_importance\", sep = \"\\t\", index = False)"
   ]
  },
  {
   "cell_type": "code",
   "execution_count": 65,
   "metadata": {},
   "outputs": [],
   "source": [
    "?regressor.feature_importances_"
   ]
  },
  {
   "cell_type": "code",
   "execution_count": 66,
   "metadata": {},
   "outputs": [],
   "source": [
    "feature_importance[\"importance\"] = round(feature_importance[\"importance\"],5)"
   ]
  },
  {
   "cell_type": "code",
   "execution_count": 67,
   "metadata": {},
   "outputs": [
    {
     "data": {
      "text/plain": [
       "0.9999999999999998"
      ]
     },
     "execution_count": 67,
     "metadata": {},
     "output_type": "execute_result"
    }
   ],
   "source": [
    "sum(feature_importance.importance)"
   ]
  },
  {
   "cell_type": "code",
   "execution_count": 68,
   "metadata": {},
   "outputs": [
    {
     "data": {
      "text/html": [
       "<div>\n",
       "<style scoped>\n",
       "    .dataframe tbody tr th:only-of-type {\n",
       "        vertical-align: middle;\n",
       "    }\n",
       "\n",
       "    .dataframe tbody tr th {\n",
       "        vertical-align: top;\n",
       "    }\n",
       "\n",
       "    .dataframe thead th {\n",
       "        text-align: right;\n",
       "    }\n",
       "</style>\n",
       "<table border=\"1\" class=\"dataframe\">\n",
       "  <thead>\n",
       "    <tr style=\"text-align: right;\">\n",
       "      <th></th>\n",
       "      <th>features</th>\n",
       "      <th>importance</th>\n",
       "    </tr>\n",
       "  </thead>\n",
       "  <tbody>\n",
       "    <tr>\n",
       "      <th>7</th>\n",
       "      <td>Ce</td>\n",
       "      <td>0.30484</td>\n",
       "    </tr>\n",
       "    <tr>\n",
       "      <th>2</th>\n",
       "      <td>Vmeso</td>\n",
       "      <td>0.23766</td>\n",
       "    </tr>\n",
       "    <tr>\n",
       "      <th>12</th>\n",
       "      <td>C_0</td>\n",
       "      <td>0.16793</td>\n",
       "    </tr>\n",
       "    <tr>\n",
       "      <th>6</th>\n",
       "      <td>Ag</td>\n",
       "      <td>0.09550</td>\n",
       "    </tr>\n",
       "    <tr>\n",
       "      <th>34</th>\n",
       "      <td>TP</td>\n",
       "      <td>0.04541</td>\n",
       "    </tr>\n",
       "    <tr>\n",
       "      <th>3</th>\n",
       "      <td>pore_size</td>\n",
       "      <td>0.03444</td>\n",
       "    </tr>\n",
       "    <tr>\n",
       "      <th>4</th>\n",
       "      <td>Si_Al</td>\n",
       "      <td>0.03364</td>\n",
       "    </tr>\n",
       "    <tr>\n",
       "      <th>41</th>\n",
       "      <td>n-Octane</td>\n",
       "      <td>0.02496</td>\n",
       "    </tr>\n",
       "    <tr>\n",
       "      <th>1</th>\n",
       "      <td>Vmicro</td>\n",
       "      <td>0.01593</td>\n",
       "    </tr>\n",
       "    <tr>\n",
       "      <th>0</th>\n",
       "      <td>SA</td>\n",
       "      <td>0.01272</td>\n",
       "    </tr>\n",
       "    <tr>\n",
       "      <th>14</th>\n",
       "      <td>Temp</td>\n",
       "      <td>0.00688</td>\n",
       "    </tr>\n",
       "    <tr>\n",
       "      <th>9</th>\n",
       "      <td>Ni</td>\n",
       "      <td>0.00636</td>\n",
       "    </tr>\n",
       "    <tr>\n",
       "      <th>39</th>\n",
       "      <td>iso-octane</td>\n",
       "      <td>0.00401</td>\n",
       "    </tr>\n",
       "    <tr>\n",
       "      <th>5</th>\n",
       "      <td>Na</td>\n",
       "      <td>0.00301</td>\n",
       "    </tr>\n",
       "    <tr>\n",
       "      <th>28</th>\n",
       "      <td>NaY</td>\n",
       "      <td>0.00264</td>\n",
       "    </tr>\n",
       "    <tr>\n",
       "      <th>13</th>\n",
       "      <td>oil_adsorbent_ratio</td>\n",
       "      <td>0.00160</td>\n",
       "    </tr>\n",
       "    <tr>\n",
       "      <th>8</th>\n",
       "      <td>Cu</td>\n",
       "      <td>0.00062</td>\n",
       "    </tr>\n",
       "    <tr>\n",
       "      <th>35</th>\n",
       "      <td>ETHER</td>\n",
       "      <td>0.00038</td>\n",
       "    </tr>\n",
       "    <tr>\n",
       "      <th>30</th>\n",
       "      <td>NiY</td>\n",
       "      <td>0.00031</td>\n",
       "    </tr>\n",
       "    <tr>\n",
       "      <th>16</th>\n",
       "      <td>AgY</td>\n",
       "      <td>0.00028</td>\n",
       "    </tr>\n",
       "    <tr>\n",
       "      <th>37</th>\n",
       "      <td>ether</td>\n",
       "      <td>0.00022</td>\n",
       "    </tr>\n",
       "    <tr>\n",
       "      <th>27</th>\n",
       "      <td>MCM-22</td>\n",
       "      <td>0.00014</td>\n",
       "    </tr>\n",
       "    <tr>\n",
       "      <th>40</th>\n",
       "      <td>n-Heptane</td>\n",
       "      <td>0.00013</td>\n",
       "    </tr>\n",
       "    <tr>\n",
       "      <th>22</th>\n",
       "      <td>CuX</td>\n",
       "      <td>0.00009</td>\n",
       "    </tr>\n",
       "    <tr>\n",
       "      <th>23</th>\n",
       "      <td>CuY</td>\n",
       "      <td>0.00008</td>\n",
       "    </tr>\n",
       "    <tr>\n",
       "      <th>31</th>\n",
       "      <td>ZnY</td>\n",
       "      <td>0.00008</td>\n",
       "    </tr>\n",
       "    <tr>\n",
       "      <th>11</th>\n",
       "      <td>Cs</td>\n",
       "      <td>0.00007</td>\n",
       "    </tr>\n",
       "    <tr>\n",
       "      <th>19</th>\n",
       "      <td>CuAgY</td>\n",
       "      <td>0.00002</td>\n",
       "    </tr>\n",
       "    <tr>\n",
       "      <th>38</th>\n",
       "      <td>hexadecane</td>\n",
       "      <td>0.00002</td>\n",
       "    </tr>\n",
       "    <tr>\n",
       "      <th>26</th>\n",
       "      <td>HFAU-5</td>\n",
       "      <td>0.00001</td>\n",
       "    </tr>\n",
       "    <tr>\n",
       "      <th>17</th>\n",
       "      <td>CeY</td>\n",
       "      <td>0.00001</td>\n",
       "    </tr>\n",
       "    <tr>\n",
       "      <th>18</th>\n",
       "      <td>CsY</td>\n",
       "      <td>0.00001</td>\n",
       "    </tr>\n",
       "    <tr>\n",
       "      <th>36</th>\n",
       "      <td>cyclohexane</td>\n",
       "      <td>0.00000</td>\n",
       "    </tr>\n",
       "    <tr>\n",
       "      <th>42</th>\n",
       "      <td>n-heptane</td>\n",
       "      <td>0.00000</td>\n",
       "    </tr>\n",
       "    <tr>\n",
       "      <th>10</th>\n",
       "      <td>Zn</td>\n",
       "      <td>0.00000</td>\n",
       "    </tr>\n",
       "    <tr>\n",
       "      <th>15</th>\n",
       "      <td>AgX-zeolite</td>\n",
       "      <td>0.00000</td>\n",
       "    </tr>\n",
       "    <tr>\n",
       "      <th>24</th>\n",
       "      <td>HFAU-17</td>\n",
       "      <td>0.00000</td>\n",
       "    </tr>\n",
       "    <tr>\n",
       "      <th>25</th>\n",
       "      <td>HFAU-47</td>\n",
       "      <td>0.00000</td>\n",
       "    </tr>\n",
       "    <tr>\n",
       "      <th>33</th>\n",
       "      <td>DBT</td>\n",
       "      <td>0.00000</td>\n",
       "    </tr>\n",
       "    <tr>\n",
       "      <th>32</th>\n",
       "      <td>clinoptilolite</td>\n",
       "      <td>0.00000</td>\n",
       "    </tr>\n",
       "    <tr>\n",
       "      <th>20</th>\n",
       "      <td>CuICeIVY</td>\n",
       "      <td>0.00000</td>\n",
       "    </tr>\n",
       "    <tr>\n",
       "      <th>29</th>\n",
       "      <td>NiCeY</td>\n",
       "      <td>0.00000</td>\n",
       "    </tr>\n",
       "    <tr>\n",
       "      <th>21</th>\n",
       "      <td>CuIY</td>\n",
       "      <td>0.00000</td>\n",
       "    </tr>\n",
       "    <tr>\n",
       "      <th>43</th>\n",
       "      <td>n-octane</td>\n",
       "      <td>0.00000</td>\n",
       "    </tr>\n",
       "  </tbody>\n",
       "</table>\n",
       "</div>"
      ],
      "text/plain": [
       "               features  importance\n",
       "7                    Ce     0.30484\n",
       "2                 Vmeso     0.23766\n",
       "12                  C_0     0.16793\n",
       "6                    Ag     0.09550\n",
       "34                   TP     0.04541\n",
       "3             pore_size     0.03444\n",
       "4                 Si_Al     0.03364\n",
       "41             n-Octane     0.02496\n",
       "1                Vmicro     0.01593\n",
       "0                    SA     0.01272\n",
       "14                 Temp     0.00688\n",
       "9                    Ni     0.00636\n",
       "39           iso-octane     0.00401\n",
       "5                    Na     0.00301\n",
       "28                  NaY     0.00264\n",
       "13  oil_adsorbent_ratio     0.00160\n",
       "8                    Cu     0.00062\n",
       "35                ETHER     0.00038\n",
       "30                  NiY     0.00031\n",
       "16                  AgY     0.00028\n",
       "37                ether     0.00022\n",
       "27               MCM-22     0.00014\n",
       "40            n-Heptane     0.00013\n",
       "22                  CuX     0.00009\n",
       "23                  CuY     0.00008\n",
       "31                  ZnY     0.00008\n",
       "11                   Cs     0.00007\n",
       "19                CuAgY     0.00002\n",
       "38           hexadecane     0.00002\n",
       "26               HFAU-5     0.00001\n",
       "17                  CeY     0.00001\n",
       "18                  CsY     0.00001\n",
       "36          cyclohexane     0.00000\n",
       "42            n-heptane     0.00000\n",
       "10                   Zn     0.00000\n",
       "15          AgX-zeolite     0.00000\n",
       "24              HFAU-17     0.00000\n",
       "25              HFAU-47     0.00000\n",
       "33                  DBT     0.00000\n",
       "32       clinoptilolite     0.00000\n",
       "20             CuICeIVY     0.00000\n",
       "29                NiCeY     0.00000\n",
       "21                 CuIY     0.00000\n",
       "43             n-octane     0.00000"
      ]
     },
     "execution_count": 68,
     "metadata": {},
     "output_type": "execute_result"
    }
   ],
   "source": [
    "feature_importance.sort_values(\"importance\", ascending=False)"
   ]
  },
  {
   "cell_type": "code",
   "execution_count": 69,
   "metadata": {},
   "outputs": [],
   "source": [
    "result = permutation_importance(regressor, X_train, y_train)"
   ]
  },
  {
   "cell_type": "code",
   "execution_count": 70,
   "metadata": {},
   "outputs": [],
   "source": [
    "#result.importances_mean"
   ]
  },
  {
   "cell_type": "code",
   "execution_count": 71,
   "metadata": {},
   "outputs": [],
   "source": [
    "feature_importance_PI = pd.DataFrame(data = {\"features\":zeolite_final.drop([\"Capacity\"], axis = 1).columns, \n",
    "                                          \"importance_mean\":result.importances_mean,\n",
    "                                          \"importance_std\": result.importances_std} )\n",
    "feature_importance_PI.to_csv(\"RF_feature_importance_PI.tsv\", sep = \"\\t\", index = False)"
   ]
  },
  {
   "cell_type": "code",
   "execution_count": 72,
   "metadata": {},
   "outputs": [],
   "source": [
    "?result.importances_mean"
   ]
  },
  {
   "cell_type": "code",
   "execution_count": 73,
   "metadata": {},
   "outputs": [],
   "source": [
    "feature_importance_PI[\"importance_mean\"] = round(feature_importance_PI[\"importance_mean\"], 5)"
   ]
  },
  {
   "cell_type": "code",
   "execution_count": 346,
   "metadata": {},
   "outputs": [
    {
     "data": {
      "text/html": [
       "<div>\n",
       "<style scoped>\n",
       "    .dataframe tbody tr th:only-of-type {\n",
       "        vertical-align: middle;\n",
       "    }\n",
       "\n",
       "    .dataframe tbody tr th {\n",
       "        vertical-align: top;\n",
       "    }\n",
       "\n",
       "    .dataframe thead th {\n",
       "        text-align: right;\n",
       "    }\n",
       "</style>\n",
       "<table border=\"1\" class=\"dataframe\">\n",
       "  <thead>\n",
       "    <tr style=\"text-align: right;\">\n",
       "      <th></th>\n",
       "      <th>features</th>\n",
       "      <th>importance_mean</th>\n",
       "      <th>importance_std</th>\n",
       "    </tr>\n",
       "  </thead>\n",
       "  <tbody>\n",
       "    <tr>\n",
       "      <th>12</th>\n",
       "      <td>C_0</td>\n",
       "      <td>0.36344</td>\n",
       "      <td>2.319110e-02</td>\n",
       "    </tr>\n",
       "    <tr>\n",
       "      <th>2</th>\n",
       "      <td>Vmeso</td>\n",
       "      <td>0.36299</td>\n",
       "      <td>1.552827e-02</td>\n",
       "    </tr>\n",
       "    <tr>\n",
       "      <th>7</th>\n",
       "      <td>Ce</td>\n",
       "      <td>0.35343</td>\n",
       "      <td>2.657719e-02</td>\n",
       "    </tr>\n",
       "    <tr>\n",
       "      <th>34</th>\n",
       "      <td>TP</td>\n",
       "      <td>0.07156</td>\n",
       "      <td>4.716304e-03</td>\n",
       "    </tr>\n",
       "    <tr>\n",
       "      <th>6</th>\n",
       "      <td>Ag</td>\n",
       "      <td>0.03424</td>\n",
       "      <td>2.882292e-03</td>\n",
       "    </tr>\n",
       "    <tr>\n",
       "      <th>4</th>\n",
       "      <td>Si_Al</td>\n",
       "      <td>0.02790</td>\n",
       "      <td>3.002129e-03</td>\n",
       "    </tr>\n",
       "    <tr>\n",
       "      <th>14</th>\n",
       "      <td>Temp</td>\n",
       "      <td>0.01392</td>\n",
       "      <td>1.492745e-03</td>\n",
       "    </tr>\n",
       "    <tr>\n",
       "      <th>5</th>\n",
       "      <td>Na</td>\n",
       "      <td>0.00951</td>\n",
       "      <td>1.426133e-03</td>\n",
       "    </tr>\n",
       "    <tr>\n",
       "      <th>0</th>\n",
       "      <td>SA</td>\n",
       "      <td>0.00927</td>\n",
       "      <td>1.417817e-03</td>\n",
       "    </tr>\n",
       "    <tr>\n",
       "      <th>42</th>\n",
       "      <td>n-Octane</td>\n",
       "      <td>0.00832</td>\n",
       "      <td>1.781730e-03</td>\n",
       "    </tr>\n",
       "    <tr>\n",
       "      <th>13</th>\n",
       "      <td>oil_adsorbent_ratio</td>\n",
       "      <td>0.00481</td>\n",
       "      <td>2.978802e-04</td>\n",
       "    </tr>\n",
       "    <tr>\n",
       "      <th>8</th>\n",
       "      <td>Cu</td>\n",
       "      <td>0.00461</td>\n",
       "      <td>3.136393e-04</td>\n",
       "    </tr>\n",
       "    <tr>\n",
       "      <th>3</th>\n",
       "      <td>pore_size</td>\n",
       "      <td>0.00308</td>\n",
       "      <td>6.597832e-04</td>\n",
       "    </tr>\n",
       "    <tr>\n",
       "      <th>43</th>\n",
       "      <td>n-heptane</td>\n",
       "      <td>0.00224</td>\n",
       "      <td>3.210678e-04</td>\n",
       "    </tr>\n",
       "    <tr>\n",
       "      <th>40</th>\n",
       "      <td>iso-octane</td>\n",
       "      <td>0.00175</td>\n",
       "      <td>3.561166e-04</td>\n",
       "    </tr>\n",
       "    <tr>\n",
       "      <th>1</th>\n",
       "      <td>Vmicro</td>\n",
       "      <td>0.00099</td>\n",
       "      <td>1.684747e-04</td>\n",
       "    </tr>\n",
       "    <tr>\n",
       "      <th>9</th>\n",
       "      <td>Ni</td>\n",
       "      <td>0.00046</td>\n",
       "      <td>1.164926e-04</td>\n",
       "    </tr>\n",
       "    <tr>\n",
       "      <th>36</th>\n",
       "      <td>ETHER</td>\n",
       "      <td>0.00041</td>\n",
       "      <td>1.130857e-04</td>\n",
       "    </tr>\n",
       "    <tr>\n",
       "      <th>28</th>\n",
       "      <td>NaY</td>\n",
       "      <td>0.00031</td>\n",
       "      <td>3.428086e-06</td>\n",
       "    </tr>\n",
       "    <tr>\n",
       "      <th>33</th>\n",
       "      <td>DBT</td>\n",
       "      <td>0.00026</td>\n",
       "      <td>6.420616e-05</td>\n",
       "    </tr>\n",
       "    <tr>\n",
       "      <th>16</th>\n",
       "      <td>AgY</td>\n",
       "      <td>0.00018</td>\n",
       "      <td>5.794037e-05</td>\n",
       "    </tr>\n",
       "    <tr>\n",
       "      <th>19</th>\n",
       "      <td>CuAgY</td>\n",
       "      <td>0.00018</td>\n",
       "      <td>4.746685e-05</td>\n",
       "    </tr>\n",
       "    <tr>\n",
       "      <th>26</th>\n",
       "      <td>HFAU-5</td>\n",
       "      <td>0.00012</td>\n",
       "      <td>6.937329e-06</td>\n",
       "    </tr>\n",
       "    <tr>\n",
       "      <th>38</th>\n",
       "      <td>ether</td>\n",
       "      <td>0.00010</td>\n",
       "      <td>7.265700e-05</td>\n",
       "    </tr>\n",
       "    <tr>\n",
       "      <th>22</th>\n",
       "      <td>CuX</td>\n",
       "      <td>0.00009</td>\n",
       "      <td>5.342418e-06</td>\n",
       "    </tr>\n",
       "    <tr>\n",
       "      <th>20</th>\n",
       "      <td>CuICeIVY</td>\n",
       "      <td>0.00004</td>\n",
       "      <td>0.000000e+00</td>\n",
       "    </tr>\n",
       "    <tr>\n",
       "      <th>27</th>\n",
       "      <td>MCM-22</td>\n",
       "      <td>0.00003</td>\n",
       "      <td>1.884327e-06</td>\n",
       "    </tr>\n",
       "    <tr>\n",
       "      <th>35</th>\n",
       "      <td>dbt</td>\n",
       "      <td>0.00002</td>\n",
       "      <td>0.000000e+00</td>\n",
       "    </tr>\n",
       "    <tr>\n",
       "      <th>29</th>\n",
       "      <td>NiCeY</td>\n",
       "      <td>0.00002</td>\n",
       "      <td>1.592507e-05</td>\n",
       "    </tr>\n",
       "    <tr>\n",
       "      <th>18</th>\n",
       "      <td>CsY</td>\n",
       "      <td>0.00001</td>\n",
       "      <td>4.503132e-07</td>\n",
       "    </tr>\n",
       "    <tr>\n",
       "      <th>37</th>\n",
       "      <td>cyclohexane</td>\n",
       "      <td>0.00000</td>\n",
       "      <td>0.000000e+00</td>\n",
       "    </tr>\n",
       "    <tr>\n",
       "      <th>10</th>\n",
       "      <td>Zn</td>\n",
       "      <td>-0.00000</td>\n",
       "      <td>0.000000e+00</td>\n",
       "    </tr>\n",
       "    <tr>\n",
       "      <th>11</th>\n",
       "      <td>Cs</td>\n",
       "      <td>0.00000</td>\n",
       "      <td>0.000000e+00</td>\n",
       "    </tr>\n",
       "    <tr>\n",
       "      <th>41</th>\n",
       "      <td>n-Heptane</td>\n",
       "      <td>0.00000</td>\n",
       "      <td>2.276153e-06</td>\n",
       "    </tr>\n",
       "    <tr>\n",
       "      <th>15</th>\n",
       "      <td>AgX-zeolite</td>\n",
       "      <td>0.00000</td>\n",
       "      <td>6.593667e-08</td>\n",
       "    </tr>\n",
       "    <tr>\n",
       "      <th>39</th>\n",
       "      <td>hexadecane</td>\n",
       "      <td>0.00000</td>\n",
       "      <td>7.646746e-06</td>\n",
       "    </tr>\n",
       "    <tr>\n",
       "      <th>17</th>\n",
       "      <td>CeY</td>\n",
       "      <td>0.00000</td>\n",
       "      <td>4.500829e-07</td>\n",
       "    </tr>\n",
       "    <tr>\n",
       "      <th>25</th>\n",
       "      <td>HFAU-47</td>\n",
       "      <td>-0.00000</td>\n",
       "      <td>0.000000e+00</td>\n",
       "    </tr>\n",
       "    <tr>\n",
       "      <th>24</th>\n",
       "      <td>HFAU-17</td>\n",
       "      <td>-0.00000</td>\n",
       "      <td>0.000000e+00</td>\n",
       "    </tr>\n",
       "    <tr>\n",
       "      <th>21</th>\n",
       "      <td>CuIY</td>\n",
       "      <td>0.00000</td>\n",
       "      <td>0.000000e+00</td>\n",
       "    </tr>\n",
       "    <tr>\n",
       "      <th>32</th>\n",
       "      <td>clinoptilolite</td>\n",
       "      <td>-0.00000</td>\n",
       "      <td>1.199635e-06</td>\n",
       "    </tr>\n",
       "    <tr>\n",
       "      <th>31</th>\n",
       "      <td>ZnY</td>\n",
       "      <td>-0.00000</td>\n",
       "      <td>0.000000e+00</td>\n",
       "    </tr>\n",
       "    <tr>\n",
       "      <th>30</th>\n",
       "      <td>NiY</td>\n",
       "      <td>0.00000</td>\n",
       "      <td>1.476187e-06</td>\n",
       "    </tr>\n",
       "    <tr>\n",
       "      <th>44</th>\n",
       "      <td>n-octane</td>\n",
       "      <td>0.00000</td>\n",
       "      <td>0.000000e+00</td>\n",
       "    </tr>\n",
       "    <tr>\n",
       "      <th>23</th>\n",
       "      <td>CuY</td>\n",
       "      <td>-0.00001</td>\n",
       "      <td>1.824801e-07</td>\n",
       "    </tr>\n",
       "  </tbody>\n",
       "</table>\n",
       "</div>"
      ],
      "text/plain": [
       "               features  importance_mean  importance_std\n",
       "12                  C_0          0.36344    2.319110e-02\n",
       "2                 Vmeso          0.36299    1.552827e-02\n",
       "7                    Ce          0.35343    2.657719e-02\n",
       "34                   TP          0.07156    4.716304e-03\n",
       "6                    Ag          0.03424    2.882292e-03\n",
       "4                 Si_Al          0.02790    3.002129e-03\n",
       "14                 Temp          0.01392    1.492745e-03\n",
       "5                    Na          0.00951    1.426133e-03\n",
       "0                    SA          0.00927    1.417817e-03\n",
       "42             n-Octane          0.00832    1.781730e-03\n",
       "13  oil_adsorbent_ratio          0.00481    2.978802e-04\n",
       "8                    Cu          0.00461    3.136393e-04\n",
       "3             pore_size          0.00308    6.597832e-04\n",
       "43            n-heptane          0.00224    3.210678e-04\n",
       "40           iso-octane          0.00175    3.561166e-04\n",
       "1                Vmicro          0.00099    1.684747e-04\n",
       "9                    Ni          0.00046    1.164926e-04\n",
       "36                ETHER          0.00041    1.130857e-04\n",
       "28                  NaY          0.00031    3.428086e-06\n",
       "33                  DBT          0.00026    6.420616e-05\n",
       "16                  AgY          0.00018    5.794037e-05\n",
       "19                CuAgY          0.00018    4.746685e-05\n",
       "26               HFAU-5          0.00012    6.937329e-06\n",
       "38                ether          0.00010    7.265700e-05\n",
       "22                  CuX          0.00009    5.342418e-06\n",
       "20             CuICeIVY          0.00004    0.000000e+00\n",
       "27               MCM-22          0.00003    1.884327e-06\n",
       "35                  dbt          0.00002    0.000000e+00\n",
       "29                NiCeY          0.00002    1.592507e-05\n",
       "18                  CsY          0.00001    4.503132e-07\n",
       "37          cyclohexane          0.00000    0.000000e+00\n",
       "10                   Zn         -0.00000    0.000000e+00\n",
       "11                   Cs          0.00000    0.000000e+00\n",
       "41            n-Heptane          0.00000    2.276153e-06\n",
       "15          AgX-zeolite          0.00000    6.593667e-08\n",
       "39           hexadecane          0.00000    7.646746e-06\n",
       "17                  CeY          0.00000    4.500829e-07\n",
       "25              HFAU-47         -0.00000    0.000000e+00\n",
       "24              HFAU-17         -0.00000    0.000000e+00\n",
       "21                 CuIY          0.00000    0.000000e+00\n",
       "32       clinoptilolite         -0.00000    1.199635e-06\n",
       "31                  ZnY         -0.00000    0.000000e+00\n",
       "30                  NiY          0.00000    1.476187e-06\n",
       "44             n-octane          0.00000    0.000000e+00\n",
       "23                  CuY         -0.00001    1.824801e-07"
      ]
     },
     "execution_count": 346,
     "metadata": {},
     "output_type": "execute_result"
    }
   ],
   "source": [
    "feature_importance_PI.sort_values(\"importance_mean\", ascending=False)"
   ]
  },
  {
   "cell_type": "code",
   "execution_count": 74,
   "metadata": {},
   "outputs": [],
   "source": [
    "#https://towardsdatascience.com/hyperparameter-tuning-the-random-forest-in-python-using-scikit-learn-28d2aa77dd74\n",
    "# Number of trees in random forest\n",
    "n_estimators = list(range(1,20))\n",
    "# Number of features to consider at every split\n",
    "max_features = list(range(1,40))\n",
    "# Maximum number of levels in tree\n",
    "max_depth = [int(x) for x in np.linspace(20, 40, num = 10)]\n",
    "max_depth.append(None)\n",
    "# Minimum number of samples required to split a node\n",
    "min_samples_split = [1, 2, 4]\n",
    "# Minimum number of samples required at each leaf node\n",
    "min_samples_leaf = [1, 2, 4]\n",
    "# Method of selecting samples for training each tree"
   ]
  },
  {
   "cell_type": "code",
   "execution_count": 75,
   "metadata": {},
   "outputs": [],
   "source": [
    "# Create the random grid\n",
    "random_grid = {'n_estimators': n_estimators,\n",
    "               'max_features': max_features,\n",
    "               'max_depth': max_depth,\n",
    "               'min_samples_split': min_samples_split,\n",
    "               'min_samples_leaf': min_samples_leaf}"
   ]
  },
  {
   "cell_type": "code",
   "execution_count": 76,
   "metadata": {},
   "outputs": [
    {
     "data": {
      "text/plain": [
       "{'n_estimators': [1,\n",
       "  2,\n",
       "  3,\n",
       "  4,\n",
       "  5,\n",
       "  6,\n",
       "  7,\n",
       "  8,\n",
       "  9,\n",
       "  10,\n",
       "  11,\n",
       "  12,\n",
       "  13,\n",
       "  14,\n",
       "  15,\n",
       "  16,\n",
       "  17,\n",
       "  18,\n",
       "  19],\n",
       " 'max_features': [1,\n",
       "  2,\n",
       "  3,\n",
       "  4,\n",
       "  5,\n",
       "  6,\n",
       "  7,\n",
       "  8,\n",
       "  9,\n",
       "  10,\n",
       "  11,\n",
       "  12,\n",
       "  13,\n",
       "  14,\n",
       "  15,\n",
       "  16,\n",
       "  17,\n",
       "  18,\n",
       "  19,\n",
       "  20,\n",
       "  21,\n",
       "  22,\n",
       "  23,\n",
       "  24,\n",
       "  25,\n",
       "  26,\n",
       "  27,\n",
       "  28,\n",
       "  29,\n",
       "  30,\n",
       "  31,\n",
       "  32,\n",
       "  33,\n",
       "  34,\n",
       "  35,\n",
       "  36,\n",
       "  37,\n",
       "  38,\n",
       "  39],\n",
       " 'max_depth': [20, 22, 24, 26, 28, 31, 33, 35, 37, 40, None],\n",
       " 'min_samples_split': [1, 2, 4],\n",
       " 'min_samples_leaf': [1, 2, 4]}"
      ]
     },
     "execution_count": 76,
     "metadata": {},
     "output_type": "execute_result"
    }
   ],
   "source": [
    "random_grid"
   ]
  },
  {
   "cell_type": "code",
   "execution_count": 77,
   "metadata": {},
   "outputs": [
    {
     "name": "stdout",
     "output_type": "stream",
     "text": [
      "Fitting 10 folds for each of 100 candidates, totalling 1000 fits\n"
     ]
    },
    {
     "name": "stderr",
     "output_type": "stream",
     "text": [
      "/opt/miniconda3/envs/py3k/lib/python3.8/site-packages/sklearn/model_selection/_search.py:918: UserWarning: One or more of the test scores are non-finite: [       nan        nan 0.87257047 0.94371664 0.94798358        nan\n",
      "        nan        nan 0.93129745        nan        nan 0.91367928\n",
      " 0.96401647 0.95877574        nan 0.90089824        nan        nan\n",
      " 0.85351904 0.95439076        nan 0.90859267        nan 0.84105283\n",
      "        nan 0.95940211        nan        nan 0.75955528 0.95246268\n",
      " 0.94748152        nan        nan 0.92234694 0.95427014        nan\n",
      " 0.91179519        nan 0.93040505 0.94206281 0.89117786        nan\n",
      "        nan 0.8992349  0.93965595 0.82955141 0.94438749 0.88622399\n",
      "        nan        nan 0.94181713 0.80796526        nan 0.95059581\n",
      "        nan        nan 0.91758461 0.92623489 0.85227096        nan\n",
      " 0.89074529        nan 0.9637729  0.95395427 0.9436467  0.9395138\n",
      " 0.89922978 0.9496944  0.93683239        nan 0.93093462 0.7841711\n",
      "        nan        nan        nan        nan 0.83610724        nan\n",
      "        nan 0.87654876 0.77854032        nan        nan        nan\n",
      " 0.874814          nan 0.85725984 0.92761316 0.92508792        nan\n",
      " 0.91432453 0.94800815 0.87675845        nan 0.93142199 0.93672661\n",
      " 0.86426866        nan 0.79678032 0.83482562]\n",
      "  warnings.warn(\n"
     ]
    },
    {
     "data": {
      "text/plain": [
       "RandomizedSearchCV(cv=10, estimator=RandomForestRegressor(), n_iter=100,\n",
       "                   n_jobs=-1,\n",
       "                   param_distributions={'max_depth': [20, 22, 24, 26, 28, 31,\n",
       "                                                      33, 35, 37, 40, None],\n",
       "                                        'max_features': [1, 2, 3, 4, 5, 6, 7, 8,\n",
       "                                                         9, 10, 11, 12, 13, 14,\n",
       "                                                         15, 16, 17, 18, 19, 20,\n",
       "                                                         21, 22, 23, 24, 25, 26,\n",
       "                                                         27, 28, 29, 30, ...],\n",
       "                                        'min_samples_leaf': [1, 2, 4],\n",
       "                                        'min_samples_split': [1, 2, 4],\n",
       "                                        'n_estimators': [1, 2, 3, 4, 5, 6, 7, 8,\n",
       "                                                         9, 10, 11, 12, 13, 14,\n",
       "                                                         15, 16, 17, 18, 19]},\n",
       "                   random_state=42, verbose=2)"
      ]
     },
     "execution_count": 77,
     "metadata": {},
     "output_type": "execute_result"
    }
   ],
   "source": [
    "# Use the random grid to search for best hyperparameters\n",
    "# First create the base model to tune\n",
    "rf = RandomForestRegressor()\n",
    "# Random search of parameters, using 3 fold cross validation, \n",
    "# search across 100 different combinations, and use all available cores\n",
    "rf_random = RandomizedSearchCV(estimator = rf, param_distributions = random_grid, n_iter = 100, cv = 10, verbose=2, random_state=42, n_jobs = -1)\n",
    "# Fit the random search model\n",
    "rf_random.fit(X_train, y_train)"
   ]
  },
  {
   "cell_type": "code",
   "execution_count": 78,
   "metadata": {},
   "outputs": [
    {
     "data": {
      "text/plain": [
       "{'n_estimators': 19,\n",
       " 'min_samples_split': 4,\n",
       " 'min_samples_leaf': 1,\n",
       " 'max_features': 38,\n",
       " 'max_depth': 37}"
      ]
     },
     "execution_count": 78,
     "metadata": {},
     "output_type": "execute_result"
    }
   ],
   "source": [
    "rf_random.best_params_"
   ]
  },
  {
   "cell_type": "code",
   "execution_count": 79,
   "metadata": {},
   "outputs": [],
   "source": [
    "def evaluate(model, test_features, test_labels):\n",
    "    predictions = model.predict(test_features)\n",
    "    errors = abs(predictions - test_labels)\n",
    "    mape = 100 * np.mean(errors / test_labels)\n",
    "    accuracy = 100 - mape\n",
    "    print('Model Performance')\n",
    "    print('Average Error: {:0.4f} degrees.'.format(np.mean(errors)))\n",
    "    print('Accuracy = {:0.2f}%.'.format(accuracy))\n",
    "    \n",
    "    return accuracy"
   ]
  },
  {
   "cell_type": "code",
   "execution_count": null,
   "metadata": {},
   "outputs": [],
   "source": []
  },
  {
   "cell_type": "code",
   "execution_count": 80,
   "metadata": {},
   "outputs": [
    {
     "name": "stdout",
     "output_type": "stream",
     "text": [
      "Model Performance\n",
      "Average Error: 5.9680 degrees.\n",
      "Accuracy = -685.65%.\n"
     ]
    }
   ],
   "source": [
    "base_model = RandomForestRegressor(n_estimators=n_trees, max_features=n_feat, random_state=42)\n",
    "base_model.fit(X_train, y_train)\n",
    "base_accuracy = evaluate(base_model, X_test, y_test)"
   ]
  },
  {
   "cell_type": "code",
   "execution_count": 81,
   "metadata": {},
   "outputs": [
    {
     "name": "stdout",
     "output_type": "stream",
     "text": [
      "Model Performance\n",
      "Average Error: 2.4959 degrees.\n",
      "Accuracy = 48.52%.\n"
     ]
    }
   ],
   "source": [
    "best_random = rf_random.best_estimator_\n",
    "random_accuracy = evaluate(best_random, X_train, y_train)"
   ]
  },
  {
   "cell_type": "code",
   "execution_count": null,
   "metadata": {},
   "outputs": [],
   "source": []
  }
 ],
 "metadata": {
  "jupytext": {
   "formats": "ipynb,py"
  },
  "kernelspec": {
   "display_name": "Python 3",
   "language": "python",
   "name": "python3"
  },
  "language_info": {
   "codemirror_mode": {
    "name": "ipython",
    "version": 3
   },
   "file_extension": ".py",
   "mimetype": "text/x-python",
   "name": "python",
   "nbconvert_exporter": "python",
   "pygments_lexer": "ipython3",
   "version": "3.8.2"
  }
 },
 "nbformat": 4,
 "nbformat_minor": 4
}
