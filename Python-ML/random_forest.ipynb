{
 "cells": [
  {
   "cell_type": "code",
   "execution_count": 1,
   "metadata": {
    "lines_to_next_cell": 2
   },
   "outputs": [],
   "source": [
    "from sklearn.model_selection import train_test_split\n",
    "from sklearn.ensemble import RandomForestRegressor\n",
    "from sklearn.model_selection import RandomizedSearchCV\n",
    "from sklearn.preprocessing import StandardScaler\n",
    "from sklearn.compose import ColumnTransformer\n",
    "from sklearn.tree import DecisionTreeRegressor\n",
    "from sklearn.inspection import permutation_importance\n",
    "from load_data import GetZeoliteTsv\n",
    "import matplotlib.pyplot as plt\n",
    "from sklearn import metrics\n",
    "from scipy import stats\n",
    "import seaborn as sns\n",
    "import pandas as pd\n",
    "import numpy as np\n",
    "import joblib\n",
    "import os\n",
    "np.random.seed(1)"
   ]
  },
  {
   "cell_type": "code",
   "execution_count": 2,
   "metadata": {
    "lines_to_next_cell": 2
   },
   "outputs": [],
   "source": [
    "#zeolite datafile exported from excel\n",
    "zeolite_fname = \"C:\\\\Users\\\\DrewX\\\\Documents\\\\Project-Roger-Dodger\\\\Python-ML\\\\zeolites database catagories june data base.txt\""
   ]
  },
  {
   "cell_type": "code",
   "execution_count": 3,
   "metadata": {
    "lines_to_next_cell": 2
   },
   "outputs": [],
   "source": [
    "#open the raw tsv data file \n",
    "#the file has to be correctly formatted with columns headers  \n",
    "zeolite_fileObj = open(zeolite_fname)"
   ]
  },
  {
   "cell_type": "code",
   "execution_count": 4,
   "metadata": {
    "lines_to_next_cell": 2
   },
   "outputs": [],
   "source": [
    "#create an instance to start processing the datafile\n",
    "getZeo = GetZeoliteTsv(zeolite_fileObj)"
   ]
  },
  {
   "cell_type": "code",
   "execution_count": 5,
   "metadata": {
    "lines_to_next_cell": 2,
    "scrolled": true
   },
   "outputs": [
    {
     "data": {
      "text/html": [
       "<div>\n",
       "<style scoped>\n",
       "    .dataframe tbody tr th:only-of-type {\n",
       "        vertical-align: middle;\n",
       "    }\n",
       "\n",
       "    .dataframe tbody tr th {\n",
       "        vertical-align: top;\n",
       "    }\n",
       "\n",
       "    .dataframe thead th {\n",
       "        text-align: right;\n",
       "    }\n",
       "</style>\n",
       "<table border=\"1\" class=\"dataframe\">\n",
       "  <thead>\n",
       "    <tr style=\"text-align: right;\">\n",
       "      <th></th>\n",
       "      <th>Adsorbent</th>\n",
       "      <th>SA</th>\n",
       "      <th>Vmicro</th>\n",
       "      <th>Vmeso</th>\n",
       "      <th>pore_size</th>\n",
       "      <th>Si_Al</th>\n",
       "      <th>Na+</th>\n",
       "      <th>Ag+</th>\n",
       "      <th>Cu+</th>\n",
       "      <th>Ce+4</th>\n",
       "      <th>...</th>\n",
       "      <th>R_Ni+2</th>\n",
       "      <th>adsorbate</th>\n",
       "      <th>dipole_moment</th>\n",
       "      <th>chemical_hardness</th>\n",
       "      <th>kinetic_diameter</th>\n",
       "      <th>C_0</th>\n",
       "      <th>solvent</th>\n",
       "      <th>oil_adsorbent_ratio</th>\n",
       "      <th>Temp</th>\n",
       "      <th>Capacity</th>\n",
       "    </tr>\n",
       "  </thead>\n",
       "  <tbody>\n",
       "    <tr>\n",
       "      <th>0</th>\n",
       "      <td>CuAgY</td>\n",
       "      <td>591.00</td>\n",
       "      <td>0.295</td>\n",
       "      <td>NaN</td>\n",
       "      <td>NaN</td>\n",
       "      <td>2.43</td>\n",
       "      <td>0.02</td>\n",
       "      <td>0.47</td>\n",
       "      <td>0.260</td>\n",
       "      <td>NaN</td>\n",
       "      <td>...</td>\n",
       "      <td>NaN</td>\n",
       "      <td>TP</td>\n",
       "      <td>0.57</td>\n",
       "      <td>3.0401</td>\n",
       "      <td>0.77</td>\n",
       "      <td>291</td>\n",
       "      <td>cyclohexane</td>\n",
       "      <td>125</td>\n",
       "      <td>50</td>\n",
       "      <td>16.0</td>\n",
       "    </tr>\n",
       "    <tr>\n",
       "      <th>1</th>\n",
       "      <td>CuAgY</td>\n",
       "      <td>591.00</td>\n",
       "      <td>0.295</td>\n",
       "      <td>NaN</td>\n",
       "      <td>NaN</td>\n",
       "      <td>2.43</td>\n",
       "      <td>0.02</td>\n",
       "      <td>0.47</td>\n",
       "      <td>0.260</td>\n",
       "      <td>NaN</td>\n",
       "      <td>...</td>\n",
       "      <td>NaN</td>\n",
       "      <td>TP</td>\n",
       "      <td>0.57</td>\n",
       "      <td>3.0401</td>\n",
       "      <td>0.77</td>\n",
       "      <td>420</td>\n",
       "      <td>cyclohexane</td>\n",
       "      <td>125</td>\n",
       "      <td>50</td>\n",
       "      <td>24.0</td>\n",
       "    </tr>\n",
       "    <tr>\n",
       "      <th>2</th>\n",
       "      <td>CuAgY</td>\n",
       "      <td>591.00</td>\n",
       "      <td>0.295</td>\n",
       "      <td>NaN</td>\n",
       "      <td>NaN</td>\n",
       "      <td>2.43</td>\n",
       "      <td>0.02</td>\n",
       "      <td>0.47</td>\n",
       "      <td>0.260</td>\n",
       "      <td>NaN</td>\n",
       "      <td>...</td>\n",
       "      <td>NaN</td>\n",
       "      <td>TP</td>\n",
       "      <td>0.57</td>\n",
       "      <td>3.0401</td>\n",
       "      <td>0.77</td>\n",
       "      <td>556</td>\n",
       "      <td>cyclohexane</td>\n",
       "      <td>125</td>\n",
       "      <td>50</td>\n",
       "      <td>31.0</td>\n",
       "    </tr>\n",
       "    <tr>\n",
       "      <th>3</th>\n",
       "      <td>CuAgY</td>\n",
       "      <td>591.00</td>\n",
       "      <td>0.295</td>\n",
       "      <td>NaN</td>\n",
       "      <td>NaN</td>\n",
       "      <td>2.43</td>\n",
       "      <td>0.02</td>\n",
       "      <td>0.47</td>\n",
       "      <td>0.260</td>\n",
       "      <td>NaN</td>\n",
       "      <td>...</td>\n",
       "      <td>NaN</td>\n",
       "      <td>TP</td>\n",
       "      <td>0.57</td>\n",
       "      <td>3.0401</td>\n",
       "      <td>0.77</td>\n",
       "      <td>719</td>\n",
       "      <td>cyclohexane</td>\n",
       "      <td>125</td>\n",
       "      <td>50</td>\n",
       "      <td>34.3</td>\n",
       "    </tr>\n",
       "    <tr>\n",
       "      <th>4</th>\n",
       "      <td>CuAgY</td>\n",
       "      <td>591.00</td>\n",
       "      <td>0.295</td>\n",
       "      <td>NaN</td>\n",
       "      <td>NaN</td>\n",
       "      <td>2.43</td>\n",
       "      <td>0.02</td>\n",
       "      <td>0.47</td>\n",
       "      <td>0.260</td>\n",
       "      <td>NaN</td>\n",
       "      <td>...</td>\n",
       "      <td>NaN</td>\n",
       "      <td>TP</td>\n",
       "      <td>0.57</td>\n",
       "      <td>3.0401</td>\n",
       "      <td>0.77</td>\n",
       "      <td>833</td>\n",
       "      <td>cyclohexane</td>\n",
       "      <td>125</td>\n",
       "      <td>50</td>\n",
       "      <td>35.5</td>\n",
       "    </tr>\n",
       "    <tr>\n",
       "      <th>...</th>\n",
       "      <td>...</td>\n",
       "      <td>...</td>\n",
       "      <td>...</td>\n",
       "      <td>...</td>\n",
       "      <td>...</td>\n",
       "      <td>...</td>\n",
       "      <td>...</td>\n",
       "      <td>...</td>\n",
       "      <td>...</td>\n",
       "      <td>...</td>\n",
       "      <td>...</td>\n",
       "      <td>...</td>\n",
       "      <td>...</td>\n",
       "      <td>...</td>\n",
       "      <td>...</td>\n",
       "      <td>...</td>\n",
       "      <td>...</td>\n",
       "      <td>...</td>\n",
       "      <td>...</td>\n",
       "      <td>...</td>\n",
       "      <td>...</td>\n",
       "    </tr>\n",
       "    <tr>\n",
       "      <th>351</th>\n",
       "      <td>CuHY</td>\n",
       "      <td>399.29</td>\n",
       "      <td>0.190</td>\n",
       "      <td>NaN</td>\n",
       "      <td>NaN</td>\n",
       "      <td>3.40</td>\n",
       "      <td>0.40</td>\n",
       "      <td>NaN</td>\n",
       "      <td>0.467</td>\n",
       "      <td>NaN</td>\n",
       "      <td>...</td>\n",
       "      <td>NaN</td>\n",
       "      <td>TP</td>\n",
       "      <td>0.51</td>\n",
       "      <td>3.0401</td>\n",
       "      <td>0.77</td>\n",
       "      <td>1100</td>\n",
       "      <td>cyclohexane</td>\n",
       "      <td>20</td>\n",
       "      <td>20</td>\n",
       "      <td>9.8</td>\n",
       "    </tr>\n",
       "    <tr>\n",
       "      <th>352</th>\n",
       "      <td>CuHY</td>\n",
       "      <td>399.29</td>\n",
       "      <td>0.190</td>\n",
       "      <td>NaN</td>\n",
       "      <td>NaN</td>\n",
       "      <td>3.40</td>\n",
       "      <td>0.40</td>\n",
       "      <td>NaN</td>\n",
       "      <td>0.467</td>\n",
       "      <td>NaN</td>\n",
       "      <td>...</td>\n",
       "      <td>NaN</td>\n",
       "      <td>TP</td>\n",
       "      <td>0.51</td>\n",
       "      <td>3.0401</td>\n",
       "      <td>0.77</td>\n",
       "      <td>1219</td>\n",
       "      <td>cyclohexane</td>\n",
       "      <td>20</td>\n",
       "      <td>20</td>\n",
       "      <td>10.5</td>\n",
       "    </tr>\n",
       "    <tr>\n",
       "      <th>353</th>\n",
       "      <td>CuHY</td>\n",
       "      <td>399.29</td>\n",
       "      <td>0.190</td>\n",
       "      <td>NaN</td>\n",
       "      <td>NaN</td>\n",
       "      <td>3.40</td>\n",
       "      <td>0.40</td>\n",
       "      <td>NaN</td>\n",
       "      <td>0.467</td>\n",
       "      <td>NaN</td>\n",
       "      <td>...</td>\n",
       "      <td>NaN</td>\n",
       "      <td>TP</td>\n",
       "      <td>0.51</td>\n",
       "      <td>3.0401</td>\n",
       "      <td>0.77</td>\n",
       "      <td>1321</td>\n",
       "      <td>cyclohexane</td>\n",
       "      <td>20</td>\n",
       "      <td>20</td>\n",
       "      <td>10.9</td>\n",
       "    </tr>\n",
       "    <tr>\n",
       "      <th>354</th>\n",
       "      <td>CuHY</td>\n",
       "      <td>399.29</td>\n",
       "      <td>0.190</td>\n",
       "      <td>NaN</td>\n",
       "      <td>NaN</td>\n",
       "      <td>3.40</td>\n",
       "      <td>0.40</td>\n",
       "      <td>NaN</td>\n",
       "      <td>0.467</td>\n",
       "      <td>NaN</td>\n",
       "      <td>...</td>\n",
       "      <td>NaN</td>\n",
       "      <td>TP</td>\n",
       "      <td>0.51</td>\n",
       "      <td>3.0401</td>\n",
       "      <td>0.77</td>\n",
       "      <td>1418</td>\n",
       "      <td>cyclohexane</td>\n",
       "      <td>20</td>\n",
       "      <td>20</td>\n",
       "      <td>11.2</td>\n",
       "    </tr>\n",
       "    <tr>\n",
       "      <th>355</th>\n",
       "      <td>CuHY</td>\n",
       "      <td>399.29</td>\n",
       "      <td>0.190</td>\n",
       "      <td>NaN</td>\n",
       "      <td>NaN</td>\n",
       "      <td>3.40</td>\n",
       "      <td>0.40</td>\n",
       "      <td>NaN</td>\n",
       "      <td>0.467</td>\n",
       "      <td>NaN</td>\n",
       "      <td>...</td>\n",
       "      <td>NaN</td>\n",
       "      <td>TP</td>\n",
       "      <td>0.51</td>\n",
       "      <td>3.0401</td>\n",
       "      <td>0.77</td>\n",
       "      <td>1508</td>\n",
       "      <td>cyclohexane</td>\n",
       "      <td>20</td>\n",
       "      <td>20</td>\n",
       "      <td>11.4</td>\n",
       "    </tr>\n",
       "  </tbody>\n",
       "</table>\n",
       "<p>356 rows × 33 columns</p>\n",
       "</div>"
      ],
      "text/plain": [
       "    Adsorbent      SA  Vmicro  Vmeso  pore_size  Si_Al   Na+   Ag+    Cu+  \\\n",
       "0       CuAgY  591.00   0.295    NaN        NaN   2.43  0.02  0.47  0.260   \n",
       "1       CuAgY  591.00   0.295    NaN        NaN   2.43  0.02  0.47  0.260   \n",
       "2       CuAgY  591.00   0.295    NaN        NaN   2.43  0.02  0.47  0.260   \n",
       "3       CuAgY  591.00   0.295    NaN        NaN   2.43  0.02  0.47  0.260   \n",
       "4       CuAgY  591.00   0.295    NaN        NaN   2.43  0.02  0.47  0.260   \n",
       "..        ...     ...     ...    ...        ...    ...   ...   ...    ...   \n",
       "351      CuHY  399.29   0.190    NaN        NaN   3.40  0.40   NaN  0.467   \n",
       "352      CuHY  399.29   0.190    NaN        NaN   3.40  0.40   NaN  0.467   \n",
       "353      CuHY  399.29   0.190    NaN        NaN   3.40  0.40   NaN  0.467   \n",
       "354      CuHY  399.29   0.190    NaN        NaN   3.40  0.40   NaN  0.467   \n",
       "355      CuHY  399.29   0.190    NaN        NaN   3.40  0.40   NaN  0.467   \n",
       "\n",
       "     Ce+4  ...  R_Ni+2  adsorbate  dipole_moment  chemical_hardness  \\\n",
       "0     NaN  ...     NaN         TP           0.57             3.0401   \n",
       "1     NaN  ...     NaN         TP           0.57             3.0401   \n",
       "2     NaN  ...     NaN         TP           0.57             3.0401   \n",
       "3     NaN  ...     NaN         TP           0.57             3.0401   \n",
       "4     NaN  ...     NaN         TP           0.57             3.0401   \n",
       "..    ...  ...     ...        ...            ...                ...   \n",
       "351   NaN  ...     NaN         TP           0.51             3.0401   \n",
       "352   NaN  ...     NaN         TP           0.51             3.0401   \n",
       "353   NaN  ...     NaN         TP           0.51             3.0401   \n",
       "354   NaN  ...     NaN         TP           0.51             3.0401   \n",
       "355   NaN  ...     NaN         TP           0.51             3.0401   \n",
       "\n",
       "     kinetic_diameter    C_0      solvent  oil_adsorbent_ratio  Temp  Capacity  \n",
       "0                 0.77   291  cyclohexane                  125    50      16.0  \n",
       "1                 0.77   420  cyclohexane                  125    50      24.0  \n",
       "2                 0.77   556  cyclohexane                  125    50      31.0  \n",
       "3                 0.77   719  cyclohexane                  125    50      34.3  \n",
       "4                 0.77   833  cyclohexane                  125    50      35.5  \n",
       "..                 ...   ...          ...                  ...   ...       ...  \n",
       "351               0.77  1100  cyclohexane                   20    20       9.8  \n",
       "352               0.77  1219  cyclohexane                   20    20      10.5  \n",
       "353               0.77  1321  cyclohexane                   20    20      10.9  \n",
       "354               0.77  1418  cyclohexane                   20    20      11.2  \n",
       "355               0.77  1508  cyclohexane                   20    20      11.4  \n",
       "\n",
       "[356 rows x 33 columns]"
      ]
     },
     "execution_count": 5,
     "metadata": {},
     "output_type": "execute_result"
    }
   ],
   "source": [
    "#Sanity check of datatypes\n",
    "#important to recognise that datatypes are detected from the files\n",
    "#this step alsos makes the string variables as categorical variables\n",
    "getZeo.set_dtypes()"
   ]
  },
  {
   "cell_type": "code",
   "execution_count": 6,
   "metadata": {
    "lines_to_next_cell": 2,
    "scrolled": true
   },
   "outputs": [
    {
     "data": {
      "text/html": [
       "<div>\n",
       "<style scoped>\n",
       "    .dataframe tbody tr th:only-of-type {\n",
       "        vertical-align: middle;\n",
       "    }\n",
       "\n",
       "    .dataframe tbody tr th {\n",
       "        vertical-align: top;\n",
       "    }\n",
       "\n",
       "    .dataframe thead th {\n",
       "        text-align: right;\n",
       "    }\n",
       "</style>\n",
       "<table border=\"1\" class=\"dataframe\">\n",
       "  <thead>\n",
       "    <tr style=\"text-align: right;\">\n",
       "      <th></th>\n",
       "      <th>Feature</th>\n",
       "      <th>Missingness</th>\n",
       "    </tr>\n",
       "  </thead>\n",
       "  <tbody>\n",
       "    <tr>\n",
       "      <th>Adsorbent</th>\n",
       "      <td>Adsorbent</td>\n",
       "      <td>0.00</td>\n",
       "    </tr>\n",
       "    <tr>\n",
       "      <th>SA</th>\n",
       "      <td>SA</td>\n",
       "      <td>0.00</td>\n",
       "    </tr>\n",
       "    <tr>\n",
       "      <th>Vmicro</th>\n",
       "      <td>Vmicro</td>\n",
       "      <td>7.30</td>\n",
       "    </tr>\n",
       "    <tr>\n",
       "      <th>Vmeso</th>\n",
       "      <td>Vmeso</td>\n",
       "      <td>73.31</td>\n",
       "    </tr>\n",
       "    <tr>\n",
       "      <th>pore_size</th>\n",
       "      <td>pore_size</td>\n",
       "      <td>40.45</td>\n",
       "    </tr>\n",
       "    <tr>\n",
       "      <th>Si_Al</th>\n",
       "      <td>Si_Al</td>\n",
       "      <td>0.00</td>\n",
       "    </tr>\n",
       "    <tr>\n",
       "      <th>Na+</th>\n",
       "      <td>Na+</td>\n",
       "      <td>41.85</td>\n",
       "    </tr>\n",
       "    <tr>\n",
       "      <th>Ag+</th>\n",
       "      <td>Ag+</td>\n",
       "      <td>68.82</td>\n",
       "    </tr>\n",
       "    <tr>\n",
       "      <th>Cu+</th>\n",
       "      <td>Cu+</td>\n",
       "      <td>76.69</td>\n",
       "    </tr>\n",
       "    <tr>\n",
       "      <th>Ce+4</th>\n",
       "      <td>Ce+4</td>\n",
       "      <td>64.33</td>\n",
       "    </tr>\n",
       "    <tr>\n",
       "      <th>Cs+2</th>\n",
       "      <td>Cs+2</td>\n",
       "      <td>98.60</td>\n",
       "    </tr>\n",
       "    <tr>\n",
       "      <th>Ni+2</th>\n",
       "      <td>Ni+2</td>\n",
       "      <td>80.34</td>\n",
       "    </tr>\n",
       "    <tr>\n",
       "      <th>x_Na+</th>\n",
       "      <td>x_Na+</td>\n",
       "      <td>41.85</td>\n",
       "    </tr>\n",
       "    <tr>\n",
       "      <th>x_Ag+</th>\n",
       "      <td>x_Ag+</td>\n",
       "      <td>68.82</td>\n",
       "    </tr>\n",
       "    <tr>\n",
       "      <th>x_Cu+</th>\n",
       "      <td>x_Cu+</td>\n",
       "      <td>78.65</td>\n",
       "    </tr>\n",
       "    <tr>\n",
       "      <th>x_Ce+4</th>\n",
       "      <td>x_Ce+4</td>\n",
       "      <td>64.33</td>\n",
       "    </tr>\n",
       "    <tr>\n",
       "      <th>x_Cs+2</th>\n",
       "      <td>x_Cs+2</td>\n",
       "      <td>98.60</td>\n",
       "    </tr>\n",
       "    <tr>\n",
       "      <th>x_Ni+2</th>\n",
       "      <td>x_Ni+2</td>\n",
       "      <td>80.34</td>\n",
       "    </tr>\n",
       "    <tr>\n",
       "      <th>R_Na+</th>\n",
       "      <td>R_Na+</td>\n",
       "      <td>41.85</td>\n",
       "    </tr>\n",
       "    <tr>\n",
       "      <th>R_Ag+</th>\n",
       "      <td>R_Ag+</td>\n",
       "      <td>68.82</td>\n",
       "    </tr>\n",
       "    <tr>\n",
       "      <th>R_Cu+</th>\n",
       "      <td>R_Cu+</td>\n",
       "      <td>78.65</td>\n",
       "    </tr>\n",
       "    <tr>\n",
       "      <th>R_Ce+4</th>\n",
       "      <td>R_Ce+4</td>\n",
       "      <td>64.33</td>\n",
       "    </tr>\n",
       "    <tr>\n",
       "      <th>R_Cs+2</th>\n",
       "      <td>R_Cs+2</td>\n",
       "      <td>98.60</td>\n",
       "    </tr>\n",
       "    <tr>\n",
       "      <th>R_Ni+2</th>\n",
       "      <td>R_Ni+2</td>\n",
       "      <td>80.34</td>\n",
       "    </tr>\n",
       "    <tr>\n",
       "      <th>adsorbate</th>\n",
       "      <td>adsorbate</td>\n",
       "      <td>0.00</td>\n",
       "    </tr>\n",
       "    <tr>\n",
       "      <th>dipole_moment</th>\n",
       "      <td>dipole_moment</td>\n",
       "      <td>0.00</td>\n",
       "    </tr>\n",
       "    <tr>\n",
       "      <th>chemical_hardness</th>\n",
       "      <td>chemical_hardness</td>\n",
       "      <td>0.00</td>\n",
       "    </tr>\n",
       "    <tr>\n",
       "      <th>kinetic_diameter</th>\n",
       "      <td>kinetic_diameter</td>\n",
       "      <td>0.00</td>\n",
       "    </tr>\n",
       "    <tr>\n",
       "      <th>C_0</th>\n",
       "      <td>C_0</td>\n",
       "      <td>0.00</td>\n",
       "    </tr>\n",
       "    <tr>\n",
       "      <th>solvent</th>\n",
       "      <td>solvent</td>\n",
       "      <td>0.00</td>\n",
       "    </tr>\n",
       "    <tr>\n",
       "      <th>oil_adsorbent_ratio</th>\n",
       "      <td>oil_adsorbent_ratio</td>\n",
       "      <td>0.00</td>\n",
       "    </tr>\n",
       "    <tr>\n",
       "      <th>Temp</th>\n",
       "      <td>Temp</td>\n",
       "      <td>0.00</td>\n",
       "    </tr>\n",
       "    <tr>\n",
       "      <th>Capacity</th>\n",
       "      <td>Capacity</td>\n",
       "      <td>0.00</td>\n",
       "    </tr>\n",
       "  </tbody>\n",
       "</table>\n",
       "</div>"
      ],
      "text/plain": [
       "                                 Feature  Missingness\n",
       "Adsorbent                      Adsorbent         0.00\n",
       "SA                                    SA         0.00\n",
       "Vmicro                            Vmicro         7.30\n",
       "Vmeso                              Vmeso        73.31\n",
       "pore_size                      pore_size        40.45\n",
       "Si_Al                              Si_Al         0.00\n",
       "Na+                                  Na+        41.85\n",
       "Ag+                                  Ag+        68.82\n",
       "Cu+                                  Cu+        76.69\n",
       "Ce+4                                Ce+4        64.33\n",
       "Cs+2                                Cs+2        98.60\n",
       "Ni+2                                Ni+2        80.34\n",
       "x_Na+                              x_Na+        41.85\n",
       "x_Ag+                              x_Ag+        68.82\n",
       "x_Cu+                              x_Cu+        78.65\n",
       "x_Ce+4                            x_Ce+4        64.33\n",
       "x_Cs+2                            x_Cs+2        98.60\n",
       "x_Ni+2                            x_Ni+2        80.34\n",
       "R_Na+                              R_Na+        41.85\n",
       "R_Ag+                              R_Ag+        68.82\n",
       "R_Cu+                              R_Cu+        78.65\n",
       "R_Ce+4                            R_Ce+4        64.33\n",
       "R_Cs+2                            R_Cs+2        98.60\n",
       "R_Ni+2                            R_Ni+2        80.34\n",
       "adsorbate                      adsorbate         0.00\n",
       "dipole_moment              dipole_moment         0.00\n",
       "chemical_hardness      chemical_hardness         0.00\n",
       "kinetic_diameter       kinetic_diameter          0.00\n",
       "C_0                                  C_0         0.00\n",
       "solvent                          solvent         0.00\n",
       "oil_adsorbent_ratio  oil_adsorbent_ratio         0.00\n",
       "Temp                                Temp         0.00\n",
       "Capacity                        Capacity         0.00"
      ]
     },
     "execution_count": 6,
     "metadata": {},
     "output_type": "execute_result"
    }
   ],
   "source": [
    "#this counts the missing records per column and saves them to provided filename\n",
    "getZeo.missingness(\"ZeoX_Final_encoded.miss\")"
   ]
  },
  {
   "cell_type": "code",
   "execution_count": 7,
   "metadata": {
    "lines_to_next_cell": 2
   },
   "outputs": [
    {
     "data": {
      "text/plain": [
       "(356, 33)"
      ]
     },
     "execution_count": 7,
     "metadata": {},
     "output_type": "execute_result"
    }
   ],
   "source": [
    "#take note of number of columns\n",
    "getZeo.zeolite_df.shape"
   ]
  },
  {
   "cell_type": "code",
   "execution_count": 8,
   "metadata": {},
   "outputs": [
    {
     "data": {
      "text/plain": [
       "{'Adsorbent': 'category', 'adsorbate': 'category', 'solvent': 'category'}"
      ]
     },
     "execution_count": 8,
     "metadata": {},
     "output_type": "execute_result"
    }
   ],
   "source": [
    "getZeo.df_dtypes"
   ]
  },
  {
   "cell_type": "code",
   "execution_count": 9,
   "metadata": {
    "lines_to_next_cell": 2
   },
   "outputs": [],
   "source": [
    "#Drops empty columns inplace\n",
    "getZeo.zeolite_df.dropna(how='all', axis=1, inplace = True)"
   ]
  },
  {
   "cell_type": "code",
   "execution_count": 10,
   "metadata": {},
   "outputs": [
    {
     "data": {
      "text/plain": [
       "Index(['Adsorbent', 'SA', 'Vmicro', 'Vmeso', 'pore_size', 'Si_Al', 'Na+',\n",
       "       'Ag+', 'Cu+', 'Ce+4', 'Cs+2', 'Ni+2', 'x_Na+', 'x_Ag+', 'x_Cu+',\n",
       "       'x_Ce+4', 'x_Cs+2', 'x_Ni+2', 'R_Na+', 'R_Ag+', 'R_Cu+', 'R_Ce+4',\n",
       "       'R_Cs+2', 'R_Ni+2', 'adsorbate', 'dipole_moment', 'chemical_hardness',\n",
       "       'kinetic_diameter ', 'C_0', 'solvent', 'oil_adsorbent_ratio', 'Temp',\n",
       "       'Capacity'],\n",
       "      dtype='object')"
      ]
     },
     "execution_count": 10,
     "metadata": {},
     "output_type": "execute_result"
    }
   ],
   "source": [
    "getZeo.zeolite_df.columns"
   ]
  },
  {
   "cell_type": "code",
   "execution_count": 11,
   "metadata": {
    "lines_to_next_cell": 2
   },
   "outputs": [
    {
     "data": {
      "text/plain": [
       "(356, 33)"
      ]
     },
     "execution_count": 11,
     "metadata": {},
     "output_type": "execute_result"
    }
   ],
   "source": [
    "#Very that columns have indeed been lost\n",
    "getZeo.zeolite_df.shape"
   ]
  },
  {
   "cell_type": "code",
   "execution_count": 12,
   "metadata": {
    "scrolled": true
   },
   "outputs": [
    {
     "data": {
      "text/html": [
       "<div>\n",
       "<style scoped>\n",
       "    .dataframe tbody tr th:only-of-type {\n",
       "        vertical-align: middle;\n",
       "    }\n",
       "\n",
       "    .dataframe tbody tr th {\n",
       "        vertical-align: top;\n",
       "    }\n",
       "\n",
       "    .dataframe thead th {\n",
       "        text-align: right;\n",
       "    }\n",
       "</style>\n",
       "<table border=\"1\" class=\"dataframe\">\n",
       "  <thead>\n",
       "    <tr style=\"text-align: right;\">\n",
       "      <th></th>\n",
       "      <th>Feature</th>\n",
       "      <th>Missingness</th>\n",
       "    </tr>\n",
       "  </thead>\n",
       "  <tbody>\n",
       "    <tr>\n",
       "      <th>Adsorbent</th>\n",
       "      <td>Adsorbent</td>\n",
       "      <td>0.00</td>\n",
       "    </tr>\n",
       "    <tr>\n",
       "      <th>SA</th>\n",
       "      <td>SA</td>\n",
       "      <td>0.00</td>\n",
       "    </tr>\n",
       "    <tr>\n",
       "      <th>Vmicro</th>\n",
       "      <td>Vmicro</td>\n",
       "      <td>7.30</td>\n",
       "    </tr>\n",
       "    <tr>\n",
       "      <th>Vmeso</th>\n",
       "      <td>Vmeso</td>\n",
       "      <td>73.31</td>\n",
       "    </tr>\n",
       "    <tr>\n",
       "      <th>pore_size</th>\n",
       "      <td>pore_size</td>\n",
       "      <td>40.45</td>\n",
       "    </tr>\n",
       "    <tr>\n",
       "      <th>Si_Al</th>\n",
       "      <td>Si_Al</td>\n",
       "      <td>0.00</td>\n",
       "    </tr>\n",
       "    <tr>\n",
       "      <th>Na+</th>\n",
       "      <td>Na+</td>\n",
       "      <td>41.85</td>\n",
       "    </tr>\n",
       "    <tr>\n",
       "      <th>Ag+</th>\n",
       "      <td>Ag+</td>\n",
       "      <td>68.82</td>\n",
       "    </tr>\n",
       "    <tr>\n",
       "      <th>Cu+</th>\n",
       "      <td>Cu+</td>\n",
       "      <td>76.69</td>\n",
       "    </tr>\n",
       "    <tr>\n",
       "      <th>Ce+4</th>\n",
       "      <td>Ce+4</td>\n",
       "      <td>64.33</td>\n",
       "    </tr>\n",
       "    <tr>\n",
       "      <th>Cs+2</th>\n",
       "      <td>Cs+2</td>\n",
       "      <td>98.60</td>\n",
       "    </tr>\n",
       "    <tr>\n",
       "      <th>Ni+2</th>\n",
       "      <td>Ni+2</td>\n",
       "      <td>80.34</td>\n",
       "    </tr>\n",
       "    <tr>\n",
       "      <th>x_Na+</th>\n",
       "      <td>x_Na+</td>\n",
       "      <td>41.85</td>\n",
       "    </tr>\n",
       "    <tr>\n",
       "      <th>x_Ag+</th>\n",
       "      <td>x_Ag+</td>\n",
       "      <td>68.82</td>\n",
       "    </tr>\n",
       "    <tr>\n",
       "      <th>x_Cu+</th>\n",
       "      <td>x_Cu+</td>\n",
       "      <td>78.65</td>\n",
       "    </tr>\n",
       "    <tr>\n",
       "      <th>x_Ce+4</th>\n",
       "      <td>x_Ce+4</td>\n",
       "      <td>64.33</td>\n",
       "    </tr>\n",
       "    <tr>\n",
       "      <th>x_Cs+2</th>\n",
       "      <td>x_Cs+2</td>\n",
       "      <td>98.60</td>\n",
       "    </tr>\n",
       "    <tr>\n",
       "      <th>x_Ni+2</th>\n",
       "      <td>x_Ni+2</td>\n",
       "      <td>80.34</td>\n",
       "    </tr>\n",
       "    <tr>\n",
       "      <th>R_Na+</th>\n",
       "      <td>R_Na+</td>\n",
       "      <td>41.85</td>\n",
       "    </tr>\n",
       "    <tr>\n",
       "      <th>R_Ag+</th>\n",
       "      <td>R_Ag+</td>\n",
       "      <td>68.82</td>\n",
       "    </tr>\n",
       "    <tr>\n",
       "      <th>R_Cu+</th>\n",
       "      <td>R_Cu+</td>\n",
       "      <td>78.65</td>\n",
       "    </tr>\n",
       "    <tr>\n",
       "      <th>R_Ce+4</th>\n",
       "      <td>R_Ce+4</td>\n",
       "      <td>64.33</td>\n",
       "    </tr>\n",
       "    <tr>\n",
       "      <th>R_Cs+2</th>\n",
       "      <td>R_Cs+2</td>\n",
       "      <td>98.60</td>\n",
       "    </tr>\n",
       "    <tr>\n",
       "      <th>R_Ni+2</th>\n",
       "      <td>R_Ni+2</td>\n",
       "      <td>80.34</td>\n",
       "    </tr>\n",
       "    <tr>\n",
       "      <th>adsorbate</th>\n",
       "      <td>adsorbate</td>\n",
       "      <td>0.00</td>\n",
       "    </tr>\n",
       "    <tr>\n",
       "      <th>dipole_moment</th>\n",
       "      <td>dipole_moment</td>\n",
       "      <td>0.00</td>\n",
       "    </tr>\n",
       "    <tr>\n",
       "      <th>chemical_hardness</th>\n",
       "      <td>chemical_hardness</td>\n",
       "      <td>0.00</td>\n",
       "    </tr>\n",
       "    <tr>\n",
       "      <th>kinetic_diameter</th>\n",
       "      <td>kinetic_diameter</td>\n",
       "      <td>0.00</td>\n",
       "    </tr>\n",
       "    <tr>\n",
       "      <th>C_0</th>\n",
       "      <td>C_0</td>\n",
       "      <td>0.00</td>\n",
       "    </tr>\n",
       "    <tr>\n",
       "      <th>solvent</th>\n",
       "      <td>solvent</td>\n",
       "      <td>0.00</td>\n",
       "    </tr>\n",
       "    <tr>\n",
       "      <th>oil_adsorbent_ratio</th>\n",
       "      <td>oil_adsorbent_ratio</td>\n",
       "      <td>0.00</td>\n",
       "    </tr>\n",
       "    <tr>\n",
       "      <th>Temp</th>\n",
       "      <td>Temp</td>\n",
       "      <td>0.00</td>\n",
       "    </tr>\n",
       "    <tr>\n",
       "      <th>Capacity</th>\n",
       "      <td>Capacity</td>\n",
       "      <td>0.00</td>\n",
       "    </tr>\n",
       "  </tbody>\n",
       "</table>\n",
       "</div>"
      ],
      "text/plain": [
       "                                 Feature  Missingness\n",
       "Adsorbent                      Adsorbent         0.00\n",
       "SA                                    SA         0.00\n",
       "Vmicro                            Vmicro         7.30\n",
       "Vmeso                              Vmeso        73.31\n",
       "pore_size                      pore_size        40.45\n",
       "Si_Al                              Si_Al         0.00\n",
       "Na+                                  Na+        41.85\n",
       "Ag+                                  Ag+        68.82\n",
       "Cu+                                  Cu+        76.69\n",
       "Ce+4                                Ce+4        64.33\n",
       "Cs+2                                Cs+2        98.60\n",
       "Ni+2                                Ni+2        80.34\n",
       "x_Na+                              x_Na+        41.85\n",
       "x_Ag+                              x_Ag+        68.82\n",
       "x_Cu+                              x_Cu+        78.65\n",
       "x_Ce+4                            x_Ce+4        64.33\n",
       "x_Cs+2                            x_Cs+2        98.60\n",
       "x_Ni+2                            x_Ni+2        80.34\n",
       "R_Na+                              R_Na+        41.85\n",
       "R_Ag+                              R_Ag+        68.82\n",
       "R_Cu+                              R_Cu+        78.65\n",
       "R_Ce+4                            R_Ce+4        64.33\n",
       "R_Cs+2                            R_Cs+2        98.60\n",
       "R_Ni+2                            R_Ni+2        80.34\n",
       "adsorbate                      adsorbate         0.00\n",
       "dipole_moment              dipole_moment         0.00\n",
       "chemical_hardness      chemical_hardness         0.00\n",
       "kinetic_diameter       kinetic_diameter          0.00\n",
       "C_0                                  C_0         0.00\n",
       "solvent                          solvent         0.00\n",
       "oil_adsorbent_ratio  oil_adsorbent_ratio         0.00\n",
       "Temp                                Temp         0.00\n",
       "Capacity                        Capacity         0.00"
      ]
     },
     "execution_count": 12,
     "metadata": {},
     "output_type": "execute_result"
    }
   ],
   "source": [
    "getZeo.missingness(\"ZeoX_Final_encoded.miss\")"
   ]
  },
  {
   "cell_type": "code",
   "execution_count": 13,
   "metadata": {},
   "outputs": [],
   "source": [
    "#miss = getZeo.missingness(\"ZeoX_Final_encoded.miss\")"
   ]
  },
  {
   "cell_type": "code",
   "execution_count": 14,
   "metadata": {},
   "outputs": [],
   "source": [
    "getZeo.GroupMeanImputation('Adsorbent','Vmicro')\n",
    "getZeo.MeanImputation('Vmicro')"
   ]
  },
  {
   "cell_type": "code",
   "execution_count": 15,
   "metadata": {},
   "outputs": [],
   "source": [
    "getZeo.GroupMeanImputation('Adsorbent','Vmeso')\n",
    "getZeo.MeanImputation('Vmeso')"
   ]
  },
  {
   "cell_type": "code",
   "execution_count": 16,
   "metadata": {
    "lines_to_next_cell": 2
   },
   "outputs": [],
   "source": [
    "getZeo.GroupMeanImputation('Adsorbent','pore_size')\n",
    "getZeo.MeanImputation('pore_size')"
   ]
  },
  {
   "cell_type": "code",
   "execution_count": 17,
   "metadata": {
    "lines_to_next_cell": 2
   },
   "outputs": [],
   "source": [
    "getZeo.GroupMeanImputation('Adsorbent','pore_size')\n",
    "getZeo.MeanImputation('pore_size')"
   ]
  },
  {
   "cell_type": "code",
   "execution_count": 18,
   "metadata": {},
   "outputs": [
    {
     "data": {
      "text/plain": [
       "{'Adsorbent': 'category', 'adsorbate': 'category', 'solvent': 'category'}"
      ]
     },
     "execution_count": 18,
     "metadata": {},
     "output_type": "execute_result"
    }
   ],
   "source": [
    "#Check categorical variables\n",
    "getZeo.df_dtypes"
   ]
  },
  {
   "cell_type": "code",
   "execution_count": 19,
   "metadata": {
    "lines_to_next_cell": 2,
    "scrolled": true
   },
   "outputs": [
    {
     "name": "stdout",
     "output_type": "stream",
     "text": [
      "[     AgCeY  AgX  AgY  CeY  CsY  CuAgY  CuCeY  CuHY  CuX  CuY  MCM-22  NaY  \\\n",
      "0        0    0    0    0    0      1      0     0    0    0       0    0   \n",
      "1        0    0    0    0    0      1      0     0    0    0       0    0   \n",
      "2        0    0    0    0    0      1      0     0    0    0       0    0   \n",
      "3        0    0    0    0    0      1      0     0    0    0       0    0   \n",
      "4        0    0    0    0    0      1      0     0    0    0       0    0   \n",
      "..     ...  ...  ...  ...  ...    ...    ...   ...  ...  ...     ...  ...   \n",
      "351      0    0    0    0    0      0      0     1    0    0       0    0   \n",
      "352      0    0    0    0    0      0      0     1    0    0       0    0   \n",
      "353      0    0    0    0    0      0      0     1    0    0       0    0   \n",
      "354      0    0    0    0    0      0      0     1    0    0       0    0   \n",
      "355      0    0    0    0    0      0      0     1    0    0       0    0   \n",
      "\n",
      "     NiCeY  NiY  clinoptilolite  \n",
      "0        0    0               0  \n",
      "1        0    0               0  \n",
      "2        0    0               0  \n",
      "3        0    0               0  \n",
      "4        0    0               0  \n",
      "..     ...  ...             ...  \n",
      "351      0    0               0  \n",
      "352      0    0               0  \n",
      "353      0    0               0  \n",
      "354      0    0               0  \n",
      "355      0    0               0  \n",
      "\n",
      "[356 rows x 15 columns],      BT  DBT  TP\n",
      "0     0    0   1\n",
      "1     0    0   1\n",
      "2     0    0   1\n",
      "3     0    0   1\n",
      "4     0    0   1\n",
      "..   ..  ...  ..\n",
      "351   0    0   1\n",
      "352   0    0   1\n",
      "353   0    0   1\n",
      "354   0    0   1\n",
      "355   0    0   1\n",
      "\n",
      "[356 rows x 3 columns],      1-octane  cyclohexane  ether  hexadecane  iso-octane  n-Heptane  \\\n",
      "0           0            1      0           0           0          0   \n",
      "1           0            1      0           0           0          0   \n",
      "2           0            1      0           0           0          0   \n",
      "3           0            1      0           0           0          0   \n",
      "4           0            1      0           0           0          0   \n",
      "..        ...          ...    ...         ...         ...        ...   \n",
      "351         0            1      0           0           0          0   \n",
      "352         0            1      0           0           0          0   \n",
      "353         0            1      0           0           0          0   \n",
      "354         0            1      0           0           0          0   \n",
      "355         0            1      0           0           0          0   \n",
      "\n",
      "     n-Octane  n-heptane  n-octane  \n",
      "0           0          0         0  \n",
      "1           0          0         0  \n",
      "2           0          0         0  \n",
      "3           0          0         0  \n",
      "4           0          0         0  \n",
      "..        ...        ...       ...  \n",
      "351         0          0         0  \n",
      "352         0          0         0  \n",
      "353         0          0         0  \n",
      "354         0          0         0  \n",
      "355         0          0         0  \n",
      "\n",
      "[356 rows x 9 columns]]\n"
     ]
    }
   ],
   "source": [
    "#convert the categorical variables to intergers also known as one-hot-encoding\n",
    "#https://towardsdatascience.com/the-dummys-guide-to-creating-dummy-variables-f21faddb1d40\n",
    "getZeo.encode_categorical()"
   ]
  },
  {
   "cell_type": "code",
   "execution_count": 20,
   "metadata": {},
   "outputs": [],
   "source": [
    "#for metal in ['C1', 'C2', 'C3', 'x1', 'x2', 'x3', 'Ri1', 'Ri2', 'Ri3']:\n",
    "#       getZeo.zerofill(metal)"
   ]
  },
  {
   "cell_type": "code",
   "execution_count": 21,
   "metadata": {},
   "outputs": [],
   "source": [
    "for metal in ['Na+','Ag+', 'Cu+', 'Ce+4', 'Cs+2', 'Ni+2', 'x_Na+', 'x_Ag+', 'x_Cu+','x_Ce+4', 'x_Cs+2', 'x_Ni+2', 'R_Na+', 'R_Ag+', 'R_Cu+', 'R_Ce+4','R_Cs+2', 'R_Ni+2']:\n",
    "         getZeo.zerofill(metal)"
   ]
  },
  {
   "cell_type": "code",
   "execution_count": 22,
   "metadata": {
    "lines_to_next_cell": 2
   },
   "outputs": [],
   "source": [
    "#save the new data to a tsv file\n",
    "#getZeo.save_zeo(\"ZeoX_Final_encoded_V2x.tsv\")"
   ]
  },
  {
   "cell_type": "code",
   "execution_count": 23,
   "metadata": {
    "lines_to_next_cell": 2
   },
   "outputs": [],
   "source": [
    "#get our dataframe \n",
    "zeolite_final  =  getZeo.zeolite_df.copy()"
   ]
  },
  {
   "cell_type": "code",
   "execution_count": 24,
   "metadata": {
    "scrolled": true
   },
   "outputs": [
    {
     "data": {
      "text/plain": [
       "(356, 57)"
      ]
     },
     "execution_count": 24,
     "metadata": {},
     "output_type": "execute_result"
    }
   ],
   "source": [
    "zeolite_final.shape"
   ]
  },
  {
   "cell_type": "code",
   "execution_count": 25,
   "metadata": {},
   "outputs": [
    {
     "data": {
      "text/plain": [
       "Index(['SA', 'Vmicro', 'Vmeso', 'pore_size', 'Si_Al', 'Na+', 'Ag+', 'Cu+',\n",
       "       'Ce+4', 'Cs+2', 'Ni+2', 'x_Na+', 'x_Ag+', 'x_Cu+', 'x_Ce+4', 'x_Cs+2',\n",
       "       'x_Ni+2', 'R_Na+', 'R_Ag+', 'R_Cu+', 'R_Ce+4', 'R_Cs+2', 'R_Ni+2',\n",
       "       'dipole_moment', 'chemical_hardness', 'kinetic_diameter ', 'C_0',\n",
       "       'oil_adsorbent_ratio', 'Temp', 'Capacity', 'AgCeY', 'AgX', 'AgY', 'CeY',\n",
       "       'CsY', 'CuAgY', 'CuCeY', 'CuHY', 'CuX', 'CuY', 'MCM-22', 'NaY', 'NiCeY',\n",
       "       'NiY', 'clinoptilolite', 'BT', 'DBT', 'TP', '1-octane', 'cyclohexane',\n",
       "       'ether', 'hexadecane', 'iso-octane', 'n-Heptane', 'n-Octane',\n",
       "       'n-heptane', 'n-octane'],\n",
       "      dtype='object')"
      ]
     },
     "execution_count": 25,
     "metadata": {},
     "output_type": "execute_result"
    }
   ],
   "source": [
    "zeolite_final.columns"
   ]
  },
  {
   "cell_type": "code",
   "execution_count": 26,
   "metadata": {
    "lines_to_next_cell": 2
   },
   "outputs": [
    {
     "data": {
      "text/plain": [
       "(356, 57)"
      ]
     },
     "execution_count": 26,
     "metadata": {},
     "output_type": "execute_result"
    }
   ],
   "source": [
    "#check our dataframe\n",
    "zeolite_final.shape"
   ]
  },
  {
   "cell_type": "code",
   "execution_count": 27,
   "metadata": {
    "lines_to_next_cell": 2
   },
   "outputs": [],
   "source": [
    "#We extract our data features \n",
    "#attributes \n",
    "y = zeolite_final.loc[:,\"Capacity\"]\n",
    "#labels\n",
    "X = zeolite_final.drop([\"Capacity\"], axis = 1)"
   ]
  },
  {
   "cell_type": "code",
   "execution_count": 28,
   "metadata": {
    "lines_to_next_cell": 2
   },
   "outputs": [],
   "source": [
    "#Split our data into training and test dataset \n",
    "X_train, X_test, y_train, y_test = train_test_split(X, y, test_size=0.2, random_state=0)"
   ]
  },
  {
   "cell_type": "code",
   "execution_count": 29,
   "metadata": {},
   "outputs": [],
   "source": [
    "num_cols = list(zeolite_final.columns)\n",
    "num_cols =  list(set(zeolite_final.columns).intersection(getZeo.float_cols))"
   ]
  },
  {
   "cell_type": "code",
   "execution_count": 30,
   "metadata": {},
   "outputs": [],
   "source": [
    "num_cols.remove('Capacity')"
   ]
  },
  {
   "cell_type": "code",
   "execution_count": 31,
   "metadata": {},
   "outputs": [
    {
     "data": {
      "text/plain": [
       "49"
      ]
     },
     "execution_count": 31,
     "metadata": {},
     "output_type": "execute_result"
    }
   ],
   "source": [
    "X.columns.get_loc('ether')"
   ]
  },
  {
   "cell_type": "code",
   "execution_count": 32,
   "metadata": {},
   "outputs": [
    {
     "data": {
      "text/plain": [
       "6      0\n",
       "140    1\n",
       "302    0\n",
       "220    1\n",
       "90     0\n",
       "      ..\n",
       "164    0\n",
       "156    0\n",
       "196    0\n",
       "63     0\n",
       "299    0\n",
       "Name: ether, Length: 72, dtype: uint8"
      ]
     },
     "execution_count": 32,
     "metadata": {},
     "output_type": "execute_result"
    }
   ],
   "source": [
    "X_test.iloc[:,49]"
   ]
  },
  {
   "cell_type": "code",
   "execution_count": 33,
   "metadata": {},
   "outputs": [],
   "source": [
    "#Standardize features by removing the mean and scaling to unit variasnce\n",
    "#'Adsorbent','adsorbate': 'category','category'\n",
    "sc =  ColumnTransformer([('zeolite', StandardScaler(), num_cols)], remainder='passthrough')"
   ]
  },
  {
   "cell_type": "code",
   "execution_count": 34,
   "metadata": {
    "lines_to_next_cell": 2
   },
   "outputs": [],
   "source": [
    "#https://datascience.stackexchange.com/questions/12321/whats-the-difference-between-fit-and-fit-transform-in-scikit-learn-models#:~:text=%22fit%22%20computes%20the%20mean%20and,both%20at%20the%20same%20time.\n",
    "#This should not make much of a difference but its good practice\n",
    "#TO DO\n",
    "#Compare accuracy with and without scaling\n",
    "X_train = sc.fit_transform(X_train)\n",
    "X_test = sc.transform(X_test)"
   ]
  },
  {
   "cell_type": "code",
   "execution_count": 35,
   "metadata": {},
   "outputs": [
    {
     "data": {
      "text/plain": [
       "array([-0.31068488,  3.21869539, -0.31068488,  3.21869539, -0.31068488,\n",
       "        3.21869539, -0.31068488, -0.31068488, -0.31068488, -0.31068488,\n",
       "       -0.31068488, -0.31068488, -0.31068488, -0.31068488,  3.21869539,\n",
       "        3.21869539,  3.21869539, -0.31068488, -0.31068488, -0.31068488,\n",
       "       -0.31068488, -0.31068488, -0.31068488, -0.31068488, -0.31068488,\n",
       "       -0.31068488, -0.31068488, -0.31068488, -0.31068488, -0.31068488,\n",
       "       -0.31068488, -0.31068488, -0.31068488, -0.31068488, -0.31068488,\n",
       "       -0.31068488, -0.31068488, -0.31068488, -0.31068488, -0.31068488,\n",
       "       -0.31068488,  3.21869539, -0.31068488, -0.31068488,  3.21869539,\n",
       "       -0.31068488, -0.31068488, -0.31068488, -0.31068488, -0.31068488,\n",
       "       -0.31068488, -0.31068488, -0.31068488, -0.31068488, -0.31068488,\n",
       "       -0.31068488,  3.21869539, -0.31068488, -0.31068488,  3.21869539,\n",
       "       -0.31068488, -0.31068488,  3.21869539, -0.31068488, -0.31068488,\n",
       "       -0.31068488, -0.31068488, -0.31068488, -0.31068488, -0.31068488,\n",
       "       -0.31068488, -0.31068488])"
      ]
     },
     "execution_count": 35,
     "metadata": {},
     "output_type": "execute_result"
    }
   ],
   "source": [
    "X_test[:,49]"
   ]
  },
  {
   "cell_type": "code",
   "execution_count": 36,
   "metadata": {
    "lines_to_next_cell": 2
   },
   "outputs": [],
   "source": [
    "regressor = RandomForestRegressor(max_features = 18, n_estimators = 8, max_depth = 20, min_samples_split = 2, min_samples_leaf = 1, random_state=1000)"
   ]
  },
  {
   "cell_type": "code",
   "execution_count": 37,
   "metadata": {
    "lines_to_next_cell": 2,
    "scrolled": true
   },
   "outputs": [
    {
     "data": {
      "text/plain": [
       "RandomForestRegressor(max_depth=20, max_features=18, n_estimators=8,\n",
       "                      random_state=1000)"
      ]
     },
     "execution_count": 37,
     "metadata": {},
     "output_type": "execute_result"
    }
   ],
   "source": [
    "regressor.fit(X_train, y_train)"
   ]
  },
  {
   "cell_type": "code",
   "execution_count": 38,
   "metadata": {},
   "outputs": [
    {
     "data": {
      "text/plain": [
       "['project-rodger-dogder-.obj']"
      ]
     },
     "execution_count": 38,
     "metadata": {},
     "output_type": "execute_result"
    }
   ],
   "source": [
    "joblib.dump(regressor, \"project-rodger-dogder-RF_model.obj\")\n",
    "joblib.dump(regressor, \"project-rodger-dogder-.obj\")"
   ]
  },
  {
   "cell_type": "code",
   "execution_count": 39,
   "metadata": {
    "lines_to_next_cell": 2
   },
   "outputs": [],
   "source": [
    "y_pred = regressor.predict(X_test)"
   ]
  },
  {
   "cell_type": "code",
   "execution_count": 40,
   "metadata": {
    "lines_to_next_cell": 2
   },
   "outputs": [],
   "source": [
    "plot_data = pd.DataFrame.from_dict({'y_pred': y_pred, 'y_test': y_test, 'errors': y_pred - y_test, 'abs_errors': abs(y_pred - y_test)})\n",
    "plot_data.to_csv(\"RF_model_performance.tsv\", sep = \"\\t\", index = False)"
   ]
  },
  {
   "cell_type": "code",
   "execution_count": 41,
   "metadata": {},
   "outputs": [
    {
     "name": "stdout",
     "output_type": "stream",
     "text": [
      "0.929868181423729\n"
     ]
    }
   ],
   "source": [
    "r2 =  metrics.r2_score(y_test, y_pred)\n",
    "print(r2)"
   ]
  },
  {
   "cell_type": "code",
   "execution_count": 42,
   "metadata": {
    "scrolled": true
   },
   "outputs": [
    {
     "data": {
      "image/png": "[encoded data removed]",
      "text/plain": [
       "<Figure size 432x288 with 1 Axes>"
      ]
     },
     "metadata": {
      "needs_background": "light"
     },
     "output_type": "display_data"
    },
    {
     "data": {
      "text/plain": [
       "'C:\\\\Users\\\\DrewX\\\\Documents\\\\Project-Roger-Dodger\\\\Python-ML'"
      ]
     },
     "execution_count": 42,
     "metadata": {},
     "output_type": "execute_result"
    }
   ],
   "source": [
    "ax = sns.regplot(y=\"y_pred\",\n",
    "                 x=\"y_test\", \n",
    "                 color=\"g\", \n",
    "                 marker=\"+\",\n",
    "                 line_kws={'label':'$r^2$ = {:.2f}'.format(r2)},\n",
    "                 data = plot_data)\n",
    "\n",
    "plt.ylabel('Predicted adsorptive capacity (mgS/g)')\n",
    "plt.xlabel('Experimental adsorptive capacity (mgS/g)')\n",
    "ax.legend(loc=9)\n",
    "plt.savefig('traning_r2.pdf', format='pdf', dpi=1200)\n",
    "plt.show()\n",
    "os.getcwd()"
   ]
  },
  {
   "cell_type": "code",
   "execution_count": 43,
   "metadata": {},
   "outputs": [
    {
     "data": {
      "text/plain": [
       "{'bootstrap': True,\n",
       " 'ccp_alpha': 0.0,\n",
       " 'criterion': 'mse',\n",
       " 'max_depth': 20,\n",
       " 'max_features': 18,\n",
       " 'max_leaf_nodes': None,\n",
       " 'max_samples': None,\n",
       " 'min_impurity_decrease': 0.0,\n",
       " 'min_impurity_split': None,\n",
       " 'min_samples_leaf': 1,\n",
       " 'min_samples_split': 2,\n",
       " 'min_weight_fraction_leaf': 0.0,\n",
       " 'n_estimators': 8,\n",
       " 'n_jobs': None,\n",
       " 'oob_score': False,\n",
       " 'random_state': 1000,\n",
       " 'verbose': 0,\n",
       " 'warm_start': False}"
      ]
     },
     "execution_count": 43,
     "metadata": {},
     "output_type": "execute_result"
    }
   ],
   "source": [
    "regressor.get_params()"
   ]
  },
  {
   "cell_type": "code",
   "execution_count": 44,
   "metadata": {
    "lines_to_next_cell": 2,
    "scrolled": true
   },
   "outputs": [],
   "source": [
    "pd.options.display.max_rows = 4000"
   ]
  },
  {
   "cell_type": "code",
   "execution_count": 45,
   "metadata": {
    "lines_to_next_cell": 2,
    "scrolled": true
   },
   "outputs": [],
   "source": [
    "mae = metrics.mean_absolute_error(y_test, y_pred)\n",
    "mse = metrics.mean_squared_error(y_test, y_pred)\n",
    "rmse = metrics.mean_squared_error(y_test, y_pred, squared = False)\n",
    "mape = metrics.mean_absolute_percentage_error(y_test, y_pred)\n",
    "r2 =  metrics.r2_score(y_test, y_pred)"
   ]
  },
  {
   "cell_type": "code",
   "execution_count": 46,
   "metadata": {},
   "outputs": [],
   "source": [
    "data_table = pd.DataFrame.from_dict({\"mae\": [mae], \n",
    "                                     \"mse\": [mse], \n",
    "                                     \"rmse\":[rmse],\n",
    "                                     \"r2\":[r2],\n",
    "                                     \"mape\":[mape]})"
   ]
  },
  {
   "cell_type": "code",
   "execution_count": 47,
   "metadata": {},
   "outputs": [
    {
     "data": {
      "text/html": [
       "<div>\n",
       "<style scoped>\n",
       "    .dataframe tbody tr th:only-of-type {\n",
       "        vertical-align: middle;\n",
       "    }\n",
       "\n",
       "    .dataframe tbody tr th {\n",
       "        vertical-align: top;\n",
       "    }\n",
       "\n",
       "    .dataframe thead th {\n",
       "        text-align: right;\n",
       "    }\n",
       "</style>\n",
       "<table border=\"1\" class=\"dataframe\">\n",
       "  <thead>\n",
       "    <tr style=\"text-align: right;\">\n",
       "      <th></th>\n",
       "      <th>mae</th>\n",
       "      <th>mse</th>\n",
       "      <th>rmse</th>\n",
       "      <th>r2</th>\n",
       "      <th>mape</th>\n",
       "    </tr>\n",
       "  </thead>\n",
       "  <tbody>\n",
       "    <tr>\n",
       "      <th>0</th>\n",
       "      <td>2.395139</td>\n",
       "      <td>14.06329</td>\n",
       "      <td>3.750105</td>\n",
       "      <td>0.929868</td>\n",
       "      <td>0.159007</td>\n",
       "    </tr>\n",
       "  </tbody>\n",
       "</table>\n",
       "</div>"
      ],
      "text/plain": [
       "        mae       mse      rmse        r2      mape\n",
       "0  2.395139  14.06329  3.750105  0.929868  0.159007"
      ]
     },
     "execution_count": 47,
     "metadata": {},
     "output_type": "execute_result"
    }
   ],
   "source": [
    "data_table"
   ]
  },
  {
   "cell_type": "code",
   "execution_count": 48,
   "metadata": {
    "lines_to_next_cell": 2
   },
   "outputs": [],
   "source": [
    "slope, intercept, r_value, p_value, std_err = stats.linregress(y_test, y_pred)"
   ]
  },
  {
   "cell_type": "code",
   "execution_count": 49,
   "metadata": {
    "lines_to_next_cell": 2,
    "scrolled": true
   },
   "outputs": [
    {
     "name": "stdout",
     "output_type": "stream",
     "text": [
      "Correlation coefficient (R): 0.9665 \n",
      "p-value : 4.51372091114103e-43\n",
      "Intercept: 2.9015\n",
      "Slope: 0.8756\n",
      "std_error: 0.0278\n"
     ]
    }
   ],
   "source": [
    "print(\"Correlation coefficient (R): {:.4f} \".format(r_value))\n",
    "print(\"p-value : {}\".format(p_value))\n",
    "print(\"Intercept: {:.4f}\".format(intercept))\n",
    "print(\"Slope: {:.4f}\".format(slope))\n",
    "print(\"std_error: {:.4f}\".format(std_err))"
   ]
  },
  {
   "cell_type": "code",
   "execution_count": 50,
   "metadata": {},
   "outputs": [
    {
     "data": {
      "text/plain": [
       "(56,)"
      ]
     },
     "execution_count": 50,
     "metadata": {},
     "output_type": "execute_result"
    }
   ],
   "source": [
    "regressor.feature_importances_.shape"
   ]
  },
  {
   "cell_type": "code",
   "execution_count": 51,
   "metadata": {},
   "outputs": [],
   "source": [
    "xnum_cols = list(zeolite_final.columns)\n",
    "xnum_cols.remove('Capacity')\n",
    "feature_importance = pd.DataFrame(data = {\"features\": xnum_cols, \"importance\":regressor.feature_importances_} )\n",
    "feature_importance.to_csv(\"RFX_feature_importance_v2.tsv\", sep = \"\\t\", index = False)"
   ]
  },
  {
   "cell_type": "code",
   "execution_count": 52,
   "metadata": {},
   "outputs": [
    {
     "data": {
      "text/plain": [
       "'C:\\\\Users\\\\DrewX\\\\Documents\\\\Project-Roger-Dodger\\\\Python-ML'"
      ]
     },
     "execution_count": 52,
     "metadata": {},
     "output_type": "execute_result"
    }
   ],
   "source": [
    "os.getcwd()"
   ]
  },
  {
   "cell_type": "code",
   "execution_count": 53,
   "metadata": {},
   "outputs": [],
   "source": [
    "#regressor.feature_importances_"
   ]
  },
  {
   "cell_type": "code",
   "execution_count": 54,
   "metadata": {},
   "outputs": [],
   "source": [
    "feature_importance[\"importance\"] = round(feature_importance[\"importance\"],5)"
   ]
  },
  {
   "cell_type": "code",
   "execution_count": 55,
   "metadata": {},
   "outputs": [
    {
     "data": {
      "text/plain": [
       "1.00002"
      ]
     },
     "execution_count": 55,
     "metadata": {},
     "output_type": "execute_result"
    }
   ],
   "source": [
    "sum(feature_importance.importance)"
   ]
  },
  {
   "cell_type": "code",
   "execution_count": 56,
   "metadata": {
    "scrolled": true
   },
   "outputs": [
    {
     "data": {
      "text/html": [
       "<div>\n",
       "<style scoped>\n",
       "    .dataframe tbody tr th:only-of-type {\n",
       "        vertical-align: middle;\n",
       "    }\n",
       "\n",
       "    .dataframe tbody tr th {\n",
       "        vertical-align: top;\n",
       "    }\n",
       "\n",
       "    .dataframe thead th {\n",
       "        text-align: right;\n",
       "    }\n",
       "</style>\n",
       "<table border=\"1\" class=\"dataframe\">\n",
       "  <thead>\n",
       "    <tr style=\"text-align: right;\">\n",
       "      <th></th>\n",
       "      <th>features</th>\n",
       "      <th>importance</th>\n",
       "    </tr>\n",
       "  </thead>\n",
       "  <tbody>\n",
       "    <tr>\n",
       "      <th>26</th>\n",
       "      <td>C_0</td>\n",
       "      <td>0.36144</td>\n",
       "    </tr>\n",
       "    <tr>\n",
       "      <th>27</th>\n",
       "      <td>oil_adsorbent_ratio</td>\n",
       "      <td>0.14297</td>\n",
       "    </tr>\n",
       "    <tr>\n",
       "      <th>28</th>\n",
       "      <td>Temp</td>\n",
       "      <td>0.08026</td>\n",
       "    </tr>\n",
       "    <tr>\n",
       "      <th>0</th>\n",
       "      <td>SA</td>\n",
       "      <td>0.08006</td>\n",
       "    </tr>\n",
       "    <tr>\n",
       "      <th>31</th>\n",
       "      <td>AgY</td>\n",
       "      <td>0.03629</td>\n",
       "    </tr>\n",
       "    <tr>\n",
       "      <th>24</th>\n",
       "      <td>chemical_hardness</td>\n",
       "      <td>0.03018</td>\n",
       "    </tr>\n",
       "    <tr>\n",
       "      <th>4</th>\n",
       "      <td>Si_Al</td>\n",
       "      <td>0.02988</td>\n",
       "    </tr>\n",
       "    <tr>\n",
       "      <th>19</th>\n",
       "      <td>R_Cu+</td>\n",
       "      <td>0.02355</td>\n",
       "    </tr>\n",
       "    <tr>\n",
       "      <th>8</th>\n",
       "      <td>Ce+4</td>\n",
       "      <td>0.02220</td>\n",
       "    </tr>\n",
       "    <tr>\n",
       "      <th>50</th>\n",
       "      <td>hexadecane</td>\n",
       "      <td>0.01830</td>\n",
       "    </tr>\n",
       "    <tr>\n",
       "      <th>23</th>\n",
       "      <td>dipole_moment</td>\n",
       "      <td>0.01473</td>\n",
       "    </tr>\n",
       "    <tr>\n",
       "      <th>32</th>\n",
       "      <td>CeY</td>\n",
       "      <td>0.01426</td>\n",
       "    </tr>\n",
       "    <tr>\n",
       "      <th>52</th>\n",
       "      <td>n-Heptane</td>\n",
       "      <td>0.01362</td>\n",
       "    </tr>\n",
       "    <tr>\n",
       "      <th>25</th>\n",
       "      <td>kinetic_diameter</td>\n",
       "      <td>0.01271</td>\n",
       "    </tr>\n",
       "    <tr>\n",
       "      <th>1</th>\n",
       "      <td>Vmicro</td>\n",
       "      <td>0.01173</td>\n",
       "    </tr>\n",
       "    <tr>\n",
       "      <th>14</th>\n",
       "      <td>x_Ce+4</td>\n",
       "      <td>0.01170</td>\n",
       "    </tr>\n",
       "    <tr>\n",
       "      <th>6</th>\n",
       "      <td>Ag+</td>\n",
       "      <td>0.00959</td>\n",
       "    </tr>\n",
       "    <tr>\n",
       "      <th>51</th>\n",
       "      <td>iso-octane</td>\n",
       "      <td>0.00904</td>\n",
       "    </tr>\n",
       "    <tr>\n",
       "      <th>7</th>\n",
       "      <td>Cu+</td>\n",
       "      <td>0.00877</td>\n",
       "    </tr>\n",
       "    <tr>\n",
       "      <th>34</th>\n",
       "      <td>CuAgY</td>\n",
       "      <td>0.00762</td>\n",
       "    </tr>\n",
       "    <tr>\n",
       "      <th>3</th>\n",
       "      <td>pore_size</td>\n",
       "      <td>0.00707</td>\n",
       "    </tr>\n",
       "    <tr>\n",
       "      <th>30</th>\n",
       "      <td>AgX</td>\n",
       "      <td>0.00644</td>\n",
       "    </tr>\n",
       "    <tr>\n",
       "      <th>2</th>\n",
       "      <td>Vmeso</td>\n",
       "      <td>0.00552</td>\n",
       "    </tr>\n",
       "    <tr>\n",
       "      <th>44</th>\n",
       "      <td>BT</td>\n",
       "      <td>0.00545</td>\n",
       "    </tr>\n",
       "    <tr>\n",
       "      <th>5</th>\n",
       "      <td>Na+</td>\n",
       "      <td>0.00474</td>\n",
       "    </tr>\n",
       "    <tr>\n",
       "      <th>53</th>\n",
       "      <td>n-Octane</td>\n",
       "      <td>0.00438</td>\n",
       "    </tr>\n",
       "    <tr>\n",
       "      <th>45</th>\n",
       "      <td>DBT</td>\n",
       "      <td>0.00418</td>\n",
       "    </tr>\n",
       "    <tr>\n",
       "      <th>35</th>\n",
       "      <td>CuCeY</td>\n",
       "      <td>0.00388</td>\n",
       "    </tr>\n",
       "    <tr>\n",
       "      <th>17</th>\n",
       "      <td>R_Na+</td>\n",
       "      <td>0.00387</td>\n",
       "    </tr>\n",
       "    <tr>\n",
       "      <th>29</th>\n",
       "      <td>AgCeY</td>\n",
       "      <td>0.00198</td>\n",
       "    </tr>\n",
       "    <tr>\n",
       "      <th>41</th>\n",
       "      <td>NiCeY</td>\n",
       "      <td>0.00175</td>\n",
       "    </tr>\n",
       "    <tr>\n",
       "      <th>46</th>\n",
       "      <td>TP</td>\n",
       "      <td>0.00169</td>\n",
       "    </tr>\n",
       "    <tr>\n",
       "      <th>22</th>\n",
       "      <td>R_Ni+2</td>\n",
       "      <td>0.00163</td>\n",
       "    </tr>\n",
       "    <tr>\n",
       "      <th>16</th>\n",
       "      <td>x_Ni+2</td>\n",
       "      <td>0.00161</td>\n",
       "    </tr>\n",
       "    <tr>\n",
       "      <th>18</th>\n",
       "      <td>R_Ag+</td>\n",
       "      <td>0.00113</td>\n",
       "    </tr>\n",
       "    <tr>\n",
       "      <th>40</th>\n",
       "      <td>NaY</td>\n",
       "      <td>0.00110</td>\n",
       "    </tr>\n",
       "    <tr>\n",
       "      <th>43</th>\n",
       "      <td>clinoptilolite</td>\n",
       "      <td>0.00097</td>\n",
       "    </tr>\n",
       "    <tr>\n",
       "      <th>12</th>\n",
       "      <td>x_Ag+</td>\n",
       "      <td>0.00080</td>\n",
       "    </tr>\n",
       "    <tr>\n",
       "      <th>54</th>\n",
       "      <td>n-heptane</td>\n",
       "      <td>0.00067</td>\n",
       "    </tr>\n",
       "    <tr>\n",
       "      <th>10</th>\n",
       "      <td>Ni+2</td>\n",
       "      <td>0.00049</td>\n",
       "    </tr>\n",
       "    <tr>\n",
       "      <th>47</th>\n",
       "      <td>1-octane</td>\n",
       "      <td>0.00046</td>\n",
       "    </tr>\n",
       "    <tr>\n",
       "      <th>39</th>\n",
       "      <td>MCM-22</td>\n",
       "      <td>0.00037</td>\n",
       "    </tr>\n",
       "    <tr>\n",
       "      <th>38</th>\n",
       "      <td>CuY</td>\n",
       "      <td>0.00037</td>\n",
       "    </tr>\n",
       "    <tr>\n",
       "      <th>13</th>\n",
       "      <td>x_Cu+</td>\n",
       "      <td>0.00028</td>\n",
       "    </tr>\n",
       "    <tr>\n",
       "      <th>21</th>\n",
       "      <td>R_Cs+2</td>\n",
       "      <td>0.00010</td>\n",
       "    </tr>\n",
       "    <tr>\n",
       "      <th>55</th>\n",
       "      <td>n-octane</td>\n",
       "      <td>0.00006</td>\n",
       "    </tr>\n",
       "    <tr>\n",
       "      <th>37</th>\n",
       "      <td>CuX</td>\n",
       "      <td>0.00005</td>\n",
       "    </tr>\n",
       "    <tr>\n",
       "      <th>33</th>\n",
       "      <td>CsY</td>\n",
       "      <td>0.00004</td>\n",
       "    </tr>\n",
       "    <tr>\n",
       "      <th>9</th>\n",
       "      <td>Cs+2</td>\n",
       "      <td>0.00003</td>\n",
       "    </tr>\n",
       "    <tr>\n",
       "      <th>11</th>\n",
       "      <td>x_Na+</td>\n",
       "      <td>0.00001</td>\n",
       "    </tr>\n",
       "    <tr>\n",
       "      <th>42</th>\n",
       "      <td>NiY</td>\n",
       "      <td>0.00000</td>\n",
       "    </tr>\n",
       "    <tr>\n",
       "      <th>36</th>\n",
       "      <td>CuHY</td>\n",
       "      <td>0.00000</td>\n",
       "    </tr>\n",
       "    <tr>\n",
       "      <th>48</th>\n",
       "      <td>cyclohexane</td>\n",
       "      <td>0.00000</td>\n",
       "    </tr>\n",
       "    <tr>\n",
       "      <th>49</th>\n",
       "      <td>ether</td>\n",
       "      <td>0.00000</td>\n",
       "    </tr>\n",
       "    <tr>\n",
       "      <th>15</th>\n",
       "      <td>x_Cs+2</td>\n",
       "      <td>0.00000</td>\n",
       "    </tr>\n",
       "    <tr>\n",
       "      <th>20</th>\n",
       "      <td>R_Ce+4</td>\n",
       "      <td>0.00000</td>\n",
       "    </tr>\n",
       "  </tbody>\n",
       "</table>\n",
       "</div>"
      ],
      "text/plain": [
       "               features  importance\n",
       "26                  C_0     0.36144\n",
       "27  oil_adsorbent_ratio     0.14297\n",
       "28                 Temp     0.08026\n",
       "0                    SA     0.08006\n",
       "31                  AgY     0.03629\n",
       "24    chemical_hardness     0.03018\n",
       "4                 Si_Al     0.02988\n",
       "19                R_Cu+     0.02355\n",
       "8                  Ce+4     0.02220\n",
       "50           hexadecane     0.01830\n",
       "23        dipole_moment     0.01473\n",
       "32                  CeY     0.01426\n",
       "52            n-Heptane     0.01362\n",
       "25    kinetic_diameter      0.01271\n",
       "1                Vmicro     0.01173\n",
       "14               x_Ce+4     0.01170\n",
       "6                   Ag+     0.00959\n",
       "51           iso-octane     0.00904\n",
       "7                   Cu+     0.00877\n",
       "34                CuAgY     0.00762\n",
       "3             pore_size     0.00707\n",
       "30                  AgX     0.00644\n",
       "2                 Vmeso     0.00552\n",
       "44                   BT     0.00545\n",
       "5                   Na+     0.00474\n",
       "53             n-Octane     0.00438\n",
       "45                  DBT     0.00418\n",
       "35                CuCeY     0.00388\n",
       "17                R_Na+     0.00387\n",
       "29                AgCeY     0.00198\n",
       "41                NiCeY     0.00175\n",
       "46                   TP     0.00169\n",
       "22               R_Ni+2     0.00163\n",
       "16               x_Ni+2     0.00161\n",
       "18                R_Ag+     0.00113\n",
       "40                  NaY     0.00110\n",
       "43       clinoptilolite     0.00097\n",
       "12                x_Ag+     0.00080\n",
       "54            n-heptane     0.00067\n",
       "10                 Ni+2     0.00049\n",
       "47             1-octane     0.00046\n",
       "39               MCM-22     0.00037\n",
       "38                  CuY     0.00037\n",
       "13                x_Cu+     0.00028\n",
       "21               R_Cs+2     0.00010\n",
       "55             n-octane     0.00006\n",
       "37                  CuX     0.00005\n",
       "33                  CsY     0.00004\n",
       "9                  Cs+2     0.00003\n",
       "11                x_Na+     0.00001\n",
       "42                  NiY     0.00000\n",
       "36                 CuHY     0.00000\n",
       "48          cyclohexane     0.00000\n",
       "49                ether     0.00000\n",
       "15               x_Cs+2     0.00000\n",
       "20               R_Ce+4     0.00000"
      ]
     },
     "execution_count": 56,
     "metadata": {},
     "output_type": "execute_result"
    }
   ],
   "source": [
    "feature_importance.sort_values(\"importance\", ascending=False)"
   ]
  },
  {
   "cell_type": "code",
   "execution_count": 57,
   "metadata": {},
   "outputs": [
    {
     "data": {
      "text/plain": [
       "False"
      ]
     },
     "execution_count": 57,
     "metadata": {},
     "output_type": "execute_result"
    }
   ],
   "source": [
    "feature_importance['features'] in []"
   ]
  },
  {
   "cell_type": "code",
   "execution_count": 58,
   "metadata": {},
   "outputs": [],
   "source": [
    "result = permutation_importance(regressor, X_train, y_train)"
   ]
  },
  {
   "cell_type": "code",
   "execution_count": 59,
   "metadata": {},
   "outputs": [],
   "source": [
    "#result.importances_mean"
   ]
  },
  {
   "cell_type": "code",
   "execution_count": 60,
   "metadata": {},
   "outputs": [],
   "source": [
    "#feature_importance_PI = pd.DataFrame(data = {\"features\":zeolite_final.drop([\"Capacity\"], axis = 1).columns, \n",
    "#                                          \"importance_mean\":result.importances_mean,\n",
    "#                                          \"importance_std\": result.importances_std} )\n",
    "#feature_importance_PI.to_csv(\"RF_feature_importance_PI.tsv\", sep = \"\\t\", index = False)"
   ]
  },
  {
   "cell_type": "code",
   "execution_count": 61,
   "metadata": {},
   "outputs": [],
   "source": [
    "#?result.importances_mean"
   ]
  },
  {
   "cell_type": "code",
   "execution_count": 62,
   "metadata": {},
   "outputs": [],
   "source": [
    "#feature_importance_PI[\"importance_mean\"] = round(feature_importance_PI[\"importance_mean\"], 5)"
   ]
  },
  {
   "cell_type": "code",
   "execution_count": 63,
   "metadata": {},
   "outputs": [],
   "source": [
    "#feature_importance_PI.sort_values(\"importance_mean\", ascending=False)"
   ]
  },
  {
   "cell_type": "code",
   "execution_count": 64,
   "metadata": {},
   "outputs": [],
   "source": [
    "#https://towardsdatascience.com/hyperparameter-tuning-the-random-forest-in-python-using-scikit-learn-28d2aa77dd74\n",
    "# Number of trees in random forest\n",
    "n_estimators = list(range(8,9))\n",
    "# Number of features to consider at every split\n",
    "max_features = list(range(30,31))\n",
    "# Maximum number of levels in tree\n",
    "max_depth = [int(x) for x in np.linspace(20, 40, num = 10)]\n",
    "max_depth.append(None)\n",
    "# Minimum number of samples required to split a node\n",
    "min_samples_split = [1, 2, 4]\n",
    "# Minimum number of samples required at each leaf node\n",
    "min_samples_leaf = [1, 2, 4]\n",
    "# Method of selecting samples for training each tree"
   ]
  },
  {
   "cell_type": "code",
   "execution_count": 65,
   "metadata": {},
   "outputs": [],
   "source": [
    "# Create the random grid\n",
    "random_grid = {'n_estimators': n_estimators,\n",
    "               'max_features': max_features,\n",
    "               'max_depth': max_depth,\n",
    "               'min_samples_split': min_samples_split,\n",
    "               'min_samples_leaf': min_samples_leaf}"
   ]
  },
  {
   "cell_type": "code",
   "execution_count": 66,
   "metadata": {},
   "outputs": [],
   "source": [
    "#random_grid"
   ]
  },
  {
   "cell_type": "code",
   "execution_count": 67,
   "metadata": {},
   "outputs": [
    {
     "name": "stderr",
     "output_type": "stream",
     "text": [
      "C:\\Users\\DrewX\\.conda\\envs\\py3k\\lib\\site-packages\\sklearn\\model_selection\\_search.py:285: UserWarning: The total space of parameters 99 is smaller than n_iter=100000. Running 99 iterations. For exhaustive searches, use GridSearchCV.\n",
      "  warnings.warn(\n"
     ]
    },
    {
     "name": "stdout",
     "output_type": "stream",
     "text": [
      "Fitting 10 folds for each of 99 candidates, totalling 990 fits\n"
     ]
    },
    {
     "name": "stderr",
     "output_type": "stream",
     "text": [
      "C:\\Users\\DrewX\\.conda\\envs\\py3k\\lib\\site-packages\\sklearn\\model_selection\\_search.py:918: UserWarning: One or more of the test scores are non-finite: [       nan 0.90893916 0.89343           nan 0.89943016 0.89166089\n",
      "        nan 0.85818923 0.87057151        nan 0.9140384  0.89413298\n",
      "        nan 0.90164266 0.89521268        nan 0.88597717 0.87124467\n",
      "        nan 0.90885434 0.90757481        nan 0.89757326 0.90207029\n",
      "        nan 0.87815167 0.87579068        nan 0.90348271 0.9040391\n",
      "        nan 0.89618552 0.90841542        nan 0.88608418 0.8694007\n",
      "        nan 0.9120963  0.90791729        nan 0.89408853 0.89679883\n",
      "        nan 0.87718008 0.86872206        nan 0.90967403 0.89890125\n",
      "        nan 0.89008135 0.90481779        nan 0.86752368 0.86880123\n",
      "        nan 0.90878853 0.90665372        nan 0.89012829 0.88609382\n",
      "        nan 0.87231041 0.86867114        nan 0.9119519  0.88449576\n",
      "        nan 0.88807459 0.90034186        nan 0.86504874 0.87439218\n",
      "        nan 0.91067195 0.90858835        nan 0.9004144  0.90430373\n",
      "        nan 0.85765739 0.87065145        nan 0.89972696 0.9070468\n",
      "        nan 0.89747789 0.88945968        nan 0.87683192 0.87186306\n",
      "        nan 0.91125355 0.90722438        nan 0.89390141 0.89412593\n",
      "        nan 0.87538655 0.88259658]\n",
      "  warnings.warn(\n"
     ]
    },
    {
     "data": {
      "text/plain": [
       "RandomizedSearchCV(cv=10, estimator=RandomForestRegressor(), n_iter=100000,\n",
       "                   n_jobs=-1,\n",
       "                   param_distributions={'max_depth': [20, 22, 24, 26, 28, 31,\n",
       "                                                      33, 35, 37, 40, None],\n",
       "                                        'max_features': [30],\n",
       "                                        'min_samples_leaf': [1, 2, 4],\n",
       "                                        'min_samples_split': [1, 2, 4],\n",
       "                                        'n_estimators': [8]},\n",
       "                   random_state=1000, verbose=2)"
      ]
     },
     "execution_count": 67,
     "metadata": {},
     "output_type": "execute_result"
    }
   ],
   "source": [
    "# Use the random grid to search for best hyperparameters\n",
    "# First create the base model to tune\n",
    "rf = RandomForestRegressor()\n",
    "# Random search of parameters, using 3 fold cross validation, \n",
    "# search across 100 different combinations, and use all available cores\n",
    "rf_random = RandomizedSearchCV(estimator = rf, param_distributions = random_grid, n_iter = 100000, cv = 10, verbose=2, random_state=1000, n_jobs = -1)\n",
    "# Fit the random search mode\n",
    "rf_random.fit(X_train, y_train)"
   ]
  },
  {
   "cell_type": "code",
   "execution_count": 68,
   "metadata": {},
   "outputs": [
    {
     "data": {
      "text/plain": [
       "{'n_estimators': 8,\n",
       " 'min_samples_split': 2,\n",
       " 'min_samples_leaf': 1,\n",
       " 'max_features': 30,\n",
       " 'max_depth': 22}"
      ]
     },
     "execution_count": 68,
     "metadata": {},
     "output_type": "execute_result"
    }
   ],
   "source": [
    "rf_random.best_params_"
   ]
  },
  {
   "cell_type": "markdown",
   "metadata": {},
   "source": [
    "#best_random = rf_random.best_estimator_\n",
    "#random_accuracy = evaluate(best_random, X_train, y_train)"
   ]
  }
 ],
 "metadata": {
  "jupytext": {
   "formats": "ipynb,py"
  },
  "kernelspec": {
   "display_name": "Python 3",
   "language": "python",
   "name": "python3"
  },
  "language_info": {
   "codemirror_mode": {
    "name": "ipython",
    "version": 3
   },
   "file_extension": ".py",
   "mimetype": "text/x-python",
   "name": "python",
   "nbconvert_exporter": "python",
   "pygments_lexer": "ipython3",
   "version": "3.8.5"
  }
 },
 "nbformat": 4,
 "nbformat_minor": 4
}
